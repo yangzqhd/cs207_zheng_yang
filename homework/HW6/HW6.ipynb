{
 "cells": [
  {
   "cell_type": "markdown",
   "metadata": {},
   "source": [
    "# Homework 6\n",
    "\n",
    "## Due Thursday, November 15th 2018 at 11:59 PM.\n",
    "\n",
    "### Be sure to push the final version of your notebook to your GitHub repo.  Follow the instructions on the course website.\n",
    "\n",
    "### Topics\n",
    "####  [Part 1](#part_1):  Binary Search Tree (BST) [25 points]\n",
    "- [Problem 1](#p1.1). BST Traversal[25 points]\n",
    "\n",
    "####  [Part 2](#part_2):  Markov Chain Iterators [20 points]\n",
    "- [Problem 1](#p2.1). Markov Chain Iterators [10 points]\n",
    "- [Problem 2](#p2.2). Prediction using Markov Chain. [10 points]\n",
    "\n",
    "####  [Part 3](#part_3):  Evaluation [5 pts]\n",
    "\n",
    "---"
   ]
  },
  {
   "cell_type": "markdown",
   "metadata": {},
   "source": [
    "<a id='part_1'></a>\n",
    "# Part 1:  BST Traversal\n",
    "\n",
    "<a id='p1.1'></a>\n",
    "## Problem 1\n",
    "This problem builds on Problem 2 of Homework 5 in which you wrote a binary search tree.  This time, you will write a class to perform traversals of the BST.\n",
    "\n",
    "Write an iterator class called `DFSTraversal` with the following specifications:\n",
    "\n",
    "* `__init__(self, tree, traversalType)`: Constructor takes a `BinaryTree` object and one of the enums from `DFSTraversalTypes`\n",
    "\n",
    "```python\n",
    "from enum import Enum\n",
    "\n",
    "class DFSTraversalTypes(Enum):\n",
    "    PREORDER = 1\n",
    "    INORDER = 2\n",
    "    POSTORDER = 3\n",
    "```\n",
    "\n",
    "* `changeTraversalType(self, traversalType)`: Change the traversal type\n",
    "* `__iter__(self)`: This is the initialization of an iterator\n",
    "* `__next__(self)`: This is called in the iterator for getting the next value\n",
    "\n",
    "### Reminder\n",
    "In lecture, we discussed three types of depth-first traversal: preorder, inorder, and postorder.  In addition to the lecture notes, here is another reference: [Tree Traversal](https://en.wikipedia.org/wiki/Tree_traversal#Depth-first_search).\n",
    "\n",
    "### Demo of  `DFSTraveral`\n",
    "Here's how you might use your `DFSTraversal` class:\n",
    "\n",
    "```python\n",
    "input_array = [3, 9, 2, 11]\n",
    "bt = BinaryTree()\n",
    "for val in input_array:\n",
    "    bt.insert(val)\n",
    "traversal = DFSTraversal(bt, DFSTraversalTypes.INORDER)\n",
    "for val in traversal:\n",
    "    print(val)\n",
    "2\n",
    "3\n",
    "9\n",
    "11\n",
    "```\n",
    "\n",
    "\n",
    "#### Put your `BinaryTree` class (from homework 5) and your `DFSTraversal` class in a file titled `TreeTraversal.py`. Failure to follow this instruction will result in point deduction.  We provide a skeleton class below.\n",
    "\n",
    "***IMPORTANT***\n",
    "\n",
    "You should start from your own `BinaryTree` class (from HW5).  However, if parts of your implementation from HW5 were incorrect, you may use the methods from the solution we provided."
   ]
  },
  {
   "cell_type": "markdown",
   "metadata": {
    "collapsed": true
   },
   "source": [
    "```python\n",
    "class DFSTraversal():\n",
    "    def __init__(self, tree, traversalType):\n",
    "        # implement here\n",
    "\n",
    "    def changeTraversalType(self, traversalType):\n",
    "        # implement here\n",
    "        \n",
    "    def __iter__(self):\n",
    "        # implement here\n",
    "     \n",
    "    def __next__(self):\n",
    "        # implement here\n",
    "    \n",
    "    def inorder(self, bt):\n",
    "        # implement here\n",
    "        # bt is an instance of BinaryTree class from previous hw\n",
    "        return\n",
    "\n",
    "    def preorder(self, bt):\n",
    "        # implement here\n",
    "        # bt is an instance of BinaryTree class from previous hw\n",
    "        return\n",
    "    \n",
    "    def postorder(self, bt):\n",
    "        # implement here\n",
    "        # bt is an instance of BinaryTree class from previous hw\n",
    "        return\n",
    "```"
   ]
  },
  {
   "cell_type": "code",
   "execution_count": 2,
   "metadata": {
    "collapsed": true
   },
   "outputs": [],
   "source": [
    "class Node:\n",
    "    def __init__(self, val):\n",
    "        self.val = val\n",
    "        self.left = None\n",
    "        self.right = None\n",
    "\n",
    "class BinaryTree:\n",
    "    def __init__(self):\n",
    "        self.root = None\n",
    "    \n",
    "    def insert(self, val):\n",
    "        if self.root:\n",
    "            self.insert_recursion(val, self.root)\n",
    "        else:\n",
    "            self.root = Node(val)          \n",
    "            \n",
    "    def insert_recursion(self, val, node):\n",
    "        if val < node.val:\n",
    "            if node.left:\n",
    "                self.insert_recursion(val, node.left)\n",
    "            else:\n",
    "                node.left = Node(val)\n",
    "        else:\n",
    "            if node.right:\n",
    "                self.insert_recursion(val, node.right)\n",
    "            else:\n",
    "                node.right = Node(val)\n",
    "\n",
    "    def getValues(self, depth):\n",
    "        prev = [self.root]\n",
    "        d = 0\n",
    "        while d < depth:\n",
    "            curr = []\n",
    "            for i in prev:\n",
    "                if i:\n",
    "                    curr.append(i.left)\n",
    "                    curr.append(i.right)\n",
    "                else:\n",
    "                    curr.append(None)\n",
    "                    curr.append(None)\n",
    "            d +=1\n",
    "            if all(curr) is None:\n",
    "                raise ValueError(\"Invalid depth.\")\n",
    "            prev = curr\n",
    "        ans = []\n",
    "        for j in prev:\n",
    "            if j:\n",
    "                ans.append(j.val)\n",
    "            else:\n",
    "                ans.append(None)\n",
    "        return ans\n",
    "    \n",
    "    def remove(self, val):\n",
    "        curr = self.root\n",
    "        left = True\n",
    "        prev = None\n",
    "        while val != curr.val:\n",
    "            prev = curr\n",
    "            if val < curr.val:\n",
    "                curr = curr.left\n",
    "            else:\n",
    "                left = False\n",
    "                curr = curr.right\n",
    "        if (not curr.left) and (not curr.right):\n",
    "            if left:\n",
    "                prev.left = None\n",
    "            else:\n",
    "                prev.right = None\n",
    "        elif curr.left and (not curr.right):\n",
    "            if left:\n",
    "                prev.left = curr.left\n",
    "            else:\n",
    "                prev.right = curr.left\n",
    "        elif (not curr.left) and curr.right:\n",
    "            if left:\n",
    "                prev.left = curr.right\n",
    "            else:\n",
    "                prev.right = curr.right\n",
    "        else:\n",
    "            prev = curr\n",
    "            curr = curr.left\n",
    "            temp = None\n",
    "            while curr.right:\n",
    "                temp = curr\n",
    "                curr = curr.right\n",
    "            prev.val = curr.val\n",
    "            if temp:\n",
    "                temp.right = None"
   ]
  },
  {
   "cell_type": "code",
   "execution_count": 4,
   "metadata": {
    "collapsed": true
   },
   "outputs": [],
   "source": [
    "from enum import Enum\n",
    "\n",
    "class DFSTraversalTypes(Enum):\n",
    "    PREORDER = 1\n",
    "    INORDER = 2\n",
    "    POSTORDER = 3"
   ]
  },
  {
   "cell_type": "code",
   "execution_count": 11,
   "metadata": {
    "collapsed": true
   },
   "outputs": [],
   "source": [
    "class DFSTraversal():\n",
    "    def __init__(self, tree, traversalType):\n",
    "        # implement here\n",
    "        self.index = 0\n",
    "        self.res = []\n",
    "        self.traversalType = traversalType\n",
    "        if self.traversalType == DFSTraversalTypes.INORDER:\n",
    "            self.inorder(tree.root)\n",
    "        if self.traversalType == DFSTraversalTypes.PREORDER:\n",
    "            self.preorder(tree.root)\n",
    "        if self.traversalType == DFSTraversalTypes.POSTORDER:\n",
    "            self.postorder(tree.root)\n",
    "\n",
    "    def changeTraversalType(self, traversalType):\n",
    "        # implement here\n",
    "        self.traversalType = traversalType\n",
    "        \n",
    "    def __iter__(self):\n",
    "        # implement here\n",
    "        return self\n",
    "     \n",
    "    def __next__(self):\n",
    "        # implement here\n",
    "        try:\n",
    "            value = self.res[self.index]\n",
    "        except IndexError:\n",
    "            raise StopIteration() \n",
    "        self.index += 1\n",
    "        return value\n",
    "    \n",
    "    def inorder(self, bt):\n",
    "        # implement here\n",
    "        # bt is an instance of BinaryTree class from previous hw\n",
    "        if not bt:\n",
    "            return\n",
    "        self.inorder(bt.left)\n",
    "        self.res.append(bt.val)\n",
    "        self.inorder(bt.right)\n",
    "        return\n",
    "\n",
    "    def preorder(self, bt):\n",
    "        # implement here\n",
    "        # bt is an instance of BinaryTree class from previous hw\n",
    "        if not bt:\n",
    "            return\n",
    "        if not bt:\n",
    "            return\n",
    "        self.res.append(bt.val)\n",
    "        self.inorder(bt.left)\n",
    "        self.inorder(bt.right)\n",
    "        return\n",
    "    \n",
    "    def postorder(self, bt):\n",
    "        # implement here\n",
    "        # bt is an instance of BinaryTree class from previous hw\n",
    "        if not bt:\n",
    "            return\n",
    "        self.inorder(bt.left)\n",
    "        self.inorder(bt.right)\n",
    "        self.res.append(bt.val)\n",
    "        return "
   ]
  },
  {
   "cell_type": "code",
   "execution_count": 12,
   "metadata": {},
   "outputs": [
    {
     "name": "stdout",
     "output_type": "stream",
     "text": [
      "2\n",
      "3\n",
      "9\n",
      "11\n"
     ]
    }
   ],
   "source": [
    "input_array = [3, 9, 2, 11]\n",
    "bt = BinaryTree()\n",
    "for val in input_array:\n",
    "    bt.insert(val)\n",
    "traversal = DFSTraversal(bt, DFSTraversalTypes.INORDER)\n",
    "for val in traversal:\n",
    "    print(val)"
   ]
  },
  {
   "cell_type": "code",
   "execution_count": 13,
   "metadata": {},
   "outputs": [
    {
     "name": "stdout",
     "output_type": "stream",
     "text": [
      "3\n",
      "2\n",
      "9\n",
      "11\n"
     ]
    }
   ],
   "source": [
    "traversal = DFSTraversal(bt, DFSTraversalTypes.PREORDER)\n",
    "for val in traversal:\n",
    "    print(val)"
   ]
  },
  {
   "cell_type": "code",
   "execution_count": 14,
   "metadata": {},
   "outputs": [
    {
     "name": "stdout",
     "output_type": "stream",
     "text": [
      "2\n",
      "9\n",
      "11\n",
      "3\n"
     ]
    }
   ],
   "source": [
    "traversal = DFSTraversal(bt, DFSTraversalTypes.POSTORDER)\n",
    "for val in traversal:\n",
    "    print(val)"
   ]
  },
  {
   "cell_type": "markdown",
   "metadata": {},
   "source": [
    "<a id='part_2'></a>\n",
    "# Part 2: Iterators"
   ]
  },
  {
   "cell_type": "markdown",
   "metadata": {},
   "source": [
    "Iterators are a convenient way to walk along your Markov chain.\n",
    "\n",
    "<a id='p2.1'></a>\n",
    "## Problem 1: \n",
    "Using your `Markov` class from the previous homework (HW5, problem 3), write `Markov` as an iterator by implementing the `__iter__()` and `__next__()` methods.\n",
    "\n",
    "**Remember:** \n",
    "* `__iter__()` should return the iterator object.\n",
    "* The `__next()__` method should return the next value.\n",
    "  - Each 'next' step should be stochastic (i.e. randomly selected based on the relative probabilities of the following day weather types) and should return the next day's weather as a string (e.g. \"sunny\") rather than an index (e.g. 0).\n",
    "\n",
    "#### Hints\n",
    "* You may want to use `np.random.choice()` in your `__next__()` implementation.  Note that `np.random.choice()` allows you to specify an array (called `a` in the documentation) from which to generate samples.  `np.random.choice()` also takes an argument (called `p` in the documentation) that associates a probability with each entry in `a`.\n",
    "\n",
    "We provide a skeleton class. Please be sure to fill out every method below.\n",
    "\n",
    "***IMPORTANT***\n",
    "\n",
    "You should start from your own `Markov` class (from HW5).  However, if parts of your implementation from HW5 were incorrect, you may use the methods from the solution we provided."
   ]
  },
  {
   "cell_type": "markdown",
   "metadata": {
    "collapsed": true
   },
   "source": [
    "```python\n",
    "import random\n",
    "\n",
    "class Markov:\n",
    "    def __init__(self, first_day):\n",
    "        # implement here. You may copy and paste from previous homework\n",
    "            \n",
    "    def load_data(self, array):\n",
    "        # implement here. You may copy and paste from previous homework\n",
    "    \n",
    "    def get_prob(self, previous_day, following_day):\n",
    "        # implement here. You may copy and paste from previous homework\n",
    "        # Returns a probability\n",
    "    \n",
    "    def __iter__(self):\n",
    "        # implement your iter method here\n",
    "        # should return the iterator object\n",
    "    \n",
    "    def __next__(self):        \n",
    "        # Implement your __next__ here\n",
    "        # method should return the next value.\n",
    "```"
   ]
  },
  {
   "cell_type": "code",
   "execution_count": 58,
   "metadata": {
    "collapsed": true
   },
   "outputs": [],
   "source": [
    "import numpy as np \n",
    "import random\n",
    "\n",
    "class Markov:\n",
    "    def __init__(self, first_day):\n",
    "        self.weather = {'sunny':0, 'cloudy':1, 'rainy':2, \n",
    "                        'snowy':3, 'windy':4, 'hailing':5}\n",
    "        self.dat = np.array([])\n",
    "        self.prev = first_day\n",
    "    \n",
    "    def load_data(self, array):\n",
    "        self.dat = array\n",
    "    \n",
    "    def get_prob(self, previous_day, following_day):\n",
    "        return self.dat[self.weather[previous_day]][self.weather[following_day]]\n",
    "    \n",
    "    def __iter__(self):\n",
    "        # implement your iter method here\n",
    "        # should return the iterator object\n",
    "        return self\n",
    "\n",
    "    def __next__(self):        \n",
    "        # Implement your __next__ here\n",
    "        # method should return the next value.\n",
    "        rand = np.random.choice(6, 1, p = self.dat[self.weather[self.prev]])\n",
    "        for k, v in self.weather.items():\n",
    "            if v == rand:\n",
    "                self.prev = str(k)\n",
    "        return self.prev"
   ]
  },
  {
   "cell_type": "code",
   "execution_count": 59,
   "metadata": {},
   "outputs": [],
   "source": [
    "weather_prob = np.genfromtxt('../HW5/weather.csv', delimiter=',')\n",
    "weathers = Markov('sunny')\n",
    "weathers.load_data(weather_prob)"
   ]
  },
  {
   "cell_type": "code",
   "execution_count": 61,
   "metadata": {},
   "outputs": [
    {
     "data": {
      "text/plain": [
       "'rainy'"
      ]
     },
     "execution_count": 61,
     "metadata": {},
     "output_type": "execute_result"
    }
   ],
   "source": [
    "next(weathers)"
   ]
  },
  {
   "cell_type": "code",
   "execution_count": 62,
   "metadata": {},
   "outputs": [
    {
     "data": {
      "text/plain": [
       "'sunny'"
      ]
     },
     "execution_count": 62,
     "metadata": {},
     "output_type": "execute_result"
    }
   ],
   "source": [
    "next(weathers)"
   ]
  },
  {
   "cell_type": "markdown",
   "metadata": {},
   "source": [
    "<a id='p2.2'></a>\n",
    "## Problem 2\n",
    "We want to predict what weather will be like in a week for 5 different cities.  Now that we have our `Markov` iterator, we can try to predict what the weather will be like seven days from now.\n",
    "\n",
    "#### Your Task\n",
    "Given each city's current weather (provided in the dictionary `city_weather` below), simulate what the weather will be like 7 days from now.  Rather than just producing one prediction per city, simulate 100 such predictions per city and store the most commonly occuring prediction.\n",
    "\n",
    "#### New methods in your class\n",
    "* `get_weather_for_day(self, day)`:  `day` is an integer representing how far from the current day we want to predict.  For example, if we want to predict the weather 5 days from now, `day` would be equal to 5.\n",
    "\n",
    "#### Outputs\n",
    "In your submission, print a dictionary `city_weather_predictions` that has each city as a key and the most commonly predicted weather (as a string) as the corresponding value.\n",
    "\n",
    "**Note**: Don't worry if your values don't seem to make intuitive sense.  We made up the weather probabilities."
   ]
  },
  {
   "cell_type": "code",
   "execution_count": 86,
   "metadata": {
    "collapsed": true
   },
   "outputs": [],
   "source": [
    "city_weather = {\n",
    "    'New York': 'rainy',\n",
    "    'Chicago': 'snowy',\n",
    "    'Seattle': 'rainy',\n",
    "    'Boston': 'hailing',\n",
    "    'Miami': 'windy',\n",
    "    'Los Angeles': 'cloudy',\n",
    "    'San Fransisco': 'windy'\n",
    "}"
   ]
  },
  {
   "cell_type": "code",
   "execution_count": 87,
   "metadata": {},
   "outputs": [],
   "source": [
    "import itertools\n",
    "import operator\n",
    "class Markov:\n",
    "    def __init__(self, first_day):\n",
    "        self.weather = {'sunny':0, 'cloudy':1, 'rainy':2, \n",
    "                        'snowy':3, 'windy':4, 'hailing':5}\n",
    "        self.dat = np.array([])\n",
    "        self.prev = first_day\n",
    "    \n",
    "    def load_data(self, array):\n",
    "        self.dat = array\n",
    "    \n",
    "    def get_prob(self, previous_day, following_day):\n",
    "        return self.dat[self.weather[previous_day]][self.weather[following_day]]\n",
    "    \n",
    "    def __iter__(self):\n",
    "        # implement your iter method here\n",
    "        # should return the iterator object\n",
    "        return self\n",
    "\n",
    "    def __next__(self):        \n",
    "        # Implement your __next__ here\n",
    "        # method should return the next value.\n",
    "        rand = np.random.choice(6, 1, p = self.dat[self.weather[self.prev]])\n",
    "        for k, v in self.weather.items():\n",
    "            if v == rand:\n",
    "                self.prev = str(k)\n",
    "        return self.prev\n",
    "    \n",
    "    def get_weather_for_day(self, day):\n",
    "        \n",
    "        #method for getting the most common accuring prediction\n",
    "        def most_common(L):\n",
    "            # get an iterable of (item, iterable) pairs\n",
    "            SL = sorted((x, i) for i, x in enumerate(L))\n",
    "            groups = itertools.groupby(SL, key=operator.itemgetter(0))\n",
    "            # auxiliary function to get \"quality\" for an item\n",
    "            def _auxfun(g):\n",
    "                item, iterable = g\n",
    "                count = 0\n",
    "                min_index = len(L)\n",
    "                for _, where in iterable:\n",
    "                    count += 1\n",
    "                    min_index = min(min_index, where)\n",
    "                return count, -min_index\n",
    "            # pick the highest-count/earliest item\n",
    "            return max(groups, key=_auxfun)[0]\n",
    "        \n",
    "        day_weather_list = []\n",
    "        for i in range(100):\n",
    "            for i in range(day):\n",
    "                day_weather = self.__next__()\n",
    "            day_weather_list.append(day_weather)\n",
    "        weather_for_day = most_common(day_weather_list)\n",
    "        return weather_for_day"
   ]
  },
  {
   "cell_type": "code",
   "execution_count": 92,
   "metadata": {},
   "outputs": [],
   "source": [
    "city_weather_predictions = {}\n",
    "for k, v in city_weather.items():\n",
    "    weathers = Markov(v)\n",
    "    weathers.load_data(weather_prob)\n",
    "    city_weather_predictions[k] = weathers.get_weather_for_day(7)"
   ]
  },
  {
   "cell_type": "code",
   "execution_count": 93,
   "metadata": {},
   "outputs": [
    {
     "name": "stdout",
     "output_type": "stream",
     "text": [
      "{'New York': 'cloudy', 'Chicago': 'sunny', 'Seattle': 'cloudy', 'Boston': 'cloudy', 'Miami': 'cloudy', 'Los Angeles': 'rainy', 'San Fransisco': 'cloudy'}\n"
     ]
    }
   ],
   "source": [
    "print(city_weather_predictions)"
   ]
  },
  {
   "cell_type": "markdown",
   "metadata": {},
   "source": [
    "<a id='part_3'></a>\n",
    "\n",
    "# Part 3:  Peer Evaluations\n",
    "Your TF sent you a link to the `Milestone Peer Evaluation` form.  You must fill the form out as part of this homework.  Evaluate your group members based on their contributions to milestones 1 and 2.  Contributions here are not only intellectual contributions.  They also include receptivity to ideas from other group members and overall participation.\n",
    "\n",
    "**Instructions:**\n",
    "* Please review each member of your group.\n",
    "* You must review yourself.\n",
    "* Do not leave any question unanswered.  An unanswer question is recorded as a zero."
   ]
  }
 ],
 "metadata": {
  "kernelspec": {
   "display_name": "Python 3",
   "language": "python",
   "name": "python3"
  },
  "language_info": {
   "codemirror_mode": {
    "name": "ipython",
    "version": 3
   },
   "file_extension": ".py",
   "mimetype": "text/x-python",
   "name": "python",
   "nbconvert_exporter": "python",
   "pygments_lexer": "ipython3",
   "version": "3.6.1"
  }
 },
 "nbformat": 4,
 "nbformat_minor": 2
}
