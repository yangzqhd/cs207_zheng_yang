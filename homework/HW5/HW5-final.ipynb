{
 "cells": [
  {
   "cell_type": "markdown",
   "metadata": {},
   "source": [
    "# Homework 5\n",
    "\n",
    "## Due Thursday, November 1st 2018 at 11:59 PM.\n",
    "\n",
    "### Be sure to push the final version of your notebook to your GitHub repo.  Follow the instructions on the course website.\n",
    "\n",
    "### Topics\n",
    "#### [Part 1](#part_1): Data Structures [90 points]\n",
    "- [Problem 1](#p1). Linked List Class [30 points]\n",
    "- [Problem 2](#p2). Binary Tree Class [40 points]\n",
    "- [Problem 3](#p3). Markov Chains [20 point]\n",
    "\n",
    "#### [Part 2](#part_2): Feedback [10 point]\n",
    "- [Problem 4](#p4). Course Evaluation [10 point]\n",
    "\n",
    "---"
   ]
  },
  {
   "cell_type": "markdown",
   "metadata": {},
   "source": [
    "<a id='part_1'></a>\n",
    "## Part 1: Data Structures [90 points]\n",
    "<a id='p1'></a>\n",
    "### Problem 1:  Linked List Class\n",
    "\n",
    "Write a linked list class called `LinkedList`.  Remember, a singly linked list is made up of nodes each of which contain a value and a pointer.  The first node is called the \"head node\".\n",
    "\n",
    "Here are the required methods:\n",
    "* `__init__(self, head)` where `head` is the value of the head node.  You could make the head node an attribute.\n",
    "* `__len__(self)`: Returns the number of elements in the linked list.\n",
    "* `__getitem__(self, index)` returns the value of the node corresponding to `index`.  Include checks to make sure that `index` is not out of range and that the user is not trying to index an empty list.\n",
    "* `__repr__(self)` returns `LinkedList(head_node)`.\n",
    "* `insert_front(self, element)` inserts a new node with value `element` at the beginning of the list.\n",
    "* `insert_back(self, element)` inserts a new node with value `element` at the end of the list.\n",
    "\n",
    "**Note:**  An alternative implementation is to create a `Node` class.  You are not required to make a `Node` class but you may if you prefer that implementation.  Please don't steal that implementation from the online forums.  I've seen those too and we'll know if you copied them.\n",
    "\n",
    "\n",
    "#### Basic Interface\n",
    "Here are a few examples on the expected behavior. Please make sure that the methods you implemented behave similarly.\n",
    "\n",
    "1.\n",
    "```python\n",
    "ll = LinkedList(1.0)\n",
    "print(ll, len(ll), ll._headNode)\n",
    "```\n",
    "```\n",
    "`LinkedList(1.0) 1 [1.0, None]`\n",
    "```\n",
    "2.\n",
    "```python\n",
    "ll.insert_front(-1.0)\n",
    "print(ll, len(ll), ll._headNode)\n",
    "```\n",
    "```\n",
    "`LinkedList(-1.0) 2 [-1.0, [1.0, None]]`\n",
    "```\n",
    "3.\n",
    "```python\n",
    "ll.insert_back(3.0)\n",
    "print(ll, len(ll), ll._headNode)\n",
    "```\n",
    "```\n",
    "`LinkedList(-1.0) 3 [-1.0, [1.0, [3.0, None]]]`\n",
    "```\n",
    "4.\n",
    "```python\n",
    "print(ll[0], ll[1], ll[2])\n",
    "```\n",
    "```\n",
    "`-1.0 1.0 3.0`\n",
    "```\n",
    "5.\n",
    "```python\n",
    "eval(repr(ll))\n",
    "```\n",
    "```\n",
    "`LinkedList(-1.0)`\n",
    "```\n",
    "---"
   ]
  },
  {
   "cell_type": "code",
   "execution_count": 68,
   "metadata": {
    "collapsed": true
   },
   "outputs": [],
   "source": [
    "class Node:\n",
    "    def __init__(self, val):\n",
    "        self.val = val\n",
    "        self.next = None #linkedlist\n",
    "        \n",
    "class LinkedList:\n",
    "    \n",
    "    def __init__(self, head):\n",
    "        self.head = Node(head)\n",
    "        if self.head.next:\n",
    "            self._headNode = [self.head.val, self.head.next._headNode]\n",
    "        else:\n",
    "            self._headNode = [self.head.val, None]\n",
    "        self._tailNode = self._headNode\n",
    "        self.len = 1\n",
    "    \n",
    "    def __len__(self):\n",
    "        return self.len\n",
    "    \n",
    "    def __getitem__(self, index):\n",
    "        if index >= self.len: \n",
    "            raise ValueError('Out of range')\n",
    "        if self.len == 0: \n",
    "            raise ValueError('Empty list')\n",
    "        temp = self._headNode\n",
    "        for i in range(index):\n",
    "            if index < self.len:\n",
    "                temp = temp[-1]\n",
    "            else:\n",
    "                return None\n",
    "        return temp[0]\n",
    "        \n",
    "    def __repr__(self):\n",
    "        return 'LinkedList(' + str(self.head.val) + ')'\n",
    "    \n",
    "    def insert_front(self, element):\n",
    "        new_list = LinkedList(element)\n",
    "        new_list.head.next = self\n",
    "        self._headNode = [element, new_list.head.next._headNode]\n",
    "        self.head.val = new_list.head.val\n",
    "        self.len += 1\n",
    "        \n",
    "    def insert_back(self, element):\n",
    "        self._tailNode[-1] = [element, None]\n",
    "        self.len += 1"
   ]
  },
  {
   "cell_type": "code",
   "execution_count": 69,
   "metadata": {},
   "outputs": [
    {
     "name": "stdout",
     "output_type": "stream",
     "text": [
      "LinkedList(1.0) 1 [1.0, None]\n"
     ]
    }
   ],
   "source": [
    "ll = LinkedList(1.0)\n",
    "print(ll, len(ll), ll._headNode)"
   ]
  },
  {
   "cell_type": "code",
   "execution_count": 70,
   "metadata": {},
   "outputs": [
    {
     "name": "stdout",
     "output_type": "stream",
     "text": [
      "LinkedList(-1.0) 2 [-1.0, [1.0, None]]\n"
     ]
    }
   ],
   "source": [
    "ll.insert_front(-1.0)\n",
    "print(ll, len(ll), ll._headNode)"
   ]
  },
  {
   "cell_type": "code",
   "execution_count": 71,
   "metadata": {},
   "outputs": [
    {
     "name": "stdout",
     "output_type": "stream",
     "text": [
      "LinkedList(-1.0) 3 [-1.0, [1.0, [3.0, None]]]\n"
     ]
    }
   ],
   "source": [
    "ll.insert_back(3.0)\n",
    "print(ll, len(ll), ll._headNode)"
   ]
  },
  {
   "cell_type": "code",
   "execution_count": 72,
   "metadata": {},
   "outputs": [
    {
     "name": "stdout",
     "output_type": "stream",
     "text": [
      "-1.0 1.0 3.0\n"
     ]
    }
   ],
   "source": [
    "print(ll[0], ll[1], ll[2])"
   ]
  },
  {
   "cell_type": "code",
   "execution_count": 73,
   "metadata": {},
   "outputs": [
    {
     "data": {
      "text/plain": [
       "LinkedList(-1.0)"
      ]
     },
     "execution_count": 73,
     "metadata": {},
     "output_type": "execute_result"
    }
   ],
   "source": [
    "eval(repr(ll))"
   ]
  },
  {
   "cell_type": "markdown",
   "metadata": {},
   "source": [
    "<a id='p2'></a>\n",
    "### Problem 2:  Binary Tree Class\n",
    "\n",
    "A binary search tree is a binary tree with the invariant that for any particular node the left child is smaller and the right child is larger. Create the class `BinaryTree` with the following specifications:\n",
    "\n",
    "`__init__(self)`: Constructor takes no additional arguments\n",
    "\n",
    "`insert(self, val)`: This method will insert `val` into the tree\n",
    "\n",
    "`remove(self, val)`: This will remove `val` from the tree. If the node to be deleted has no children then just remove it. If the node to be deleted has only one child, remove the node and replace it with its child. If the node to be deleted has two children, replace the node to be deleted with the maximum value in the left subtree. Finally, delete the node with the maximum value in the left-subtree.\n",
    "\n",
    "`getValues(self, depth)`: Return a list of the entire row of nodes at the specified depth with `None` at the index if there is no value in the tree. The length of the list should therefore be $2^{\\text{depth}}$.\n",
    "\n",
    "Here is an example usage and output:\n",
    "\n",
    "```python\n",
    "bt = BinaryTree()\n",
    "arr = [20, 10, 17, 14, 3, 0]\n",
    "for i in arr:\n",
    "    bt.insert(i)\n",
    "\n",
    "print(\"Height of binary tree is {}.\\n\".format(len(bt)))\n",
    "for i in range(len(bt)):\n",
    "    print(\"Level {0} values: {1}\".format(i, bt.getValues(i)))\n",
    "```\n",
    "\n",
    "```\n",
    "Height of binary tree is 4.\n",
    "\n",
    "Level 0 values: [20]\n",
    "Level 1 values: [10, None]\n",
    "Level 2 values: [3, 17, None, None]\n",
    "Level 3 values: [0, None, 14, None, None, None, None, None]\n",
    "```\n",
    "\n",
    "Note that you do not need to format your output in this way.  Nor are you required to implement a `__len__` method to compute the height of the tree.  I did this because it was convenient for illustration purposes.  This example is simply meant to show you some output at each level of the tree.\n",
    "\n",
    "#### Please provide a demo for your binary tree class. You should show how you will use each class method you have implemented and print out the tree as shown in the sample output.\n",
    "---"
   ]
  },
  {
   "cell_type": "code",
   "execution_count": 117,
   "metadata": {
    "collapsed": true
   },
   "outputs": [],
   "source": [
    "class BinaryTreeNode:\n",
    "    def __init__(self, val):\n",
    "        self.val = val\n",
    "        self.left = BinaryTree()\n",
    "        self.right = BinaryTree()\n",
    "\n",
    "class BinaryTree:\n",
    "    def __init__(self):\n",
    "        self.node = None\n",
    "\n",
    "    def insert(self, val):\n",
    "        \n",
    "        if self.node is None: \n",
    "            self.node = BinaryTreeNode(val)\n",
    "        else: \n",
    "            if self.node.val < val: \n",
    "                if self.node.right.node is None: \n",
    "                    self.node.right.node = BinaryTreeNode(val) \n",
    "                else: \n",
    "                    self.node.right.insert(val) \n",
    "            else: \n",
    "                if self.node.left.node is None: \n",
    "                    self.node.left.node = BinaryTreeNode(val) \n",
    "                else: \n",
    "                    self.node.left.insert(val) \n",
    "\n",
    "    def remove(self, val):\n",
    "        def find_max(root):\n",
    "            if not root.right.node:\n",
    "                return (root.left.node, root.val)\n",
    "            root.right.node, max_val = find_max(root.right.node)\n",
    "            return (root, max_val)\n",
    "        \n",
    "        #check root\n",
    "        if self.node.val == val:\n",
    "            if not self.node.left.node and not self.node.right.node:\n",
    "                self.node = None\n",
    "            elif not self.node.left.node:\n",
    "                self.node = self.node.right.node\n",
    "            elif not self.node.right.node:\n",
    "                self.node = self.node.left.node\n",
    "            else:\n",
    "                self.node, self.node.val = find_max(self.node)\n",
    "            return\n",
    "        \n",
    "        #find the node(dnode) to be deleted and its parent node\n",
    "        def helper(root, val):\n",
    "            if root.left.node.val == val:\n",
    "                if not root.left.node.left.node and not root.left.node.right.node:\n",
    "                    root.left.node = None\n",
    "                elif not root.left.node.left.node:\n",
    "                    root.left.node = root.left.node.right.node\n",
    "                elif not root.left.node.right.node:\n",
    "                    root.left.node = root.left.node.left.node\n",
    "                else:\n",
    "                    root.left.node, root.left.node.val = find_max(root.left.node)\n",
    "                return\n",
    "            if root.right.node.val == val:\n",
    "                if not root.right.node.left.node and not root.right.node.right.node:\n",
    "                    root.right.node = None\n",
    "                elif not root.right.node.left.node:\n",
    "                    root.right.node = root.right.node.right.node\n",
    "                elif not root.right.node.right.node:\n",
    "                    root.right.node = root.right.node.left.node\n",
    "                else:\n",
    "                    root.right.node, root.right.node.val = find_max(root.right.node)\n",
    "                return\n",
    "            helper(root.left.node)\n",
    "            helper(root.right.node)\n",
    "            return \n",
    "        \n",
    "        helper(self.node, val)\n",
    "        return\n",
    "    \n",
    "    def __len__(self):\n",
    "        if not self.node:\n",
    "            return 0\n",
    "        left = self.node.left.__len__()\n",
    "        right = self.node.right.__len__()\n",
    "        return 1 + max(left, right)\n",
    "    \n",
    "    def getValues(self, depth):\n",
    "        count = -1 #record the level, when it equals to the depth return the nodes\n",
    "        curr = [self.node]\n",
    "        next_line, print_line = [], []\n",
    "        while curr:\n",
    "            root = curr.pop(0)\n",
    "            if not root:\n",
    "                next_line.append(root)\n",
    "                next_line.append(root)\n",
    "            else:\n",
    "                next_line.append(root.left.node)\n",
    "                next_line.append(root.right.node)\n",
    "            if not root:\n",
    "                print_line.append(None)\n",
    "            else:\n",
    "                print_line.append(root.val)\n",
    "            if not curr:\n",
    "                count += 1\n",
    "                if count == depth:\n",
    "                    return print_line\n",
    "                if next_line:\n",
    "                    curr = next_line\n",
    "                    next_line, print_line = [], []"
   ]
  },
  {
   "cell_type": "code",
   "execution_count": 118,
   "metadata": {},
   "outputs": [
    {
     "name": "stdout",
     "output_type": "stream",
     "text": [
      "Height of binary tree is 4.\n",
      "\n"
     ]
    }
   ],
   "source": [
    "bt = BinaryTree()\n",
    "arr = [20, 10, 17, 14, 3, 0]\n",
    "for i in arr:\n",
    "    bt.insert(i)\n",
    "\n",
    "print(\"Height of binary tree is {}.\\n\".format(len(bt)))"
   ]
  },
  {
   "cell_type": "code",
   "execution_count": 119,
   "metadata": {},
   "outputs": [
    {
     "name": "stdout",
     "output_type": "stream",
     "text": [
      "Level 0 values: [20]\n",
      "Level 1 values: [10, None]\n",
      "Level 2 values: [3, 17, None, None]\n",
      "Level 3 values: [0, None, 14, None, None, None, None, None]\n"
     ]
    }
   ],
   "source": [
    "for i in range(len(bt)):\n",
    "    print(\"Level {0} values: {1}\".format(i, bt.getValues(i)))"
   ]
  },
  {
   "cell_type": "code",
   "execution_count": 120,
   "metadata": {
    "collapsed": true
   },
   "outputs": [],
   "source": [
    "bt.remove(20)"
   ]
  },
  {
   "cell_type": "code",
   "execution_count": 121,
   "metadata": {},
   "outputs": [
    {
     "name": "stdout",
     "output_type": "stream",
     "text": [
      "Level 0 values: [10]\n",
      "Level 1 values: [3, 17]\n",
      "Level 2 values: [0, None, 14, None]\n"
     ]
    }
   ],
   "source": [
    "for i in range(len(bt)):\n",
    "    print(\"Level {0} values: {1}\".format(i, bt.getValues(i)))"
   ]
  },
  {
   "cell_type": "code",
   "execution_count": 122,
   "metadata": {
    "collapsed": true
   },
   "outputs": [],
   "source": [
    "bt.remove(3)"
   ]
  },
  {
   "cell_type": "code",
   "execution_count": 123,
   "metadata": {},
   "outputs": [
    {
     "name": "stdout",
     "output_type": "stream",
     "text": [
      "Level 0 values: [10]\n",
      "Level 1 values: [0, 17]\n",
      "Level 2 values: [None, None, 14, None]\n"
     ]
    }
   ],
   "source": [
    "for i in range(len(bt)):\n",
    "    print(\"Level {0} values: {1}\".format(i, bt.getValues(i)))"
   ]
  },
  {
   "cell_type": "markdown",
   "metadata": {},
   "source": [
    "<a id='p3'></a>\n",
    "### Problem 3: Markov Chains\n",
    "\n",
    "[Markov Chains](https://en.wikipedia.org/wiki/Markov_chain) are widely used to model and predict discrete events. Underlying Markov chains are Markov processes which make the assumption that the outcome of a future event only depends on the event immediately preceeding it. \n",
    "\n",
    "In this problem, we will be assuming that weather has Markov properties (e.g. today's weather is dependent only on yesterday's weather). We will use the Markov assumption to create a basic model for predicting weather.\n",
    "\n",
    "To begin, let's suppose weather can be categorized into $6$ types: \n",
    "1. sunny\n",
    "2. cloudy\n",
    "3. rainy\n",
    "4. snowy\n",
    "5. windy\n",
    "6. hailing\n",
    "\n",
    "In the `weather.csv` file accompanying this homework, each row corresponds to one type of weather (in the order given above) and each column is the probability of one type of weather occurring the following day (also in the order given above).\n",
    "\n",
    "The $(i,j)$ element is the probability that the $j$th weather type occurs after the $i$th weather type. For example, the $(1,2)$ element is the probability that a cloudy day occurs after a sunny day.\n",
    "\n",
    "Take a look at the data. Make sure you see how if the previous day was sunny, the following day will have a $0.4$ probability of being sunny as well. If the previous day was raining (index $i = 3$), then the following day (index $j$) has a $0.05$ probability of being windy ($j = 5$)."
   ]
  },
  {
   "cell_type": "markdown",
   "metadata": {},
   "source": [
    "### Part 1:  Parse the `.csv` file into a `numpy` array"
   ]
  },
  {
   "cell_type": "code",
   "execution_count": 43,
   "metadata": {
    "collapsed": true
   },
   "outputs": [],
   "source": [
    "# Load CSV file -- hint: you can use np.genfromtxt()\n",
    "import pandas as pd \n",
    "data = pd.read_csv(\"weather.csv\", header=None) "
   ]
  },
  {
   "cell_type": "code",
   "execution_count": 44,
   "metadata": {},
   "outputs": [
    {
     "data": {
      "text/html": [
       "<div>\n",
       "<style scoped>\n",
       "    .dataframe tbody tr th:only-of-type {\n",
       "        vertical-align: middle;\n",
       "    }\n",
       "\n",
       "    .dataframe tbody tr th {\n",
       "        vertical-align: top;\n",
       "    }\n",
       "\n",
       "    .dataframe thead th {\n",
       "        text-align: right;\n",
       "    }\n",
       "</style>\n",
       "<table border=\"1\" class=\"dataframe\">\n",
       "  <thead>\n",
       "    <tr style=\"text-align: right;\">\n",
       "      <th></th>\n",
       "      <th>0</th>\n",
       "      <th>1</th>\n",
       "      <th>2</th>\n",
       "      <th>3</th>\n",
       "      <th>4</th>\n",
       "      <th>5</th>\n",
       "    </tr>\n",
       "  </thead>\n",
       "  <tbody>\n",
       "    <tr>\n",
       "      <th>0</th>\n",
       "      <td>0.40</td>\n",
       "      <td>0.3</td>\n",
       "      <td>0.10</td>\n",
       "      <td>0.05</td>\n",
       "      <td>0.10</td>\n",
       "      <td>0.05</td>\n",
       "    </tr>\n",
       "    <tr>\n",
       "      <th>1</th>\n",
       "      <td>0.30</td>\n",
       "      <td>0.4</td>\n",
       "      <td>0.10</td>\n",
       "      <td>0.10</td>\n",
       "      <td>0.08</td>\n",
       "      <td>0.02</td>\n",
       "    </tr>\n",
       "    <tr>\n",
       "      <th>2</th>\n",
       "      <td>0.20</td>\n",
       "      <td>0.3</td>\n",
       "      <td>0.35</td>\n",
       "      <td>0.05</td>\n",
       "      <td>0.05</td>\n",
       "      <td>0.05</td>\n",
       "    </tr>\n",
       "    <tr>\n",
       "      <th>3</th>\n",
       "      <td>0.10</td>\n",
       "      <td>0.2</td>\n",
       "      <td>0.25</td>\n",
       "      <td>0.30</td>\n",
       "      <td>0.10</td>\n",
       "      <td>0.05</td>\n",
       "    </tr>\n",
       "    <tr>\n",
       "      <th>4</th>\n",
       "      <td>0.15</td>\n",
       "      <td>0.2</td>\n",
       "      <td>0.10</td>\n",
       "      <td>0.15</td>\n",
       "      <td>0.30</td>\n",
       "      <td>0.10</td>\n",
       "    </tr>\n",
       "    <tr>\n",
       "      <th>5</th>\n",
       "      <td>0.10</td>\n",
       "      <td>0.2</td>\n",
       "      <td>0.35</td>\n",
       "      <td>0.10</td>\n",
       "      <td>0.05</td>\n",
       "      <td>0.20</td>\n",
       "    </tr>\n",
       "  </tbody>\n",
       "</table>\n",
       "</div>"
      ],
      "text/plain": [
       "      0    1     2     3     4     5\n",
       "0  0.40  0.3  0.10  0.05  0.10  0.05\n",
       "1  0.30  0.4  0.10  0.10  0.08  0.02\n",
       "2  0.20  0.3  0.35  0.05  0.05  0.05\n",
       "3  0.10  0.2  0.25  0.30  0.10  0.05\n",
       "4  0.15  0.2  0.10  0.15  0.30  0.10\n",
       "5  0.10  0.2  0.35  0.10  0.05  0.20"
      ]
     },
     "execution_count": 44,
     "metadata": {},
     "output_type": "execute_result"
    }
   ],
   "source": [
    "data"
   ]
  },
  {
   "cell_type": "code",
   "execution_count": 45,
   "metadata": {
    "collapsed": true
   },
   "outputs": [],
   "source": [
    "data = data.values"
   ]
  },
  {
   "cell_type": "code",
   "execution_count": 46,
   "metadata": {},
   "outputs": [
    {
     "data": {
      "text/plain": [
       "numpy.ndarray"
      ]
     },
     "execution_count": 46,
     "metadata": {},
     "output_type": "execute_result"
    }
   ],
   "source": [
    "type(data)"
   ]
  },
  {
   "cell_type": "code",
   "execution_count": 47,
   "metadata": {},
   "outputs": [
    {
     "data": {
      "text/plain": [
       "(6, 6)"
      ]
     },
     "execution_count": 47,
     "metadata": {},
     "output_type": "execute_result"
    }
   ],
   "source": [
    "data.shape"
   ]
  },
  {
   "cell_type": "code",
   "execution_count": 48,
   "metadata": {},
   "outputs": [
    {
     "data": {
      "text/plain": [
       "array([[ 0.4 ,  0.3 ,  0.1 ,  0.05,  0.1 ,  0.05],\n",
       "       [ 0.3 ,  0.4 ,  0.1 ,  0.1 ,  0.08,  0.02],\n",
       "       [ 0.2 ,  0.3 ,  0.35,  0.05,  0.05,  0.05],\n",
       "       [ 0.1 ,  0.2 ,  0.25,  0.3 ,  0.1 ,  0.05],\n",
       "       [ 0.15,  0.2 ,  0.1 ,  0.15,  0.3 ,  0.1 ],\n",
       "       [ 0.1 ,  0.2 ,  0.35,  0.1 ,  0.05,  0.2 ]])"
      ]
     },
     "execution_count": 48,
     "metadata": {},
     "output_type": "execute_result"
    }
   ],
   "source": [
    "data"
   ]
  },
  {
   "cell_type": "markdown",
   "metadata": {},
   "source": [
    "### Part 2:  Create a class called `Markov` that has the following methods:\n",
    "\n",
    "* `load_data(array)`: loads the Numpy 2D array and stores it as a class variable.\n",
    "* `get_prob(previous_day, following_day)`: returns the probability of `following_day` weather given `previous_day` weather. \n",
    "\n",
    "**Note:** `previous_day` and `following_day` should be passed in string form (e.g. \"sunny\"), as opposed to an index (e.g. 0). \n",
    "\n",
    "Here is a use-case example:\n",
    "```python\n",
    "weather_today = Markov()\n",
    "weather_today.load_data(weather) # note that weather was read in Part 1\n",
    "print(weather_today.get_prob('sunny', 'cloudy'))\n",
    "```\n",
    "```\n",
    "`0.3`\n",
    "```"
   ]
  },
  {
   "cell_type": "code",
   "execution_count": 49,
   "metadata": {
    "collapsed": true
   },
   "outputs": [],
   "source": [
    "class Markov:\n",
    "    def __init__(self):\n",
    "        # implement here\n",
    "        self.data = {}\n",
    "        \n",
    "    def load_data(self, array):\n",
    "        # implement here\n",
    "        self.data['sunny'] = array[0]\n",
    "        self.data['cloudy'] = array[1]\n",
    "        self.data['rainy'] = array[2]\n",
    "        self.data['snowy'] = array[3]\n",
    "        self.data['windy'] = array[4]\n",
    "        self.data['hailing'] = array[5]\n",
    "    \n",
    "    def get_prob(self, previous_day, following_day):\n",
    "        # implement here -- returns a probability\n",
    "        if following_day == 'sunny':\n",
    "            index = 0\n",
    "        if following_day == 'cloudy':\n",
    "            index = 1\n",
    "        if following_day == 'rainy':\n",
    "            index = 2\n",
    "        if following_day == 'snowy':\n",
    "            index = 3\n",
    "        if following_day == 'windy':\n",
    "            index = 4\n",
    "        if following_day == 'hailing':\n",
    "            index = 5\n",
    "        for key in self.data.keys():\n",
    "            if key == previous_day:\n",
    "                return self.data[key][index]\n",
    "                    "
   ]
  },
  {
   "cell_type": "code",
   "execution_count": 50,
   "metadata": {},
   "outputs": [
    {
     "name": "stdout",
     "output_type": "stream",
     "text": [
      "0.3\n"
     ]
    }
   ],
   "source": [
    "weather_today = Markov()\n",
    "weather_today.load_data(data)\n",
    "print(weather_today.get_prob('sunny', 'cloudy'))"
   ]
  },
  {
   "cell_type": "markdown",
   "metadata": {},
   "source": [
    "---"
   ]
  },
  {
   "cell_type": "markdown",
   "metadata": {},
   "source": [
    "<a id='part_2'></a>\n",
    "## Part 2: Feedback [10 point]\n",
    "<a id='p4'></a>\n",
    "### Problem 4:  Course Evaluation\n",
    "Please take the [Mid-Course Evaluation](https://goo.gl/forms/ZUrkKubzklktTSTy2).\n",
    "\n",
    "---"
   ]
  },
  {
   "cell_type": "code",
   "execution_count": null,
   "metadata": {
    "collapsed": true
   },
   "outputs": [],
   "source": []
  }
 ],
 "metadata": {
  "kernelspec": {
   "display_name": "Python 3",
   "language": "python",
   "name": "python3"
  },
  "language_info": {
   "codemirror_mode": {
    "name": "ipython",
    "version": 3
   },
   "file_extension": ".py",
   "mimetype": "text/x-python",
   "name": "python",
   "nbconvert_exporter": "python",
   "pygments_lexer": "ipython3",
   "version": "3.6.1"
  }
 },
 "nbformat": 4,
 "nbformat_minor": 2
}
