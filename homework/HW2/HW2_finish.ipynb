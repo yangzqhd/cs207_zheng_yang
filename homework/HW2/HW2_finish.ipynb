{
 "cells": [
  {
   "cell_type": "markdown",
   "metadata": {},
   "source": [
    "# Homework 2\n",
    "\n",
    "## Due Thursday, September 20th 2018 at 11:59 PM.\n",
    "\n",
    "### Be sure to push the final version of your notebook to your GitHub repo.  Follow the instructions on the course website.\n",
    "\n",
    "### Topics\n",
    "\n",
    "#### [Part 1](#part_1): Get Familiar with `git`\n",
    "- [Problem 1](#p1). Git and recovering from a mistake\n",
    "- [Problem 2](#p2). Git and checking out a single file\n",
    "\n",
    "#### [Part 2](#part_2): Python Basics\n",
    "- [Problem 3](#p3). Count and plot\n",
    "- [Problem 4](#p4). Average area of the circles (part 1)\n",
    "\n",
    "#### [Part 3](#part_3): Closure and Decorators\n",
    "- [Problem 5](#p5). Simple bank account withdraw system\n",
    "- [Problem 6](#p6). Average area of the circles (part 2)\n",
    "- [Problem 7](#p7). Positivity\n",
    "\n",
    "---"
   ]
  },
  {
   "cell_type": "markdown",
   "metadata": {},
   "source": [
    "---\n",
    "<a id='part_1'></a>\n",
    "## Part 1 [10 pts]: Get Familiar with GitHub\n",
    "**Note:** Start this problem after Lecture 3.\n",
    "\n",
    "<a id='p1'></a>\n",
    "### Problem 1 [5 pts]:  `Git` and recovering from a mistake\n",
    "Here's the scenario for this problem.  In Lecture, you created a branch in your `playground` repo called `mybranch1`.  You worked on `mybranch1` and created a file called `books.md`, but you never merged that file into your `master` branch.  In fact, we'll operate under the assumption that you really *don't* want to merge `books.md` into `master` yet.  However, being human, you are bound to make mistakes.  In this problem, you will clone `playground` and forget to switch to `mybranch1`.  You will accidentally pull `books.md` into `master`.  Then, you will recover from this mistake by reverting `master` to an earlier state; one that doesn't have `books.md`.\n",
    "\n",
    "You will do this problem in the `Jupyter` notebook so we can see your output.  Once again, you will work with your `playground` repository (created and explored in Lectures 2 and 3).\n",
    "\n",
    "**NOTE:** At the beginning of each `Jupyter` notebook cell, you MUST type `%%bash`.  If you don't do that then you will not be able to work with the necessary bash commands.\n",
    "\n",
    "Follow the following steps for this problem:\n",
    "\n",
    "1. First cell:\n",
    "  1. Type `cd /tmp` to enter the temporary directory\n",
    "  2. `git clone <url to your playground repo>` <br>\n",
    "  **Note:** If you want to re-clone the repo (after you already cloned it), make sure you delete the old repo using `rm -r /tmp/playground`.\n",
    "2. Second cell:\n",
    "  1. Go into your local `playground` directory (`cd /tmp/playground`)\n",
    "  2. Type `git pull origin mybranch1`\n",
    "  3. `ls` <br>\n",
    "  Uh oh!  `books.md` is now in your `master` branch!\n",
    "3. Third cell:\n",
    "  1. Go into your local `playground` directory (`cd /tmp/playground`)\n",
    "  2. Type `git status` <br>\n",
    "  Your local `master` branch is now ahead of the remote `master`!\n",
    "4. Fourth cell:\n",
    "  1. Go into your local `playground` directory (`cd /tmp/playground`)\n",
    "  2. Type `git reset --hard origin/master`\n",
    "  3. `ls` <br>\n",
    "  `books.md` is gone!\n",
    "5. Fifth cell:\n",
    "  1. Go into your local `playground` directory (`cd /tmp/playground`)\n",
    "  2. Type `git status` <br>\n",
    "  Everything is back to normal.\n",
    "\n",
    "The whole point of this problem was to show you how to get your local repo back to an earlier state.  In this exercise, you accidentally merged something to `master` that you didn't want.  Rather than starting to delete things all over the place, you can simply reset your `HEAD` to a previous commit.\n",
    "\n",
    "**IMPORTANT!** This is a proper `git` workflow.  DO NOT start deleting, rebasing, or re-cloning everything.  Take one step at a time, think about the decisions you're making, and execute deliberately.  It will take a little practice in the beginning, but time spent now will translate to lots of time saved later."
   ]
  },
  {
   "cell_type": "code",
   "execution_count": 1,
   "metadata": {},
   "outputs": [
    {
     "name": "stderr",
     "output_type": "stream",
     "text": [
      "Cloning into 'playground'...\n"
     ]
    }
   ],
   "source": [
    "%%bash\n",
    "cd /tmp\n",
    "git clone git@github.com:yangzqhd/playground.git"
   ]
  },
  {
   "cell_type": "code",
   "execution_count": 2,
   "metadata": {},
   "outputs": [
    {
     "name": "stdout",
     "output_type": "stream",
     "text": [
      "Merge made by the 'recursive' strategy.\n",
      " .DS_Store | Bin 0 -> 6148 bytes\n",
      " books.md  |   1 +\n",
      " 2 files changed, 1 insertion(+)\n",
      " create mode 100644 .DS_Store\n",
      " create mode 100644 books.md\n",
      "README.md\n",
      "books.md\n",
      "feature.txt\n",
      "intro.md\n",
      "messages.md\n",
      "world.md\n"
     ]
    },
    {
     "name": "stderr",
     "output_type": "stream",
     "text": [
      "From github.com:yangzqhd/playground\n",
      " * branch            mybranch1  -> FETCH_HEAD\n"
     ]
    }
   ],
   "source": [
    "%%bash\n",
    "cd /tmp/playground\n",
    "git pull origin mybranch1\n",
    "ls"
   ]
  },
  {
   "cell_type": "code",
   "execution_count": 3,
   "metadata": {},
   "outputs": [
    {
     "name": "stdout",
     "output_type": "stream",
     "text": [
      "On branch master\n",
      "Your branch is ahead of 'origin/master' by 3 commits.\n",
      "  (use \"git push\" to publish your local commits)\n",
      "\n",
      "nothing to commit, working tree clean\n"
     ]
    }
   ],
   "source": [
    "%%bash\n",
    "cd /tmp/playground\n",
    "git status"
   ]
  },
  {
   "cell_type": "code",
   "execution_count": 4,
   "metadata": {},
   "outputs": [
    {
     "name": "stdout",
     "output_type": "stream",
     "text": [
      "HEAD is now at 52ad990 Shared attribution between Joe and Sally.\n",
      "README.md\n",
      "feature.txt\n",
      "intro.md\n",
      "messages.md\n",
      "world.md\n"
     ]
    }
   ],
   "source": [
    "%%bash\n",
    "cd /tmp/playground\n",
    "git reset --hard origin/master\n",
    "ls"
   ]
  },
  {
   "cell_type": "code",
   "execution_count": 5,
   "metadata": {},
   "outputs": [
    {
     "name": "stdout",
     "output_type": "stream",
     "text": [
      "On branch master\n",
      "Your branch is up-to-date with 'origin/master'.\n",
      "\n",
      "nothing to commit, working tree clean\n"
     ]
    }
   ],
   "source": [
    "%%bash\n",
    "cd /tmp/playground\n",
    "git status"
   ]
  },
  {
   "cell_type": "markdown",
   "metadata": {},
   "source": [
    "---\n",
    "<a id='p2'></a>\n",
    "### Problem 2 [5 pts]:  `Git` and checking out a single file\n",
    "Sometimes you don't want to merge an entire branch from the upstream but just one file from it. There is a direct use case for such a situation. Suppose I've made an error in this homework (or a lecture) and want to correct it. I fix the mistake in the upstream repo. In the meantime you have edited some other files and you really don't want to manually ignore my older copies of those files. Rather, you want to fix just one file from this new branch. This is how you do it.\n",
    "\n",
    "As usual, be sure to type in `%%bash` before you write any `bash` commands in a cell.\n",
    "\n",
    "**Note:** The steps below assume that you have already cloned the `playground` repo in this notebook.\n",
    "\n",
    "1. First cell:\n",
    "  1. Go into the `playground` repo and fetch the changes from the master branch of the `course` remote.\n",
    "2. Second cell:\n",
    "  1. `git checkout course/master -- README.md`.  The `--` means that `README.md` is a file (as opposed to a `branch`).\n",
    "  2. `cat README.md`.  This just looks at the updated file.\n",
    "3. Third cell:\n",
    "  1. `git status`\n",
    "  2. Commit the changes to your local repo with an appropriate commit message.\n",
    "  3. `git status`\n",
    "  4. Push the changes to your remote repo."
   ]
  },
  {
   "cell_type": "code",
   "execution_count": 1,
   "metadata": {
    "collapsed": true
   },
   "outputs": [],
   "source": [
    "%%bash\n",
    "rm -r /tmp/playground"
   ]
  },
  {
   "cell_type": "code",
   "execution_count": 2,
   "metadata": {},
   "outputs": [
    {
     "name": "stderr",
     "output_type": "stream",
     "text": [
      "Cloning into 'playground'...\n"
     ]
    }
   ],
   "source": [
    "%%bash\n",
    "cd /tmp\n",
    "git clone git@github.com:yangzqhd/playground.git"
   ]
  },
  {
   "cell_type": "code",
   "execution_count": 3,
   "metadata": {},
   "outputs": [
    {
     "name": "stdout",
     "output_type": "stream",
     "text": [
      "origin\tgit@github.com:yangzqhd/playground.git (fetch)\n",
      "origin\tgit@github.com:yangzqhd/playground.git (push)\n"
     ]
    }
   ],
   "source": [
    "%%bash\n",
    "cd /tmp/playground\n",
    "git remote -v"
   ]
  },
  {
   "cell_type": "code",
   "execution_count": 4,
   "metadata": {
    "collapsed": true
   },
   "outputs": [],
   "source": [
    "%%bash\n",
    "cd /tmp/playground\n",
    "git remote add course https://github.com/IACS-CS-207/playground.git"
   ]
  },
  {
   "cell_type": "code",
   "execution_count": 5,
   "metadata": {},
   "outputs": [
    {
     "name": "stderr",
     "output_type": "stream",
     "text": [
      "From https://github.com/IACS-CS-207/playground\n",
      " * [new branch]      master     -> course/master\n"
     ]
    }
   ],
   "source": [
    "%%bash\n",
    "cd /tmp/playground\n",
    "git fetch course"
   ]
  },
  {
   "cell_type": "code",
   "execution_count": 6,
   "metadata": {},
   "outputs": [
    {
     "name": "stdout",
     "output_type": "stream",
     "text": [
      "# Playground Repo\n",
      "\n",
      "Fall 2018 message.\n"
     ]
    }
   ],
   "source": [
    "%%bash\n",
    "cd /tmp/playground\n",
    "git checkout course/master -- README.md\n",
    "cat README.md"
   ]
  },
  {
   "cell_type": "code",
   "execution_count": 7,
   "metadata": {},
   "outputs": [
    {
     "name": "stdout",
     "output_type": "stream",
     "text": [
      "On branch master\n",
      "Your branch is up-to-date with 'origin/master'.\n",
      "\n",
      "Changes to be committed:\n",
      "  (use \"git reset HEAD <file>...\" to unstage)\n",
      "\n",
      "\tmodified:   README.md\n",
      "\n"
     ]
    }
   ],
   "source": [
    "%%bash\n",
    "cd /tmp/playground\n",
    "git status"
   ]
  },
  {
   "cell_type": "code",
   "execution_count": 8,
   "metadata": {},
   "outputs": [
    {
     "name": "stdout",
     "output_type": "stream",
     "text": [
      "[master e98cf48] README updates\n",
      " 1 file changed, 1 insertion(+), 1 deletion(-)\n"
     ]
    }
   ],
   "source": [
    "%%bash\n",
    "cd /tmp/playground\n",
    "git commit -m \"README updates\""
   ]
  },
  {
   "cell_type": "code",
   "execution_count": 9,
   "metadata": {},
   "outputs": [
    {
     "name": "stdout",
     "output_type": "stream",
     "text": [
      "On branch master\n",
      "Your branch is ahead of 'origin/master' by 1 commit.\n",
      "  (use \"git push\" to publish your local commits)\n",
      "\n",
      "nothing to commit, working tree clean\n"
     ]
    }
   ],
   "source": [
    "%%bash\n",
    "cd /tmp/playground\n",
    "git status"
   ]
  },
  {
   "cell_type": "code",
   "execution_count": 10,
   "metadata": {},
   "outputs": [
    {
     "name": "stderr",
     "output_type": "stream",
     "text": [
      "To github.com:yangzqhd/playground.git\n",
      "   a5e13d9..e98cf48  master -> master\n"
     ]
    }
   ],
   "source": [
    "%%bash\n",
    "cd /tmp/playground\n",
    "git push"
   ]
  },
  {
   "cell_type": "markdown",
   "metadata": {},
   "source": [
    "---\n",
    "<a id='part_2'></a>\n",
    "## Part 2 [20 pts]: Python Basics\n",
    "<a id='p3'></a>\n",
    "### Problem 3 [10 pts]: Count and Plot\n",
    "In this problem, you will make a bar plot of the computer languages that students who take CS207 know.  The file `languages.txt` contains all the languages that students listed as their primary language in the course survey from a previous iteration of the course.\n",
    "\n",
    "Do the following:\n",
    "* Load the language strings from the file into a list.\n",
    "* Use the `Counter` method from the `collections` library to count the number of occurrences of each element of the list.  **Print out your answer to the screen.**\n",
    "* Create a bar plot to display the frequency of each language.  Be sure to label the x-axis!\n",
    "  + Remember, to create plots in the notebook you must put the line `%matplotlib inline` at the beginning of your notebook.  You may also want to check out `%matplotlib notebook`.\n",
    "  + Be sure to import matplotlib:  `import matplotlib.pyplot as plt`.\n",
    "  + To generate the bar plot write `plt.bar(x_coords, freqs)`.  You need to define `x_coords` and `freqs`.\n",
    "  + **Hint:** You may want to use the `numpy` `arange` function to create `x_coords`.  Remember, `x_coords` is the x-axis and it should have points for each distinct language.\n",
    "  + **Hint:** To get `freqs`, you may want to use the `values()` method on your result from step 3.  That is, `freqs = result_from_3.values()`.\n",
    "  + **Hint:** To label the x-axis you should use `plt.xticks(x_coords, labels)` where labels can be accessed through the `keys()` method on your result from step 3."
   ]
  },
  {
   "cell_type": "code",
   "execution_count": 56,
   "metadata": {
    "collapsed": true
   },
   "outputs": [],
   "source": [
    "language_list = []\n",
    "with open('languages.txt') as f:\n",
    "    for line in f:\n",
    "        language_list.append(line)\n",
    "f.close()"
   ]
  },
  {
   "cell_type": "code",
   "execution_count": 57,
   "metadata": {},
   "outputs": [
    {
     "data": {
      "text/plain": [
       "45"
      ]
     },
     "execution_count": 57,
     "metadata": {},
     "output_type": "execute_result"
    }
   ],
   "source": [
    "len(language_list)"
   ]
  },
  {
   "cell_type": "code",
   "execution_count": 59,
   "metadata": {
    "collapsed": true
   },
   "outputs": [],
   "source": [
    "for i in range(len(language_list)):\n",
    "    language_list[i] = language_list[i][:-1]"
   ]
  },
  {
   "cell_type": "code",
   "execution_count": 61,
   "metadata": {},
   "outputs": [
    {
     "name": "stdout",
     "output_type": "stream",
     "text": [
      "Counter({'Python': 25, 'Java': 7, 'C++': 6, 'Other': 2, 'SQL': 2, 'C': 1, 'C#': 1, 'VB': 1})\n"
     ]
    }
   ],
   "source": [
    "import collections\n",
    "count_dic = collections.Counter(language_list)\n",
    "print(count_dic)"
   ]
  },
  {
   "cell_type": "code",
   "execution_count": 62,
   "metadata": {
    "collapsed": true
   },
   "outputs": [],
   "source": [
    "%matplotlib inline\n",
    "%matplotlib notebook\n",
    "import matplotlib.pyplot as plt"
   ]
  },
  {
   "cell_type": "code",
   "execution_count": 63,
   "metadata": {},
   "outputs": [
    {
     "name": "stdout",
     "output_type": "stream",
     "text": [
      "[1 2 3 4 5 6 7 8]\n"
     ]
    }
   ],
   "source": [
    "import numpy as np\n",
    "x_coords = np.arange(1, 9)\n",
    "print(x_coords)"
   ]
  },
  {
   "cell_type": "code",
   "execution_count": 64,
   "metadata": {},
   "outputs": [
    {
     "data": {
      "application/javascript": [
       "/* Put everything inside the global mpl namespace */\n",
       "window.mpl = {};\n",
       "\n",
       "\n",
       "mpl.get_websocket_type = function() {\n",
       "    if (typeof(WebSocket) !== 'undefined') {\n",
       "        return WebSocket;\n",
       "    } else if (typeof(MozWebSocket) !== 'undefined') {\n",
       "        return MozWebSocket;\n",
       "    } else {\n",
       "        alert('Your browser does not have WebSocket support.' +\n",
       "              'Please try Chrome, Safari or Firefox ≥ 6. ' +\n",
       "              'Firefox 4 and 5 are also supported but you ' +\n",
       "              'have to enable WebSockets in about:config.');\n",
       "    };\n",
       "}\n",
       "\n",
       "mpl.figure = function(figure_id, websocket, ondownload, parent_element) {\n",
       "    this.id = figure_id;\n",
       "\n",
       "    this.ws = websocket;\n",
       "\n",
       "    this.supports_binary = (this.ws.binaryType != undefined);\n",
       "\n",
       "    if (!this.supports_binary) {\n",
       "        var warnings = document.getElementById(\"mpl-warnings\");\n",
       "        if (warnings) {\n",
       "            warnings.style.display = 'block';\n",
       "            warnings.textContent = (\n",
       "                \"This browser does not support binary websocket messages. \" +\n",
       "                    \"Performance may be slow.\");\n",
       "        }\n",
       "    }\n",
       "\n",
       "    this.imageObj = new Image();\n",
       "\n",
       "    this.context = undefined;\n",
       "    this.message = undefined;\n",
       "    this.canvas = undefined;\n",
       "    this.rubberband_canvas = undefined;\n",
       "    this.rubberband_context = undefined;\n",
       "    this.format_dropdown = undefined;\n",
       "\n",
       "    this.image_mode = 'full';\n",
       "\n",
       "    this.root = $('<div/>');\n",
       "    this._root_extra_style(this.root)\n",
       "    this.root.attr('style', 'display: inline-block');\n",
       "\n",
       "    $(parent_element).append(this.root);\n",
       "\n",
       "    this._init_header(this);\n",
       "    this._init_canvas(this);\n",
       "    this._init_toolbar(this);\n",
       "\n",
       "    var fig = this;\n",
       "\n",
       "    this.waiting = false;\n",
       "\n",
       "    this.ws.onopen =  function () {\n",
       "            fig.send_message(\"supports_binary\", {value: fig.supports_binary});\n",
       "            fig.send_message(\"send_image_mode\", {});\n",
       "            if (mpl.ratio != 1) {\n",
       "                fig.send_message(\"set_dpi_ratio\", {'dpi_ratio': mpl.ratio});\n",
       "            }\n",
       "            fig.send_message(\"refresh\", {});\n",
       "        }\n",
       "\n",
       "    this.imageObj.onload = function() {\n",
       "            if (fig.image_mode == 'full') {\n",
       "                // Full images could contain transparency (where diff images\n",
       "                // almost always do), so we need to clear the canvas so that\n",
       "                // there is no ghosting.\n",
       "                fig.context.clearRect(0, 0, fig.canvas.width, fig.canvas.height);\n",
       "            }\n",
       "            fig.context.drawImage(fig.imageObj, 0, 0);\n",
       "        };\n",
       "\n",
       "    this.imageObj.onunload = function() {\n",
       "        fig.ws.close();\n",
       "    }\n",
       "\n",
       "    this.ws.onmessage = this._make_on_message_function(this);\n",
       "\n",
       "    this.ondownload = ondownload;\n",
       "}\n",
       "\n",
       "mpl.figure.prototype._init_header = function() {\n",
       "    var titlebar = $(\n",
       "        '<div class=\"ui-dialog-titlebar ui-widget-header ui-corner-all ' +\n",
       "        'ui-helper-clearfix\"/>');\n",
       "    var titletext = $(\n",
       "        '<div class=\"ui-dialog-title\" style=\"width: 100%; ' +\n",
       "        'text-align: center; padding: 3px;\"/>');\n",
       "    titlebar.append(titletext)\n",
       "    this.root.append(titlebar);\n",
       "    this.header = titletext[0];\n",
       "}\n",
       "\n",
       "\n",
       "\n",
       "mpl.figure.prototype._canvas_extra_style = function(canvas_div) {\n",
       "\n",
       "}\n",
       "\n",
       "\n",
       "mpl.figure.prototype._root_extra_style = function(canvas_div) {\n",
       "\n",
       "}\n",
       "\n",
       "mpl.figure.prototype._init_canvas = function() {\n",
       "    var fig = this;\n",
       "\n",
       "    var canvas_div = $('<div/>');\n",
       "\n",
       "    canvas_div.attr('style', 'position: relative; clear: both; outline: 0');\n",
       "\n",
       "    function canvas_keyboard_event(event) {\n",
       "        return fig.key_event(event, event['data']);\n",
       "    }\n",
       "\n",
       "    canvas_div.keydown('key_press', canvas_keyboard_event);\n",
       "    canvas_div.keyup('key_release', canvas_keyboard_event);\n",
       "    this.canvas_div = canvas_div\n",
       "    this._canvas_extra_style(canvas_div)\n",
       "    this.root.append(canvas_div);\n",
       "\n",
       "    var canvas = $('<canvas/>');\n",
       "    canvas.addClass('mpl-canvas');\n",
       "    canvas.attr('style', \"left: 0; top: 0; z-index: 0; outline: 0\")\n",
       "\n",
       "    this.canvas = canvas[0];\n",
       "    this.context = canvas[0].getContext(\"2d\");\n",
       "\n",
       "    var backingStore = this.context.backingStorePixelRatio ||\n",
       "\tthis.context.webkitBackingStorePixelRatio ||\n",
       "\tthis.context.mozBackingStorePixelRatio ||\n",
       "\tthis.context.msBackingStorePixelRatio ||\n",
       "\tthis.context.oBackingStorePixelRatio ||\n",
       "\tthis.context.backingStorePixelRatio || 1;\n",
       "\n",
       "    mpl.ratio = (window.devicePixelRatio || 1) / backingStore;\n",
       "\n",
       "    var rubberband = $('<canvas/>');\n",
       "    rubberband.attr('style', \"position: absolute; left: 0; top: 0; z-index: 1;\")\n",
       "\n",
       "    var pass_mouse_events = true;\n",
       "\n",
       "    canvas_div.resizable({\n",
       "        start: function(event, ui) {\n",
       "            pass_mouse_events = false;\n",
       "        },\n",
       "        resize: function(event, ui) {\n",
       "            fig.request_resize(ui.size.width, ui.size.height);\n",
       "        },\n",
       "        stop: function(event, ui) {\n",
       "            pass_mouse_events = true;\n",
       "            fig.request_resize(ui.size.width, ui.size.height);\n",
       "        },\n",
       "    });\n",
       "\n",
       "    function mouse_event_fn(event) {\n",
       "        if (pass_mouse_events)\n",
       "            return fig.mouse_event(event, event['data']);\n",
       "    }\n",
       "\n",
       "    rubberband.mousedown('button_press', mouse_event_fn);\n",
       "    rubberband.mouseup('button_release', mouse_event_fn);\n",
       "    // Throttle sequential mouse events to 1 every 20ms.\n",
       "    rubberband.mousemove('motion_notify', mouse_event_fn);\n",
       "\n",
       "    rubberband.mouseenter('figure_enter', mouse_event_fn);\n",
       "    rubberband.mouseleave('figure_leave', mouse_event_fn);\n",
       "\n",
       "    canvas_div.on(\"wheel\", function (event) {\n",
       "        event = event.originalEvent;\n",
       "        event['data'] = 'scroll'\n",
       "        if (event.deltaY < 0) {\n",
       "            event.step = 1;\n",
       "        } else {\n",
       "            event.step = -1;\n",
       "        }\n",
       "        mouse_event_fn(event);\n",
       "    });\n",
       "\n",
       "    canvas_div.append(canvas);\n",
       "    canvas_div.append(rubberband);\n",
       "\n",
       "    this.rubberband = rubberband;\n",
       "    this.rubberband_canvas = rubberband[0];\n",
       "    this.rubberband_context = rubberband[0].getContext(\"2d\");\n",
       "    this.rubberband_context.strokeStyle = \"#000000\";\n",
       "\n",
       "    this._resize_canvas = function(width, height) {\n",
       "        // Keep the size of the canvas, canvas container, and rubber band\n",
       "        // canvas in synch.\n",
       "        canvas_div.css('width', width)\n",
       "        canvas_div.css('height', height)\n",
       "\n",
       "        canvas.attr('width', width * mpl.ratio);\n",
       "        canvas.attr('height', height * mpl.ratio);\n",
       "        canvas.attr('style', 'width: ' + width + 'px; height: ' + height + 'px;');\n",
       "\n",
       "        rubberband.attr('width', width);\n",
       "        rubberband.attr('height', height);\n",
       "    }\n",
       "\n",
       "    // Set the figure to an initial 600x600px, this will subsequently be updated\n",
       "    // upon first draw.\n",
       "    this._resize_canvas(600, 600);\n",
       "\n",
       "    // Disable right mouse context menu.\n",
       "    $(this.rubberband_canvas).bind(\"contextmenu\",function(e){\n",
       "        return false;\n",
       "    });\n",
       "\n",
       "    function set_focus () {\n",
       "        canvas.focus();\n",
       "        canvas_div.focus();\n",
       "    }\n",
       "\n",
       "    window.setTimeout(set_focus, 100);\n",
       "}\n",
       "\n",
       "mpl.figure.prototype._init_toolbar = function() {\n",
       "    var fig = this;\n",
       "\n",
       "    var nav_element = $('<div/>')\n",
       "    nav_element.attr('style', 'width: 100%');\n",
       "    this.root.append(nav_element);\n",
       "\n",
       "    // Define a callback function for later on.\n",
       "    function toolbar_event(event) {\n",
       "        return fig.toolbar_button_onclick(event['data']);\n",
       "    }\n",
       "    function toolbar_mouse_event(event) {\n",
       "        return fig.toolbar_button_onmouseover(event['data']);\n",
       "    }\n",
       "\n",
       "    for(var toolbar_ind in mpl.toolbar_items) {\n",
       "        var name = mpl.toolbar_items[toolbar_ind][0];\n",
       "        var tooltip = mpl.toolbar_items[toolbar_ind][1];\n",
       "        var image = mpl.toolbar_items[toolbar_ind][2];\n",
       "        var method_name = mpl.toolbar_items[toolbar_ind][3];\n",
       "\n",
       "        if (!name) {\n",
       "            // put a spacer in here.\n",
       "            continue;\n",
       "        }\n",
       "        var button = $('<button/>');\n",
       "        button.addClass('ui-button ui-widget ui-state-default ui-corner-all ' +\n",
       "                        'ui-button-icon-only');\n",
       "        button.attr('role', 'button');\n",
       "        button.attr('aria-disabled', 'false');\n",
       "        button.click(method_name, toolbar_event);\n",
       "        button.mouseover(tooltip, toolbar_mouse_event);\n",
       "\n",
       "        var icon_img = $('<span/>');\n",
       "        icon_img.addClass('ui-button-icon-primary ui-icon');\n",
       "        icon_img.addClass(image);\n",
       "        icon_img.addClass('ui-corner-all');\n",
       "\n",
       "        var tooltip_span = $('<span/>');\n",
       "        tooltip_span.addClass('ui-button-text');\n",
       "        tooltip_span.html(tooltip);\n",
       "\n",
       "        button.append(icon_img);\n",
       "        button.append(tooltip_span);\n",
       "\n",
       "        nav_element.append(button);\n",
       "    }\n",
       "\n",
       "    var fmt_picker_span = $('<span/>');\n",
       "\n",
       "    var fmt_picker = $('<select/>');\n",
       "    fmt_picker.addClass('mpl-toolbar-option ui-widget ui-widget-content');\n",
       "    fmt_picker_span.append(fmt_picker);\n",
       "    nav_element.append(fmt_picker_span);\n",
       "    this.format_dropdown = fmt_picker[0];\n",
       "\n",
       "    for (var ind in mpl.extensions) {\n",
       "        var fmt = mpl.extensions[ind];\n",
       "        var option = $(\n",
       "            '<option/>', {selected: fmt === mpl.default_extension}).html(fmt);\n",
       "        fmt_picker.append(option)\n",
       "    }\n",
       "\n",
       "    // Add hover states to the ui-buttons\n",
       "    $( \".ui-button\" ).hover(\n",
       "        function() { $(this).addClass(\"ui-state-hover\");},\n",
       "        function() { $(this).removeClass(\"ui-state-hover\");}\n",
       "    );\n",
       "\n",
       "    var status_bar = $('<span class=\"mpl-message\"/>');\n",
       "    nav_element.append(status_bar);\n",
       "    this.message = status_bar[0];\n",
       "}\n",
       "\n",
       "mpl.figure.prototype.request_resize = function(x_pixels, y_pixels) {\n",
       "    // Request matplotlib to resize the figure. Matplotlib will then trigger a resize in the client,\n",
       "    // which will in turn request a refresh of the image.\n",
       "    this.send_message('resize', {'width': x_pixels, 'height': y_pixels});\n",
       "}\n",
       "\n",
       "mpl.figure.prototype.send_message = function(type, properties) {\n",
       "    properties['type'] = type;\n",
       "    properties['figure_id'] = this.id;\n",
       "    this.ws.send(JSON.stringify(properties));\n",
       "}\n",
       "\n",
       "mpl.figure.prototype.send_draw_message = function() {\n",
       "    if (!this.waiting) {\n",
       "        this.waiting = true;\n",
       "        this.ws.send(JSON.stringify({type: \"draw\", figure_id: this.id}));\n",
       "    }\n",
       "}\n",
       "\n",
       "\n",
       "mpl.figure.prototype.handle_save = function(fig, msg) {\n",
       "    var format_dropdown = fig.format_dropdown;\n",
       "    var format = format_dropdown.options[format_dropdown.selectedIndex].value;\n",
       "    fig.ondownload(fig, format);\n",
       "}\n",
       "\n",
       "\n",
       "mpl.figure.prototype.handle_resize = function(fig, msg) {\n",
       "    var size = msg['size'];\n",
       "    if (size[0] != fig.canvas.width || size[1] != fig.canvas.height) {\n",
       "        fig._resize_canvas(size[0], size[1]);\n",
       "        fig.send_message(\"refresh\", {});\n",
       "    };\n",
       "}\n",
       "\n",
       "mpl.figure.prototype.handle_rubberband = function(fig, msg) {\n",
       "    var x0 = msg['x0'] / mpl.ratio;\n",
       "    var y0 = (fig.canvas.height - msg['y0']) / mpl.ratio;\n",
       "    var x1 = msg['x1'] / mpl.ratio;\n",
       "    var y1 = (fig.canvas.height - msg['y1']) / mpl.ratio;\n",
       "    x0 = Math.floor(x0) + 0.5;\n",
       "    y0 = Math.floor(y0) + 0.5;\n",
       "    x1 = Math.floor(x1) + 0.5;\n",
       "    y1 = Math.floor(y1) + 0.5;\n",
       "    var min_x = Math.min(x0, x1);\n",
       "    var min_y = Math.min(y0, y1);\n",
       "    var width = Math.abs(x1 - x0);\n",
       "    var height = Math.abs(y1 - y0);\n",
       "\n",
       "    fig.rubberband_context.clearRect(\n",
       "        0, 0, fig.canvas.width, fig.canvas.height);\n",
       "\n",
       "    fig.rubberband_context.strokeRect(min_x, min_y, width, height);\n",
       "}\n",
       "\n",
       "mpl.figure.prototype.handle_figure_label = function(fig, msg) {\n",
       "    // Updates the figure title.\n",
       "    fig.header.textContent = msg['label'];\n",
       "}\n",
       "\n",
       "mpl.figure.prototype.handle_cursor = function(fig, msg) {\n",
       "    var cursor = msg['cursor'];\n",
       "    switch(cursor)\n",
       "    {\n",
       "    case 0:\n",
       "        cursor = 'pointer';\n",
       "        break;\n",
       "    case 1:\n",
       "        cursor = 'default';\n",
       "        break;\n",
       "    case 2:\n",
       "        cursor = 'crosshair';\n",
       "        break;\n",
       "    case 3:\n",
       "        cursor = 'move';\n",
       "        break;\n",
       "    }\n",
       "    fig.rubberband_canvas.style.cursor = cursor;\n",
       "}\n",
       "\n",
       "mpl.figure.prototype.handle_message = function(fig, msg) {\n",
       "    fig.message.textContent = msg['message'];\n",
       "}\n",
       "\n",
       "mpl.figure.prototype.handle_draw = function(fig, msg) {\n",
       "    // Request the server to send over a new figure.\n",
       "    fig.send_draw_message();\n",
       "}\n",
       "\n",
       "mpl.figure.prototype.handle_image_mode = function(fig, msg) {\n",
       "    fig.image_mode = msg['mode'];\n",
       "}\n",
       "\n",
       "mpl.figure.prototype.updated_canvas_event = function() {\n",
       "    // Called whenever the canvas gets updated.\n",
       "    this.send_message(\"ack\", {});\n",
       "}\n",
       "\n",
       "// A function to construct a web socket function for onmessage handling.\n",
       "// Called in the figure constructor.\n",
       "mpl.figure.prototype._make_on_message_function = function(fig) {\n",
       "    return function socket_on_message(evt) {\n",
       "        if (evt.data instanceof Blob) {\n",
       "            /* FIXME: We get \"Resource interpreted as Image but\n",
       "             * transferred with MIME type text/plain:\" errors on\n",
       "             * Chrome.  But how to set the MIME type?  It doesn't seem\n",
       "             * to be part of the websocket stream */\n",
       "            evt.data.type = \"image/png\";\n",
       "\n",
       "            /* Free the memory for the previous frames */\n",
       "            if (fig.imageObj.src) {\n",
       "                (window.URL || window.webkitURL).revokeObjectURL(\n",
       "                    fig.imageObj.src);\n",
       "            }\n",
       "\n",
       "            fig.imageObj.src = (window.URL || window.webkitURL).createObjectURL(\n",
       "                evt.data);\n",
       "            fig.updated_canvas_event();\n",
       "            fig.waiting = false;\n",
       "            return;\n",
       "        }\n",
       "        else if (typeof evt.data === 'string' && evt.data.slice(0, 21) == \"data:image/png;base64\") {\n",
       "            fig.imageObj.src = evt.data;\n",
       "            fig.updated_canvas_event();\n",
       "            fig.waiting = false;\n",
       "            return;\n",
       "        }\n",
       "\n",
       "        var msg = JSON.parse(evt.data);\n",
       "        var msg_type = msg['type'];\n",
       "\n",
       "        // Call the  \"handle_{type}\" callback, which takes\n",
       "        // the figure and JSON message as its only arguments.\n",
       "        try {\n",
       "            var callback = fig[\"handle_\" + msg_type];\n",
       "        } catch (e) {\n",
       "            console.log(\"No handler for the '\" + msg_type + \"' message type: \", msg);\n",
       "            return;\n",
       "        }\n",
       "\n",
       "        if (callback) {\n",
       "            try {\n",
       "                // console.log(\"Handling '\" + msg_type + \"' message: \", msg);\n",
       "                callback(fig, msg);\n",
       "            } catch (e) {\n",
       "                console.log(\"Exception inside the 'handler_\" + msg_type + \"' callback:\", e, e.stack, msg);\n",
       "            }\n",
       "        }\n",
       "    };\n",
       "}\n",
       "\n",
       "// from http://stackoverflow.com/questions/1114465/getting-mouse-location-in-canvas\n",
       "mpl.findpos = function(e) {\n",
       "    //this section is from http://www.quirksmode.org/js/events_properties.html\n",
       "    var targ;\n",
       "    if (!e)\n",
       "        e = window.event;\n",
       "    if (e.target)\n",
       "        targ = e.target;\n",
       "    else if (e.srcElement)\n",
       "        targ = e.srcElement;\n",
       "    if (targ.nodeType == 3) // defeat Safari bug\n",
       "        targ = targ.parentNode;\n",
       "\n",
       "    // jQuery normalizes the pageX and pageY\n",
       "    // pageX,Y are the mouse positions relative to the document\n",
       "    // offset() returns the position of the element relative to the document\n",
       "    var x = e.pageX - $(targ).offset().left;\n",
       "    var y = e.pageY - $(targ).offset().top;\n",
       "\n",
       "    return {\"x\": x, \"y\": y};\n",
       "};\n",
       "\n",
       "/*\n",
       " * return a copy of an object with only non-object keys\n",
       " * we need this to avoid circular references\n",
       " * http://stackoverflow.com/a/24161582/3208463\n",
       " */\n",
       "function simpleKeys (original) {\n",
       "  return Object.keys(original).reduce(function (obj, key) {\n",
       "    if (typeof original[key] !== 'object')\n",
       "        obj[key] = original[key]\n",
       "    return obj;\n",
       "  }, {});\n",
       "}\n",
       "\n",
       "mpl.figure.prototype.mouse_event = function(event, name) {\n",
       "    var canvas_pos = mpl.findpos(event)\n",
       "\n",
       "    if (name === 'button_press')\n",
       "    {\n",
       "        this.canvas.focus();\n",
       "        this.canvas_div.focus();\n",
       "    }\n",
       "\n",
       "    var x = canvas_pos.x * mpl.ratio;\n",
       "    var y = canvas_pos.y * mpl.ratio;\n",
       "\n",
       "    this.send_message(name, {x: x, y: y, button: event.button,\n",
       "                             step: event.step,\n",
       "                             guiEvent: simpleKeys(event)});\n",
       "\n",
       "    /* This prevents the web browser from automatically changing to\n",
       "     * the text insertion cursor when the button is pressed.  We want\n",
       "     * to control all of the cursor setting manually through the\n",
       "     * 'cursor' event from matplotlib */\n",
       "    event.preventDefault();\n",
       "    return false;\n",
       "}\n",
       "\n",
       "mpl.figure.prototype._key_event_extra = function(event, name) {\n",
       "    // Handle any extra behaviour associated with a key event\n",
       "}\n",
       "\n",
       "mpl.figure.prototype.key_event = function(event, name) {\n",
       "\n",
       "    // Prevent repeat events\n",
       "    if (name == 'key_press')\n",
       "    {\n",
       "        if (event.which === this._key)\n",
       "            return;\n",
       "        else\n",
       "            this._key = event.which;\n",
       "    }\n",
       "    if (name == 'key_release')\n",
       "        this._key = null;\n",
       "\n",
       "    var value = '';\n",
       "    if (event.ctrlKey && event.which != 17)\n",
       "        value += \"ctrl+\";\n",
       "    if (event.altKey && event.which != 18)\n",
       "        value += \"alt+\";\n",
       "    if (event.shiftKey && event.which != 16)\n",
       "        value += \"shift+\";\n",
       "\n",
       "    value += 'k';\n",
       "    value += event.which.toString();\n",
       "\n",
       "    this._key_event_extra(event, name);\n",
       "\n",
       "    this.send_message(name, {key: value,\n",
       "                             guiEvent: simpleKeys(event)});\n",
       "    return false;\n",
       "}\n",
       "\n",
       "mpl.figure.prototype.toolbar_button_onclick = function(name) {\n",
       "    if (name == 'download') {\n",
       "        this.handle_save(this, null);\n",
       "    } else {\n",
       "        this.send_message(\"toolbar_button\", {name: name});\n",
       "    }\n",
       "};\n",
       "\n",
       "mpl.figure.prototype.toolbar_button_onmouseover = function(tooltip) {\n",
       "    this.message.textContent = tooltip;\n",
       "};\n",
       "mpl.toolbar_items = [[\"Home\", \"Reset original view\", \"fa fa-home icon-home\", \"home\"], [\"Back\", \"Back to  previous view\", \"fa fa-arrow-left icon-arrow-left\", \"back\"], [\"Forward\", \"Forward to next view\", \"fa fa-arrow-right icon-arrow-right\", \"forward\"], [\"\", \"\", \"\", \"\"], [\"Pan\", \"Pan axes with left mouse, zoom with right\", \"fa fa-arrows icon-move\", \"pan\"], [\"Zoom\", \"Zoom to rectangle\", \"fa fa-square-o icon-check-empty\", \"zoom\"], [\"\", \"\", \"\", \"\"], [\"Download\", \"Download plot\", \"fa fa-floppy-o icon-save\", \"download\"]];\n",
       "\n",
       "mpl.extensions = [\"eps\", \"jpeg\", \"pdf\", \"png\", \"ps\", \"raw\", \"svg\", \"tif\"];\n",
       "\n",
       "mpl.default_extension = \"png\";var comm_websocket_adapter = function(comm) {\n",
       "    // Create a \"websocket\"-like object which calls the given IPython comm\n",
       "    // object with the appropriate methods. Currently this is a non binary\n",
       "    // socket, so there is still some room for performance tuning.\n",
       "    var ws = {};\n",
       "\n",
       "    ws.close = function() {\n",
       "        comm.close()\n",
       "    };\n",
       "    ws.send = function(m) {\n",
       "        //console.log('sending', m);\n",
       "        comm.send(m);\n",
       "    };\n",
       "    // Register the callback with on_msg.\n",
       "    comm.on_msg(function(msg) {\n",
       "        //console.log('receiving', msg['content']['data'], msg);\n",
       "        // Pass the mpl event to the overridden (by mpl) onmessage function.\n",
       "        ws.onmessage(msg['content']['data'])\n",
       "    });\n",
       "    return ws;\n",
       "}\n",
       "\n",
       "mpl.mpl_figure_comm = function(comm, msg) {\n",
       "    // This is the function which gets called when the mpl process\n",
       "    // starts-up an IPython Comm through the \"matplotlib\" channel.\n",
       "\n",
       "    var id = msg.content.data.id;\n",
       "    // Get hold of the div created by the display call when the Comm\n",
       "    // socket was opened in Python.\n",
       "    var element = $(\"#\" + id);\n",
       "    var ws_proxy = comm_websocket_adapter(comm)\n",
       "\n",
       "    function ondownload(figure, format) {\n",
       "        window.open(figure.imageObj.src);\n",
       "    }\n",
       "\n",
       "    var fig = new mpl.figure(id, ws_proxy,\n",
       "                           ondownload,\n",
       "                           element.get(0));\n",
       "\n",
       "    // Call onopen now - mpl needs it, as it is assuming we've passed it a real\n",
       "    // web socket which is closed, not our websocket->open comm proxy.\n",
       "    ws_proxy.onopen();\n",
       "\n",
       "    fig.parent_element = element.get(0);\n",
       "    fig.cell_info = mpl.find_output_cell(\"<div id='\" + id + \"'></div>\");\n",
       "    if (!fig.cell_info) {\n",
       "        console.error(\"Failed to find cell for figure\", id, fig);\n",
       "        return;\n",
       "    }\n",
       "\n",
       "    var output_index = fig.cell_info[2]\n",
       "    var cell = fig.cell_info[0];\n",
       "\n",
       "};\n",
       "\n",
       "mpl.figure.prototype.handle_close = function(fig, msg) {\n",
       "    var width = fig.canvas.width/mpl.ratio\n",
       "    fig.root.unbind('remove')\n",
       "\n",
       "    // Update the output cell to use the data from the current canvas.\n",
       "    fig.push_to_output();\n",
       "    var dataURL = fig.canvas.toDataURL();\n",
       "    // Re-enable the keyboard manager in IPython - without this line, in FF,\n",
       "    // the notebook keyboard shortcuts fail.\n",
       "    IPython.keyboard_manager.enable()\n",
       "    $(fig.parent_element).html('<img src=\"' + dataURL + '\" width=\"' + width + '\">');\n",
       "    fig.close_ws(fig, msg);\n",
       "}\n",
       "\n",
       "mpl.figure.prototype.close_ws = function(fig, msg){\n",
       "    fig.send_message('closing', msg);\n",
       "    // fig.ws.close()\n",
       "}\n",
       "\n",
       "mpl.figure.prototype.push_to_output = function(remove_interactive) {\n",
       "    // Turn the data on the canvas into data in the output cell.\n",
       "    var width = this.canvas.width/mpl.ratio\n",
       "    var dataURL = this.canvas.toDataURL();\n",
       "    this.cell_info[1]['text/html'] = '<img src=\"' + dataURL + '\" width=\"' + width + '\">';\n",
       "}\n",
       "\n",
       "mpl.figure.prototype.updated_canvas_event = function() {\n",
       "    // Tell IPython that the notebook contents must change.\n",
       "    IPython.notebook.set_dirty(true);\n",
       "    this.send_message(\"ack\", {});\n",
       "    var fig = this;\n",
       "    // Wait a second, then push the new image to the DOM so\n",
       "    // that it is saved nicely (might be nice to debounce this).\n",
       "    setTimeout(function () { fig.push_to_output() }, 1000);\n",
       "}\n",
       "\n",
       "mpl.figure.prototype._init_toolbar = function() {\n",
       "    var fig = this;\n",
       "\n",
       "    var nav_element = $('<div/>')\n",
       "    nav_element.attr('style', 'width: 100%');\n",
       "    this.root.append(nav_element);\n",
       "\n",
       "    // Define a callback function for later on.\n",
       "    function toolbar_event(event) {\n",
       "        return fig.toolbar_button_onclick(event['data']);\n",
       "    }\n",
       "    function toolbar_mouse_event(event) {\n",
       "        return fig.toolbar_button_onmouseover(event['data']);\n",
       "    }\n",
       "\n",
       "    for(var toolbar_ind in mpl.toolbar_items){\n",
       "        var name = mpl.toolbar_items[toolbar_ind][0];\n",
       "        var tooltip = mpl.toolbar_items[toolbar_ind][1];\n",
       "        var image = mpl.toolbar_items[toolbar_ind][2];\n",
       "        var method_name = mpl.toolbar_items[toolbar_ind][3];\n",
       "\n",
       "        if (!name) { continue; };\n",
       "\n",
       "        var button = $('<button class=\"btn btn-default\" href=\"#\" title=\"' + name + '\"><i class=\"fa ' + image + ' fa-lg\"></i></button>');\n",
       "        button.click(method_name, toolbar_event);\n",
       "        button.mouseover(tooltip, toolbar_mouse_event);\n",
       "        nav_element.append(button);\n",
       "    }\n",
       "\n",
       "    // Add the status bar.\n",
       "    var status_bar = $('<span class=\"mpl-message\" style=\"text-align:right; float: right;\"/>');\n",
       "    nav_element.append(status_bar);\n",
       "    this.message = status_bar[0];\n",
       "\n",
       "    // Add the close button to the window.\n",
       "    var buttongrp = $('<div class=\"btn-group inline pull-right\"></div>');\n",
       "    var button = $('<button class=\"btn btn-mini btn-primary\" href=\"#\" title=\"Stop Interaction\"><i class=\"fa fa-power-off icon-remove icon-large\"></i></button>');\n",
       "    button.click(function (evt) { fig.handle_close(fig, {}); } );\n",
       "    button.mouseover('Stop Interaction', toolbar_mouse_event);\n",
       "    buttongrp.append(button);\n",
       "    var titlebar = this.root.find($('.ui-dialog-titlebar'));\n",
       "    titlebar.prepend(buttongrp);\n",
       "}\n",
       "\n",
       "mpl.figure.prototype._root_extra_style = function(el){\n",
       "    var fig = this\n",
       "    el.on(\"remove\", function(){\n",
       "\tfig.close_ws(fig, {});\n",
       "    });\n",
       "}\n",
       "\n",
       "mpl.figure.prototype._canvas_extra_style = function(el){\n",
       "    // this is important to make the div 'focusable\n",
       "    el.attr('tabindex', 0)\n",
       "    // reach out to IPython and tell the keyboard manager to turn it's self\n",
       "    // off when our div gets focus\n",
       "\n",
       "    // location in version 3\n",
       "    if (IPython.notebook.keyboard_manager) {\n",
       "        IPython.notebook.keyboard_manager.register_events(el);\n",
       "    }\n",
       "    else {\n",
       "        // location in version 2\n",
       "        IPython.keyboard_manager.register_events(el);\n",
       "    }\n",
       "\n",
       "}\n",
       "\n",
       "mpl.figure.prototype._key_event_extra = function(event, name) {\n",
       "    var manager = IPython.notebook.keyboard_manager;\n",
       "    if (!manager)\n",
       "        manager = IPython.keyboard_manager;\n",
       "\n",
       "    // Check for shift+enter\n",
       "    if (event.shiftKey && event.which == 13) {\n",
       "        this.canvas_div.blur();\n",
       "        event.shiftKey = false;\n",
       "        // Send a \"J\" for go to next cell\n",
       "        event.which = 74;\n",
       "        event.keyCode = 74;\n",
       "        manager.command_mode();\n",
       "        manager.handle_keydown(event);\n",
       "    }\n",
       "}\n",
       "\n",
       "mpl.figure.prototype.handle_save = function(fig, msg) {\n",
       "    fig.ondownload(fig, null);\n",
       "}\n",
       "\n",
       "\n",
       "mpl.find_output_cell = function(html_output) {\n",
       "    // Return the cell and output element which can be found *uniquely* in the notebook.\n",
       "    // Note - this is a bit hacky, but it is done because the \"notebook_saving.Notebook\"\n",
       "    // IPython event is triggered only after the cells have been serialised, which for\n",
       "    // our purposes (turning an active figure into a static one), is too late.\n",
       "    var cells = IPython.notebook.get_cells();\n",
       "    var ncells = cells.length;\n",
       "    for (var i=0; i<ncells; i++) {\n",
       "        var cell = cells[i];\n",
       "        if (cell.cell_type === 'code'){\n",
       "            for (var j=0; j<cell.output_area.outputs.length; j++) {\n",
       "                var data = cell.output_area.outputs[j];\n",
       "                if (data.data) {\n",
       "                    // IPython >= 3 moved mimebundle to data attribute of output\n",
       "                    data = data.data;\n",
       "                }\n",
       "                if (data['text/html'] == html_output) {\n",
       "                    return [cell, data, j];\n",
       "                }\n",
       "            }\n",
       "        }\n",
       "    }\n",
       "}\n",
       "\n",
       "// Register the function which deals with the matplotlib target/channel.\n",
       "// The kernel may be null if the page has been refreshed.\n",
       "if (IPython.notebook.kernel != null) {\n",
       "    IPython.notebook.kernel.comm_manager.register_target('matplotlib', mpl.mpl_figure_comm);\n",
       "}\n"
      ],
      "text/plain": [
       "<IPython.core.display.Javascript object>"
      ]
     },
     "metadata": {},
     "output_type": "display_data"
    },
    {
     "data": {
      "text/html": [
       "<img src=\"data:image/png;base64,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\" width=\"432\">"
      ],
      "text/plain": [
       "<IPython.core.display.HTML object>"
      ]
     },
     "metadata": {},
     "output_type": "display_data"
    },
    {
     "data": {
      "text/plain": [
       "([<matplotlib.axis.XTick at 0x11ae7a0f0>,\n",
       "  <matplotlib.axis.XTick at 0x11ae635f8>,\n",
       "  <matplotlib.axis.XTick at 0x11ae63898>,\n",
       "  <matplotlib.axis.XTick at 0x11ceaee48>,\n",
       "  <matplotlib.axis.XTick at 0x11ceb7358>,\n",
       "  <matplotlib.axis.XTick at 0x11ceb7828>,\n",
       "  <matplotlib.axis.XTick at 0x11ceb7320>,\n",
       "  <matplotlib.axis.XTick at 0x11ceb7e80>],\n",
       " <a list of 8 Text xticklabel objects>)"
      ]
     },
     "execution_count": 64,
     "metadata": {},
     "output_type": "execute_result"
    }
   ],
   "source": [
    "freqs = count_dic.values()\n",
    "labels = count_dic.keys()\n",
    "plt.bar(x_coords, freqs)\n",
    "plt.xticks(x_coords, labels)"
   ]
  },
  {
   "cell_type": "markdown",
   "metadata": {},
   "source": [
    "---\n",
    "<a id='p4'></a>\n",
    "### Problem 4 [10 pts]: Average Area of the Circles (Part 1)\n",
    "The file `circles.txt` contains measurements of circle radii.  Your task is to write a script that reports the average area of the circles.  You will **not** use the `numpy` `mean` function.  Here are the requirements:\n",
    "1. Open `circles.txt`, read in the data, and convert the data to floats. Store in a list.\n",
    "2. Write a function that computes the area of a circle.  The argument should be a single `float`.\n",
    "3. Write a function, called `myave`, that computes the average of the areas of the circles.\n",
    "   - At the very least, `myave` should accept the list of radii as one argument and the circle function that you wrote in step 2 as another argument.\n",
    "   - **Note:** There are other ways of doing this task, but I want you to do it this way.\n",
    "4. Print out the result."
   ]
  },
  {
   "cell_type": "code",
   "execution_count": 133,
   "metadata": {
    "collapsed": true
   },
   "outputs": [],
   "source": [
    "radii_list = []\n",
    "with open('circles.txt') as f:\n",
    "    for line in f:\n",
    "        radii_list.append(float(line))\n",
    "f.close()"
   ]
  },
  {
   "cell_type": "code",
   "execution_count": 134,
   "metadata": {},
   "outputs": [
    {
     "data": {
      "text/plain": [
       "[0.9681561892825645,\n",
       " 0.9383571028606462,\n",
       " 0.9633466725922948,\n",
       " 1.1190000819885169,\n",
       " 0.9015032470985564,\n",
       " 1.0779366864304603,\n",
       " 1.061823319972431,\n",
       " 0.9013113835172839,\n",
       " 0.9948860105821155,\n",
       " 0.895358065403631]"
      ]
     },
     "execution_count": 134,
     "metadata": {},
     "output_type": "execute_result"
    }
   ],
   "source": [
    "radii_list[:10]"
   ]
  },
  {
   "cell_type": "code",
   "execution_count": 135,
   "metadata": {
    "collapsed": true
   },
   "outputs": [],
   "source": [
    "def cal_area(radius):\n",
    "    area = np.pi*radius*radius\n",
    "    return area"
   ]
  },
  {
   "cell_type": "code",
   "execution_count": 136,
   "metadata": {
    "collapsed": true
   },
   "outputs": [],
   "source": [
    "def myave(f, ls):\n",
    "    def inner(ls):\n",
    "        area_sum = 0\n",
    "        for item in ls:\n",
    "            area_sum += f(item)\n",
    "        ave_area = area_sum/len(ls)\n",
    "        return ave_area\n",
    "    return inner"
   ]
  },
  {
   "cell_type": "code",
   "execution_count": 137,
   "metadata": {},
   "outputs": [
    {
     "data": {
      "text/plain": [
       "3.1958990970819956"
      ]
     },
     "execution_count": 137,
     "metadata": {},
     "output_type": "execute_result"
    }
   ],
   "source": [
    "ave_area = myave(cal_area, radii_list)\n",
    "ave_area(radii_list)"
   ]
  },
  {
   "cell_type": "markdown",
   "metadata": {},
   "source": [
    "---\n",
    "<a id='part_3'></a>\n",
    "## Part 3 [30 pts]: Closures and Decorators\n",
    "<a id='p5'></a>\n",
    "### Problem 5 [10 pts]: Simple Bank Account Withdraw System\n",
    "The goal of this problem is to write a simple bank account withdraw system.  The problem is based off of a problem in _Structure and Interpretation of Computer Programs_.\n",
    "\n",
    "**Instructions:** Do each part in a different cell block and clearly label each part.\n",
    "\n",
    "**a).**\n",
    "Write a closure to make withdraws from a bank account.  The outer function should be accept the initial balance as an argument (I'll refer to this argument as `balance` in this problem statement, but you can call it whatever you want).  The inner function should accept the withdraw amount as an argument and return the new balance.\n",
    "\n",
    "**NOTE 1:** For this part, do not try to reassign `balance` in the inner function.  Just see what happens when you return a new balance.  You can store the new balance in a new name (call it `new_bal` if you want) or just return the new balance directly.\n",
    "\n",
    "**NOTE 2:** You should check for basic exceptions (e.g. attempting to withdraw more than the current balance).\n",
    "\n",
    "Once you write your functions, demo them in your notebook as follows:\n",
    "\n",
    "```python\n",
    "wd = make_withdraw(init_balance)\n",
    "wd(withdraw_amount)\n",
    "wd(new_withdraw_amount)\n",
    "```\n",
    "\n",
    "You should observe that this does not behave correctly.  **Explain why not.**\n",
    "\n",
    "**b).**\n",
    "You can fix things up by updating `balance` within the inner function.  But this won't work.  Try it out and explain why it doesn't work.  Try to use the language that we used in lecture.  \n",
    "\n",
    "  * **Hint:** [Python Execution Model](https://docs.python.org/3/reference/executionmodel.html).\n",
    "\n",
    "**c).**\n",
    "Now make just one small change to your code from Part b.  Declare `balance` as a nonlocal variable using the `nonlocal` keyword.  That is, before you get to the inner function, say `nonlocal balance`.  Here's some information on the `nonlocal` statement:  [`nonlocal`](https://docs.python.org/3/reference/simple_stmts.html#nonlocal).\n",
    "\n",
    "Now test things out like you did in Part a.  It should be behaving correctly now.\n",
    "\n",
    "**d).**\n",
    "Finally, visualize your code with [Python Tutor](http://pythontutor.com/) and embed your visualization in your notebook.  Pay attention to the variable `balance`."
   ]
  },
  {
   "cell_type": "markdown",
   "metadata": {},
   "source": [
    "#### a)"
   ]
  },
  {
   "cell_type": "code",
   "execution_count": 31,
   "metadata": {
    "collapsed": true
   },
   "outputs": [],
   "source": [
    "def make_withdraw(init_balance):\n",
    "    def inner(withdraw_amount):\n",
    "        try:\n",
    "            assert init_balance >= withdraw_amount\n",
    "            new_bal = init_balance - withdraw_amount\n",
    "            return print(\"new balance is:\", new_bal)\n",
    "        except AssertionError:\n",
    "            print(\"Withdraw amount must be smaller than the current balance\")\n",
    "    return inner"
   ]
  },
  {
   "cell_type": "code",
   "execution_count": 32,
   "metadata": {},
   "outputs": [
    {
     "name": "stdout",
     "output_type": "stream",
     "text": [
      "Withdraw amount must be smaller than the current balance\n"
     ]
    }
   ],
   "source": [
    "#initial balance is 1200\n",
    "wd = make_withdraw(1200)\n",
    "wd(1300)"
   ]
  },
  {
   "cell_type": "code",
   "execution_count": 33,
   "metadata": {},
   "outputs": [
    {
     "name": "stdout",
     "output_type": "stream",
     "text": [
      "new balance is: 900\n"
     ]
    }
   ],
   "source": [
    "wd(300)"
   ]
  },
  {
   "cell_type": "code",
   "execution_count": 34,
   "metadata": {},
   "outputs": [
    {
     "name": "stdout",
     "output_type": "stream",
     "text": [
      "new balance is: 600\n"
     ]
    }
   ],
   "source": [
    "wd(600)"
   ]
  },
  {
   "cell_type": "markdown",
   "metadata": {},
   "source": [
    "Since the initial balance does not change, it always be 1200 which is the start value. "
   ]
  },
  {
   "cell_type": "markdown",
   "metadata": {},
   "source": [
    "#### b)"
   ]
  },
  {
   "cell_type": "code",
   "execution_count": 25,
   "metadata": {
    "collapsed": true
   },
   "outputs": [],
   "source": [
    "def make_withdraw(init_balance):\n",
    "    def inner(withdraw_amount):\n",
    "        try:\n",
    "            balance = init_balance\n",
    "            assert balance >= withdraw_amount\n",
    "            new_bal = balance - withdraw_amount\n",
    "            balance = new_bal\n",
    "            return print(\"new balance is:\", new_bal)\n",
    "        except AssertionError:\n",
    "            print(\"Withdraw amount must be smaller than the current balance\")\n",
    "    return inner"
   ]
  },
  {
   "cell_type": "code",
   "execution_count": 26,
   "metadata": {},
   "outputs": [
    {
     "name": "stdout",
     "output_type": "stream",
     "text": [
      "Withdraw amount must be smaller than the current balance\n"
     ]
    }
   ],
   "source": [
    "#initial balance is 1200\n",
    "wd2 = make_withdraw(1200)\n",
    "wd2(1300)"
   ]
  },
  {
   "cell_type": "code",
   "execution_count": 27,
   "metadata": {},
   "outputs": [
    {
     "name": "stdout",
     "output_type": "stream",
     "text": [
      "new balance is: 900\n"
     ]
    }
   ],
   "source": [
    "wd2(300)"
   ]
  },
  {
   "cell_type": "code",
   "execution_count": 28,
   "metadata": {},
   "outputs": [
    {
     "name": "stdout",
     "output_type": "stream",
     "text": [
      "new balance is: 900\n"
     ]
    }
   ],
   "source": [
    "wd2(300)"
   ]
  },
  {
   "cell_type": "markdown",
   "metadata": {
    "collapsed": true
   },
   "source": [
    "The balance in the innner function cannot be seen by the outer function, so that the balance after the execution of the innner function is still the same amount."
   ]
  },
  {
   "cell_type": "markdown",
   "metadata": {
    "collapsed": true
   },
   "source": [
    "#### c)"
   ]
  },
  {
   "cell_type": "code",
   "execution_count": 23,
   "metadata": {
    "collapsed": true
   },
   "outputs": [],
   "source": [
    "def make_withdraw(init_balance):\n",
    "    def inner(withdraw_amount):\n",
    "        nonlocal init_balance\n",
    "        try:\n",
    "            assert init_balance >= withdraw_amount\n",
    "            new_bal = init_balance - withdraw_amount\n",
    "            init_balance = new_bal\n",
    "            return print(\"new balance is:\", new_bal)\n",
    "        except AssertionError:\n",
    "            print(\"Withdraw amount must be smaller than the current balance\")\n",
    "    return inner"
   ]
  },
  {
   "cell_type": "code",
   "execution_count": 24,
   "metadata": {},
   "outputs": [
    {
     "name": "stdout",
     "output_type": "stream",
     "text": [
      "Withdraw amount must be smaller than the current balance\n"
     ]
    }
   ],
   "source": [
    "#initial balance is 1200\n",
    "wd3 = make_withdraw(1200)\n",
    "wd3(1300)"
   ]
  },
  {
   "cell_type": "code",
   "execution_count": 29,
   "metadata": {},
   "outputs": [
    {
     "name": "stdout",
     "output_type": "stream",
     "text": [
      "new balance is: 900\n"
     ]
    }
   ],
   "source": [
    "wd3(300)"
   ]
  },
  {
   "cell_type": "code",
   "execution_count": 30,
   "metadata": {},
   "outputs": [
    {
     "name": "stdout",
     "output_type": "stream",
     "text": [
      "new balance is: 300\n"
     ]
    }
   ],
   "source": [
    "wd3(600)"
   ]
  },
  {
   "cell_type": "markdown",
   "metadata": {},
   "source": [
    "Now, the balance updates after withdrawal each time."
   ]
  },
  {
   "cell_type": "markdown",
   "metadata": {},
   "source": [
    "#### d)"
   ]
  },
  {
   "cell_type": "markdown",
   "metadata": {},
   "source": [
    "[visualization](http://pythontutor.com/iframe-embed.html#code=def%20make_withdraw%28init_balance%29%3A%0A%20%20%20%20def%20inner%28withdraw_amount%29%3A%0A%20%20%20%20%20%20%20%20nonlocal%20init_balance%0A%20%20%20%20%20%20%20%20try%3A%0A%20%20%20%20%20%20%20%20%20%20%20%20assert%20init_balance%20%3E%3D%20withdraw_amount%0A%20%20%20%20%20%20%20%20%20%20%20%20new_bal%20%3D%20init_balance%20-%20withdraw_amount%0A%20%20%20%20%20%20%20%20%20%20%20%20init_balance%20%3D%20new_bal%0A%20%20%20%20%20%20%20%20%20%20%20%20return%20print%28%22new%20balance%20is%3A%22,%20new_bal%29%0A%20%20%20%20%20%20%20%20except%20AssertionError%3A%0A%20%20%20%20%20%20%20%20%20%20%20%20print%28%22Withdraw%20amount%20must%20be%20smaller%20than%20the%20current%20balance%22%29%0A%20%20%20%20return%20inner%0A%20%20%20%20%0Awd3%20%3D%20make_withdraw%281200%29%0Awd3%281300%29%0Awd3%28300%29%0Awd3%28600%29&codeDivHeight=400&codeDivWidth=350&cumulative=false&curInstr=30&heapPrimitives=nevernest&origin=opt-frontend.js&py=3&rawInputLstJSON=%5B%5D&textReferences=false)"
   ]
  },
  {
   "cell_type": "markdown",
   "metadata": {},
   "source": [
    "---\n",
    "<a id='p6'></a>\n",
    "### Problem 6 [10 pts]: Average Area of the Circles (part 2)\n",
    "Let's return to the data from Problem 4.  \n",
    "\n",
    "Write two functions: \n",
    "1. The first function should return the average circle radius (you can re-use the one you already wrote if you'd like, but you might need to update it slightly for this problem).\n",
    "2. The second function should just use `numpy` to compute the average.\n",
    "\n",
    "Write a decorator to time the evaluation of each function.  You can use the timing decorator from lecture.\n",
    "\n",
    "#### Notes and Hints\n",
    "1. Be fair!\n",
    "2. To be as fair as possible, do the following:\n",
    "  1. Create an `areas` list/array _outside_ of your averaging functions.  This means that you should do a loop over the radii you read in from `circles.txt`, compute the area from each point, and store that area in an array.  Do you know why this is more fair?  If not, think about it make sure you understand.  Also, do not use `append`.  Instead, preallocate space for your `area` list/array.\n",
    "  2. Your `my_ave` function should accept your areas data as a list.  Remember, to allocate a list you should do `[0.0]*N`: if you use such a construct your list will be filled in with $N$ zeros.\n",
    "  3. Your `np_ave` function should accept your areas data as a `numpy` array.  To allocate a `numpy` array do `areas_np = np.zeros(len(radii))`.\n",
    "  4. Now both functions are using the best data types possible for their tasks."
   ]
  },
  {
   "cell_type": "markdown",
   "metadata": {},
   "source": [
    "#### 1. Function"
   ]
  },
  {
   "cell_type": "code",
   "execution_count": 126,
   "metadata": {
    "collapsed": true
   },
   "outputs": [],
   "source": [
    "radii_list = []\n",
    "with open('circles.txt') as f:\n",
    "    for line in f:\n",
    "        radii_list.append(float(line))\n",
    "f.close()"
   ]
  },
  {
   "cell_type": "code",
   "execution_count": 138,
   "metadata": {
    "collapsed": true
   },
   "outputs": [],
   "source": [
    "area_list = [0.0]*len(radii_list)\n",
    "for i in range(len(radii_list)):\n",
    "    area_list[i] = cal_area(radii_list[i])\n",
    "def my_ave(area_list):\n",
    "    area_sum = 0\n",
    "    for item in area_list:\n",
    "        area_sum += item\n",
    "    ave = area_sum/len(area_list)\n",
    "    return ave"
   ]
  },
  {
   "cell_type": "code",
   "execution_count": 139,
   "metadata": {},
   "outputs": [
    {
     "name": "stdout",
     "output_type": "stream",
     "text": [
      "3.1958990970819956\n"
     ]
    }
   ],
   "source": [
    "print(my_ave(area_list))"
   ]
  },
  {
   "cell_type": "markdown",
   "metadata": {},
   "source": [
    "#### 2. Numpy"
   ]
  },
  {
   "cell_type": "code",
   "execution_count": 140,
   "metadata": {
    "collapsed": true
   },
   "outputs": [],
   "source": [
    "area_array = np.zeros(len(radii_list))\n",
    "for i in range(len(radii_list)):\n",
    "    area_array[i] = cal_area(radii_list[i])\n",
    "def np_ave(radii_list):\n",
    "    ave = np.mean(area_list)\n",
    "    return ave"
   ]
  },
  {
   "cell_type": "code",
   "execution_count": 141,
   "metadata": {},
   "outputs": [
    {
     "name": "stdout",
     "output_type": "stream",
     "text": [
      "3.19589909708\n"
     ]
    }
   ],
   "source": [
    "print(np_ave(radii_list))"
   ]
  },
  {
   "cell_type": "markdown",
   "metadata": {},
   "source": [
    "#### 3. Compare time"
   ]
  },
  {
   "cell_type": "code",
   "execution_count": 142,
   "metadata": {
    "collapsed": true
   },
   "outputs": [],
   "source": [
    "import time\n",
    "def timer(f):\n",
    "    def inner(*args):\n",
    "        t0 = time.time()\n",
    "        output = f(*args)\n",
    "        elapsed = time.time() - t0\n",
    "        print(\"Time Elapsed\", elapsed)\n",
    "        return output\n",
    "    return inner"
   ]
  },
  {
   "cell_type": "code",
   "execution_count": 144,
   "metadata": {},
   "outputs": [
    {
     "name": "stdout",
     "output_type": "stream",
     "text": [
      "Time Elapsed 3.0040740966796875e-05\n"
     ]
    }
   ],
   "source": [
    "@timer\n",
    "def my_ave(area_list):\n",
    "    area_sum = 0\n",
    "    for item in area_list:\n",
    "        area_sum += item\n",
    "    ave = area_sum/len(area_list)\n",
    "    return ave\n",
    "\n",
    "ave = my_ave(area_list)"
   ]
  },
  {
   "cell_type": "code",
   "execution_count": 145,
   "metadata": {},
   "outputs": [
    {
     "name": "stdout",
     "output_type": "stream",
     "text": [
      "Time Elapsed 0.00013494491577148438\n"
     ]
    }
   ],
   "source": [
    "@timer\n",
    "def np_ave(radii_list):\n",
    "    ave = np.mean(area_list)\n",
    "    return ave\n",
    "\n",
    "ave = np_ave(radii_list)"
   ]
  },
  {
   "cell_type": "markdown",
   "metadata": {},
   "source": [
    "Method using for loop and list is faster than the method using numpy."
   ]
  },
  {
   "cell_type": "markdown",
   "metadata": {},
   "source": [
    "---\n",
    "<a id='p7'></a>\n",
    "### Problem 7 [10 pts]: Positivity\n",
    "Write a decorator to check if a quantity returned from a function is positive.  An exception should be raised if the quantity is not positive.\n",
    "\n",
    "Write three functions and decorate them with your decorator:\n",
    "1. A function that returns the discriminant $\\displaystyle d = b^{2} - 4ac$\n",
    "2. A function that computes the absolute value (you must write this yourself...do not use built-ins)\n",
    "3. A function of your own choosing.\n",
    "\n",
    "Show that your decorator behaves correctly.  That is, for each function, show two cases (where applicable):\n",
    "1. A case where positivity is not violated\n",
    "2. A case where positivity is violated"
   ]
  },
  {
   "cell_type": "code",
   "execution_count": 192,
   "metadata": {
    "collapsed": true
   },
   "outputs": [],
   "source": [
    "#decorator\n",
    "def check_quantity(f):\n",
    "    def inner(*arg):\n",
    "        check_num = f(*arg)\n",
    "        try:\n",
    "            assert check_num > 0\n",
    "            return print(\"The quantity is positive.\")\n",
    "        except AssertionError:\n",
    "            return print(\"Error: The quantity is not positive.\")\n",
    "        return\n",
    "    return inner"
   ]
  },
  {
   "cell_type": "markdown",
   "metadata": {},
   "source": [
    "#### 1. "
   ]
  },
  {
   "cell_type": "code",
   "execution_count": 193,
   "metadata": {
    "collapsed": true
   },
   "outputs": [],
   "source": [
    "@check_quantity\n",
    "def discriminant(a, b, c):\n",
    "    d = b**2 - 4*a*c\n",
    "    return d"
   ]
  },
  {
   "cell_type": "code",
   "execution_count": 194,
   "metadata": {},
   "outputs": [
    {
     "name": "stdout",
     "output_type": "stream",
     "text": [
      "The quantity is positive.\n"
     ]
    }
   ],
   "source": [
    "#positive is not violated\n",
    "discriminant(1, 4, 1)"
   ]
  },
  {
   "cell_type": "code",
   "execution_count": 195,
   "metadata": {},
   "outputs": [
    {
     "name": "stdout",
     "output_type": "stream",
     "text": [
      "Error: The quantity is not positive.\n"
     ]
    }
   ],
   "source": [
    "#positive is violated\n",
    "discriminant(4, 2, 1)"
   ]
  },
  {
   "cell_type": "markdown",
   "metadata": {},
   "source": [
    "#### 2. "
   ]
  },
  {
   "cell_type": "code",
   "execution_count": 196,
   "metadata": {
    "collapsed": true
   },
   "outputs": [],
   "source": [
    "@check_quantity\n",
    "def absolute(value):\n",
    "    if value >= 0:\n",
    "        return value\n",
    "    else:\n",
    "        return -value"
   ]
  },
  {
   "cell_type": "code",
   "execution_count": 197,
   "metadata": {},
   "outputs": [
    {
     "name": "stdout",
     "output_type": "stream",
     "text": [
      "The quantity is positive.\n"
     ]
    }
   ],
   "source": [
    "#positive is not violated\n",
    "absolute(-3)"
   ]
  },
  {
   "cell_type": "code",
   "execution_count": 198,
   "metadata": {},
   "outputs": [
    {
     "name": "stdout",
     "output_type": "stream",
     "text": [
      "Error: The quantity is not positive.\n"
     ]
    }
   ],
   "source": [
    "#positive is violated\n",
    "absolute(0)"
   ]
  },
  {
   "cell_type": "markdown",
   "metadata": {},
   "source": [
    "#### 3. "
   ]
  },
  {
   "cell_type": "code",
   "execution_count": 208,
   "metadata": {
    "collapsed": true
   },
   "outputs": [],
   "source": [
    "@check_quantity\n",
    "def random_num():\n",
    "    randnum = np.random.randint(-3, 3)\n",
    "    print(\"Random number is\", randnum)\n",
    "    return randnum"
   ]
  },
  {
   "cell_type": "code",
   "execution_count": 209,
   "metadata": {},
   "outputs": [
    {
     "name": "stdout",
     "output_type": "stream",
     "text": [
      "Random number is -3\n",
      "Error: The quantity is not positive.\n"
     ]
    }
   ],
   "source": [
    "#positive is violated\n",
    "random_num()"
   ]
  },
  {
   "cell_type": "code",
   "execution_count": 211,
   "metadata": {},
   "outputs": [
    {
     "name": "stdout",
     "output_type": "stream",
     "text": [
      "Random number is 2\n",
      "The quantity is positive.\n"
     ]
    }
   ],
   "source": [
    "#positive is not violated\n",
    "random_num()"
   ]
  }
 ],
 "metadata": {
  "kernelspec": {
   "display_name": "Python 3",
   "language": "python",
   "name": "python3"
  },
  "language_info": {
   "codemirror_mode": {
    "name": "ipython",
    "version": 3
   },
   "file_extension": ".py",
   "mimetype": "text/x-python",
   "name": "python",
   "nbconvert_exporter": "python",
   "pygments_lexer": "ipython3",
   "version": "3.6.5"
  }
 },
 "nbformat": 4,
 "nbformat_minor": 2
}
