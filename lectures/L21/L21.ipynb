{
 "cells": [
  {
   "cell_type": "markdown",
   "metadata": {},
   "source": [
    "# Lecture 21\n",
    "## Tuesday, November 13th 2018\n",
    "### Joins with `SQLite`, `pandas`"
   ]
  },
  {
   "cell_type": "markdown",
   "metadata": {},
   "source": [
    "## Starting Up\n",
    "You can connect to the saved database from last time if you want.  Alternatively, for extra practice, you can just recreate it from the datasets provided in the `.txt` files.  That's what I'll do."
   ]
  },
  {
   "cell_type": "code",
   "execution_count": 1,
   "metadata": {
    "collapsed": true
   },
   "outputs": [],
   "source": [
    "import sqlite3\n",
    "import numpy as np\n",
    "import pandas as pd\n",
    "import time\n",
    "pd.set_option('display.width', 500)\n",
    "pd.set_option('display.max_columns', 100)\n",
    "pd.set_option('display.notebook_repr_html', True)\n",
    "\n",
    "db = sqlite3.connect('L21DB_demo.sqlite')\n",
    "cursor = db.cursor()\n",
    "cursor.execute(\"DROP TABLE IF EXISTS candidates\")\n",
    "cursor.execute(\"DROP TABLE IF EXISTS contributors\")\n",
    "cursor.execute(\"PRAGMA foreign_keys=1\")\n",
    "\n",
    "cursor.execute('''CREATE TABLE candidates (\n",
    "               id INTEGER PRIMARY KEY NOT NULL, \n",
    "               first_name TEXT, \n",
    "               last_name TEXT, \n",
    "               middle_init TEXT, \n",
    "               party TEXT NOT NULL)''')\n",
    "\n",
    "db.commit() # Commit changes to the database\n",
    "\n",
    "cursor.execute('''CREATE TABLE contributors (\n",
    "          id INTEGER PRIMARY KEY AUTOINCREMENT NOT NULL, \n",
    "          last_name TEXT, \n",
    "          first_name TEXT, \n",
    "          middle_name TEXT, \n",
    "          street_1 TEXT, \n",
    "          street_2 TEXT, \n",
    "          city TEXT, \n",
    "          state TEXT, \n",
    "          zip TEXT, \n",
    "          amount REAL, \n",
    "          date DATETIME, \n",
    "          candidate_id INTEGER NOT NULL, \n",
    "          FOREIGN KEY(candidate_id) REFERENCES candidates(id))''')\n",
    "\n",
    "db.commit()\n",
    "\n",
    "with open (\"candidates.txt\") as candidates:\n",
    "    next(candidates) # jump over the header\n",
    "    for line in candidates.readlines():\n",
    "        cid, first_name, last_name, middle_name, party = line.strip().split('|')\n",
    "        vals_to_insert = (int(cid), first_name, last_name, middle_name, party)\n",
    "        cursor.execute('''INSERT INTO candidates \n",
    "                  (id, first_name, last_name, middle_init, party)\n",
    "                  VALUES (?, ?, ?, ?, ?)''', vals_to_insert)\n",
    "\n",
    "with open (\"contributors.txt\") as contributors:\n",
    "    next(contributors)\n",
    "    for line in contributors.readlines():\n",
    "        cid, last_name, first_name, middle_name, street_1, street_2, \\\n",
    "            city, state, zip_code, amount, date, candidate_id = line.strip().split('|')\n",
    "        vals_to_insert = (last_name, first_name, middle_name, street_1, street_2, \n",
    "                          city, state, int(zip_code), amount, date, candidate_id)\n",
    "        cursor.execute('''INSERT INTO contributors (last_name, first_name, middle_name, \n",
    "                           street_1, street_2, city, state, zip, amount, date, candidate_id) \n",
    "                           VALUES (?, ?, ?, ?, ?, ?, ?, ?, ?, ?, ?)''', vals_to_insert)\n",
    "\n",
    "candidate_cols = [col[1] for col in cursor.execute(\"PRAGMA table_info(candidates)\")]\n",
    "contributor_cols = [col[1] for col in cursor.execute(\"PRAGMA table_info(contributors)\")]\n",
    "\n",
    "def viz_tables(cols, query):\n",
    "    q = cursor.execute(query).fetchall()\n",
    "    framelist = dict()\n",
    "    for i, col_name in enumerate(cols):\n",
    "        framelist[col_name] = [col[i] for col in q]\n",
    "    return pd.DataFrame.from_dict(framelist)"
   ]
  },
  {
   "cell_type": "markdown",
   "metadata": {},
   "source": [
    "## Recap\n",
    "Last time, you played with a bunch of `SQLite` commands to query and update the tables in the database.\n",
    "\n",
    "One thing we didn't get to was how to query the contributors table based off of a query in the candidates table.  For example, suppose you want to query which contributors donated to Obama. You could use a nested `SELECT` statement to accomplish that."
   ]
  },
  {
   "cell_type": "code",
   "execution_count": 2,
   "metadata": {},
   "outputs": [
    {
     "data": {
      "text/html": [
       "<div>\n",
       "<style scoped>\n",
       "    .dataframe tbody tr th:only-of-type {\n",
       "        vertical-align: middle;\n",
       "    }\n",
       "\n",
       "    .dataframe tbody tr th {\n",
       "        vertical-align: top;\n",
       "    }\n",
       "\n",
       "    .dataframe thead th {\n",
       "        text-align: right;\n",
       "    }\n",
       "</style>\n",
       "<table border=\"1\" class=\"dataframe\">\n",
       "  <thead>\n",
       "    <tr style=\"text-align: right;\">\n",
       "      <th></th>\n",
       "      <th>amount</th>\n",
       "      <th>candidate_id</th>\n",
       "      <th>city</th>\n",
       "      <th>date</th>\n",
       "      <th>first_name</th>\n",
       "      <th>id</th>\n",
       "      <th>last_name</th>\n",
       "      <th>middle_name</th>\n",
       "      <th>state</th>\n",
       "      <th>street_1</th>\n",
       "      <th>street_2</th>\n",
       "      <th>zip</th>\n",
       "    </tr>\n",
       "  </thead>\n",
       "  <tbody>\n",
       "    <tr>\n",
       "      <th>0</th>\n",
       "      <td>50.00</td>\n",
       "      <td>20</td>\n",
       "      <td>Dana Point</td>\n",
       "      <td>2007-07-30</td>\n",
       "      <td>Steve</td>\n",
       "      <td>26</td>\n",
       "      <td>Buckler</td>\n",
       "      <td></td>\n",
       "      <td>CA</td>\n",
       "      <td>24351 Armada Dr</td>\n",
       "      <td></td>\n",
       "      <td>926291306</td>\n",
       "    </tr>\n",
       "    <tr>\n",
       "      <th>1</th>\n",
       "      <td>25.00</td>\n",
       "      <td>20</td>\n",
       "      <td>Dana Point</td>\n",
       "      <td>2007-08-16</td>\n",
       "      <td>Steve</td>\n",
       "      <td>27</td>\n",
       "      <td>Buckler</td>\n",
       "      <td></td>\n",
       "      <td>CA</td>\n",
       "      <td>24351 Armada Dr</td>\n",
       "      <td></td>\n",
       "      <td>926291306</td>\n",
       "    </tr>\n",
       "    <tr>\n",
       "      <th>2</th>\n",
       "      <td>100.00</td>\n",
       "      <td>20</td>\n",
       "      <td>FAIRFAX</td>\n",
       "      <td>2007-09-19</td>\n",
       "      <td>Bruce</td>\n",
       "      <td>28</td>\n",
       "      <td>Buckheit</td>\n",
       "      <td></td>\n",
       "      <td>VA</td>\n",
       "      <td>8904 KAREN DR</td>\n",
       "      <td></td>\n",
       "      <td>220312731</td>\n",
       "    </tr>\n",
       "    <tr>\n",
       "      <th>3</th>\n",
       "      <td>2300.00</td>\n",
       "      <td>20</td>\n",
       "      <td>Park City</td>\n",
       "      <td>2007-08-14</td>\n",
       "      <td>Linda</td>\n",
       "      <td>29</td>\n",
       "      <td>Buckel</td>\n",
       "      <td></td>\n",
       "      <td>UT</td>\n",
       "      <td>PO Box 683130</td>\n",
       "      <td></td>\n",
       "      <td>840683130</td>\n",
       "    </tr>\n",
       "    <tr>\n",
       "      <th>4</th>\n",
       "      <td>-2300.00</td>\n",
       "      <td>20</td>\n",
       "      <td>Park City</td>\n",
       "      <td>2007-08-14</td>\n",
       "      <td>Linda</td>\n",
       "      <td>30</td>\n",
       "      <td>Buckel</td>\n",
       "      <td></td>\n",
       "      <td>UT</td>\n",
       "      <td>PO Box 683130</td>\n",
       "      <td></td>\n",
       "      <td>840683130</td>\n",
       "    </tr>\n",
       "    <tr>\n",
       "      <th>5</th>\n",
       "      <td>4600.00</td>\n",
       "      <td>20</td>\n",
       "      <td>Park City</td>\n",
       "      <td>2007-08-14</td>\n",
       "      <td>Linda</td>\n",
       "      <td>31</td>\n",
       "      <td>Buckel</td>\n",
       "      <td></td>\n",
       "      <td>UT</td>\n",
       "      <td>PO Box 683130</td>\n",
       "      <td></td>\n",
       "      <td>840683130</td>\n",
       "    </tr>\n",
       "    <tr>\n",
       "      <th>6</th>\n",
       "      <td>100.00</td>\n",
       "      <td>20</td>\n",
       "      <td>Kansas City</td>\n",
       "      <td>2007-09-25</td>\n",
       "      <td>Thomas</td>\n",
       "      <td>32</td>\n",
       "      <td>Buck</td>\n",
       "      <td></td>\n",
       "      <td>MO</td>\n",
       "      <td>4206 Terrace Street</td>\n",
       "      <td></td>\n",
       "      <td>64111</td>\n",
       "    </tr>\n",
       "    <tr>\n",
       "      <th>7</th>\n",
       "      <td>200.00</td>\n",
       "      <td>20</td>\n",
       "      <td>Northfield</td>\n",
       "      <td>2007-09-12</td>\n",
       "      <td>Jay</td>\n",
       "      <td>33</td>\n",
       "      <td>Buck</td>\n",
       "      <td>K.</td>\n",
       "      <td>IL</td>\n",
       "      <td>1855 Old Willow Rd Unit 322</td>\n",
       "      <td></td>\n",
       "      <td>600932918</td>\n",
       "    </tr>\n",
       "    <tr>\n",
       "      <th>8</th>\n",
       "      <td>2300.00</td>\n",
       "      <td>20</td>\n",
       "      <td>Camden</td>\n",
       "      <td>2007-09-30</td>\n",
       "      <td>Blaine</td>\n",
       "      <td>34</td>\n",
       "      <td>Buck</td>\n",
       "      <td>M</td>\n",
       "      <td>ME</td>\n",
       "      <td>45 Eaton Ave</td>\n",
       "      <td></td>\n",
       "      <td>48431752</td>\n",
       "    </tr>\n",
       "    <tr>\n",
       "      <th>9</th>\n",
       "      <td>50.00</td>\n",
       "      <td>20</td>\n",
       "      <td>North Miami</td>\n",
       "      <td>2007-09-13</td>\n",
       "      <td>Barbara</td>\n",
       "      <td>35</td>\n",
       "      <td>Buck</td>\n",
       "      <td></td>\n",
       "      <td>FL</td>\n",
       "      <td>1780 NE 138th St</td>\n",
       "      <td></td>\n",
       "      <td>331811316</td>\n",
       "    </tr>\n",
       "    <tr>\n",
       "      <th>10</th>\n",
       "      <td>50.00</td>\n",
       "      <td>20</td>\n",
       "      <td>North Miami</td>\n",
       "      <td>2007-07-19</td>\n",
       "      <td>Barbara</td>\n",
       "      <td>36</td>\n",
       "      <td>Buck</td>\n",
       "      <td></td>\n",
       "      <td>FL</td>\n",
       "      <td>1780 NE 138th St</td>\n",
       "      <td></td>\n",
       "      <td>331811316</td>\n",
       "    </tr>\n",
       "    <tr>\n",
       "      <th>11</th>\n",
       "      <td>460.80</td>\n",
       "      <td>20</td>\n",
       "      <td>San Luis Obispo</td>\n",
       "      <td>2007-07-18</td>\n",
       "      <td>Mark M</td>\n",
       "      <td>37</td>\n",
       "      <td>Buchman</td>\n",
       "      <td></td>\n",
       "      <td>CA</td>\n",
       "      <td>2530 Lawton Ave</td>\n",
       "      <td></td>\n",
       "      <td>934015622</td>\n",
       "    </tr>\n",
       "    <tr>\n",
       "      <th>12</th>\n",
       "      <td>100.00</td>\n",
       "      <td>20</td>\n",
       "      <td>Los Angeles</td>\n",
       "      <td>2007-07-10</td>\n",
       "      <td>Ida</td>\n",
       "      <td>38</td>\n",
       "      <td>Bucher</td>\n",
       "      <td>M</td>\n",
       "      <td>CA</td>\n",
       "      <td>1400 Warnall Ave</td>\n",
       "      <td></td>\n",
       "      <td>900245333</td>\n",
       "    </tr>\n",
       "    <tr>\n",
       "      <th>13</th>\n",
       "      <td>50.00</td>\n",
       "      <td>20</td>\n",
       "      <td>Bethesda</td>\n",
       "      <td>2007-09-30</td>\n",
       "      <td>Elizabeth</td>\n",
       "      <td>39</td>\n",
       "      <td>Buchanek</td>\n",
       "      <td></td>\n",
       "      <td>MD</td>\n",
       "      <td>7917 Kentbury Dr</td>\n",
       "      <td></td>\n",
       "      <td>208144615</td>\n",
       "    </tr>\n",
       "    <tr>\n",
       "      <th>14</th>\n",
       "      <td>500.00</td>\n",
       "      <td>20</td>\n",
       "      <td>Boca Raton</td>\n",
       "      <td>2007-09-24</td>\n",
       "      <td>John</td>\n",
       "      <td>40</td>\n",
       "      <td>Buchanan</td>\n",
       "      <td></td>\n",
       "      <td>FL</td>\n",
       "      <td>2025 NW 29th Rd</td>\n",
       "      <td></td>\n",
       "      <td>334316303</td>\n",
       "    </tr>\n",
       "    <tr>\n",
       "      <th>15</th>\n",
       "      <td>-500.00</td>\n",
       "      <td>20</td>\n",
       "      <td>Boca Raton</td>\n",
       "      <td>2007-09-24</td>\n",
       "      <td>John</td>\n",
       "      <td>41</td>\n",
       "      <td>Buchanan</td>\n",
       "      <td></td>\n",
       "      <td>FL</td>\n",
       "      <td>2025 NW 29th Rd</td>\n",
       "      <td></td>\n",
       "      <td>334316303</td>\n",
       "    </tr>\n",
       "    <tr>\n",
       "      <th>16</th>\n",
       "      <td>500.00</td>\n",
       "      <td>20</td>\n",
       "      <td>Boca Raton</td>\n",
       "      <td>2007-09-24</td>\n",
       "      <td>John</td>\n",
       "      <td>42</td>\n",
       "      <td>Buchanan</td>\n",
       "      <td></td>\n",
       "      <td>FL</td>\n",
       "      <td>2025 NW 29th Rd</td>\n",
       "      <td></td>\n",
       "      <td>334316303</td>\n",
       "    </tr>\n",
       "    <tr>\n",
       "      <th>17</th>\n",
       "      <td>700.00</td>\n",
       "      <td>20</td>\n",
       "      <td>Boca Raton</td>\n",
       "      <td>2007-08-28</td>\n",
       "      <td>John</td>\n",
       "      <td>43</td>\n",
       "      <td>Buchanan</td>\n",
       "      <td></td>\n",
       "      <td>FL</td>\n",
       "      <td>2025 NW 29th Rd</td>\n",
       "      <td></td>\n",
       "      <td>334316303</td>\n",
       "    </tr>\n",
       "    <tr>\n",
       "      <th>18</th>\n",
       "      <td>-700.00</td>\n",
       "      <td>20</td>\n",
       "      <td>Boca Raton</td>\n",
       "      <td>2007-08-28</td>\n",
       "      <td>John</td>\n",
       "      <td>44</td>\n",
       "      <td>Buchanan</td>\n",
       "      <td></td>\n",
       "      <td>FL</td>\n",
       "      <td>2025 NW 29th Rd</td>\n",
       "      <td></td>\n",
       "      <td>334316303</td>\n",
       "    </tr>\n",
       "    <tr>\n",
       "      <th>19</th>\n",
       "      <td>1000.00</td>\n",
       "      <td>20</td>\n",
       "      <td>Boca Raton</td>\n",
       "      <td>2007-08-28</td>\n",
       "      <td>John</td>\n",
       "      <td>45</td>\n",
       "      <td>Buchanan</td>\n",
       "      <td></td>\n",
       "      <td>FL</td>\n",
       "      <td>2025 NW 29th Rd</td>\n",
       "      <td></td>\n",
       "      <td>334316303</td>\n",
       "    </tr>\n",
       "    <tr>\n",
       "      <th>20</th>\n",
       "      <td>1300.00</td>\n",
       "      <td>20</td>\n",
       "      <td>Boca Raton</td>\n",
       "      <td>2007-08-09</td>\n",
       "      <td>John</td>\n",
       "      <td>46</td>\n",
       "      <td>Buchanan</td>\n",
       "      <td></td>\n",
       "      <td>FL</td>\n",
       "      <td>2025 NW 29th Rd</td>\n",
       "      <td></td>\n",
       "      <td>334316303</td>\n",
       "    </tr>\n",
       "    <tr>\n",
       "      <th>21</th>\n",
       "      <td>200.00</td>\n",
       "      <td>20</td>\n",
       "      <td>Boca Raton</td>\n",
       "      <td>2007-08-14</td>\n",
       "      <td>John</td>\n",
       "      <td>47</td>\n",
       "      <td>Buchanan</td>\n",
       "      <td></td>\n",
       "      <td>FL</td>\n",
       "      <td>2025 NW 29th Rd</td>\n",
       "      <td></td>\n",
       "      <td>334316303</td>\n",
       "    </tr>\n",
       "    <tr>\n",
       "      <th>22</th>\n",
       "      <td>500.00</td>\n",
       "      <td>20</td>\n",
       "      <td>Boca Raton</td>\n",
       "      <td>2007-07-25</td>\n",
       "      <td>John</td>\n",
       "      <td>48</td>\n",
       "      <td>Buchanan</td>\n",
       "      <td></td>\n",
       "      <td>FL</td>\n",
       "      <td>2025 NW 29th Rd</td>\n",
       "      <td></td>\n",
       "      <td>334316303</td>\n",
       "    </tr>\n",
       "    <tr>\n",
       "      <th>23</th>\n",
       "      <td>200.09</td>\n",
       "      <td>20</td>\n",
       "      <td>Washington</td>\n",
       "      <td>2007-09-23</td>\n",
       "      <td>John</td>\n",
       "      <td>49</td>\n",
       "      <td>Buchanan</td>\n",
       "      <td></td>\n",
       "      <td>DC</td>\n",
       "      <td>4635 49th St NW</td>\n",
       "      <td></td>\n",
       "      <td>200164320</td>\n",
       "    </tr>\n",
       "    <tr>\n",
       "      <th>24</th>\n",
       "      <td>25.00</td>\n",
       "      <td>20</td>\n",
       "      <td>La Verne</td>\n",
       "      <td>2007-07-26</td>\n",
       "      <td>Ryan</td>\n",
       "      <td>50</td>\n",
       "      <td>Harrison</td>\n",
       "      <td></td>\n",
       "      <td>CA</td>\n",
       "      <td>2247 3rd St</td>\n",
       "      <td></td>\n",
       "      <td>917504918</td>\n",
       "    </tr>\n",
       "  </tbody>\n",
       "</table>\n",
       "</div>"
      ],
      "text/plain": [
       "     amount  candidate_id             city        date first_name  id last_name middle_name state                     street_1 street_2        zip\n",
       "0     50.00            20       Dana Point  2007-07-30      Steve  26   Buckler                CA              24351 Armada Dr           926291306\n",
       "1     25.00            20       Dana Point  2007-08-16      Steve  27   Buckler                CA              24351 Armada Dr           926291306\n",
       "2    100.00            20          FAIRFAX  2007-09-19      Bruce  28  Buckheit                VA                8904 KAREN DR           220312731\n",
       "3   2300.00            20        Park City  2007-08-14      Linda  29    Buckel                UT                PO Box 683130           840683130\n",
       "4  -2300.00            20        Park City  2007-08-14      Linda  30    Buckel                UT                PO Box 683130           840683130\n",
       "5   4600.00            20        Park City  2007-08-14      Linda  31    Buckel                UT                PO Box 683130           840683130\n",
       "6    100.00            20      Kansas City  2007-09-25     Thomas  32      Buck                MO          4206 Terrace Street               64111\n",
       "7    200.00            20       Northfield  2007-09-12        Jay  33      Buck          K.    IL  1855 Old Willow Rd Unit 322           600932918\n",
       "8   2300.00            20           Camden  2007-09-30     Blaine  34      Buck           M    ME                 45 Eaton Ave            48431752\n",
       "9     50.00            20      North Miami  2007-09-13    Barbara  35      Buck                FL             1780 NE 138th St           331811316\n",
       "10    50.00            20      North Miami  2007-07-19    Barbara  36      Buck                FL             1780 NE 138th St           331811316\n",
       "11   460.80            20  San Luis Obispo  2007-07-18     Mark M  37   Buchman                CA              2530 Lawton Ave           934015622\n",
       "12   100.00            20      Los Angeles  2007-07-10        Ida  38    Bucher           M    CA             1400 Warnall Ave           900245333\n",
       "13    50.00            20         Bethesda  2007-09-30  Elizabeth  39  Buchanek                MD             7917 Kentbury Dr           208144615\n",
       "14   500.00            20       Boca Raton  2007-09-24       John  40  Buchanan                FL              2025 NW 29th Rd           334316303\n",
       "15  -500.00            20       Boca Raton  2007-09-24       John  41  Buchanan                FL              2025 NW 29th Rd           334316303\n",
       "16   500.00            20       Boca Raton  2007-09-24       John  42  Buchanan                FL              2025 NW 29th Rd           334316303\n",
       "17   700.00            20       Boca Raton  2007-08-28       John  43  Buchanan                FL              2025 NW 29th Rd           334316303\n",
       "18  -700.00            20       Boca Raton  2007-08-28       John  44  Buchanan                FL              2025 NW 29th Rd           334316303\n",
       "19  1000.00            20       Boca Raton  2007-08-28       John  45  Buchanan                FL              2025 NW 29th Rd           334316303\n",
       "20  1300.00            20       Boca Raton  2007-08-09       John  46  Buchanan                FL              2025 NW 29th Rd           334316303\n",
       "21   200.00            20       Boca Raton  2007-08-14       John  47  Buchanan                FL              2025 NW 29th Rd           334316303\n",
       "22   500.00            20       Boca Raton  2007-07-25       John  48  Buchanan                FL              2025 NW 29th Rd           334316303\n",
       "23   200.09            20       Washington  2007-09-23       John  49  Buchanan                DC              4635 49th St NW           200164320\n",
       "24    25.00            20         La Verne  2007-07-26       Ryan  50  Harrison                CA                  2247 3rd St           917504918"
      ]
     },
     "execution_count": 2,
     "metadata": {},
     "output_type": "execute_result"
    }
   ],
   "source": [
    "query = '''SELECT * FROM contributors WHERE candidate_id = (SELECT id from candidates WHERE last_name = \"Obama\")'''\n",
    "viz_tables(contributor_cols, query)"
   ]
  },
  {
   "cell_type": "markdown",
   "metadata": {},
   "source": [
    "# Joins\n",
    "The last example involved querying data from multiple tables.\n",
    "\n",
    "In particular, we combined columns from the two related tables (related through the `FOREIGN KEY`).\n",
    "\n",
    "This leads to the idea of *joining* multiple tables together.  `SQL` has a set of commands to handle different types of joins.  `SQLite` does not support the full suite of join commands offered by `SQL` but you should still be able to get the main ideas from the limited command set.\n",
    "\n",
    "We'll begin with the `INNER JOIN`."
   ]
  },
  {
   "cell_type": "markdown",
   "metadata": {},
   "source": [
    "## INNER JOIN\n",
    "The idea here is that you will combine the tables if the values of certain columns are the same between the two tables.  In our example, we will join the two tables based on the candidate id.  The result of the `INNER JOIN` will be a new table consisting of the columns we requested and containing the common data.  Since we are joining based off of the candidate id, we will not be excluding any rows.\n",
    "\n",
    "### Example\n",
    "\n",
    "Here are two tables.  Table A has the form:\n",
    "\n",
    "| nA   | attr  | idA |\n",
    "| :::: | ::::: | ::: |\n",
    "| s1   | 23    | 0   |\n",
    "| s2   | 7     | 2   |\n",
    "\n",
    "and table B has the form:\n",
    "\n",
    "| nB   | attr  | idB |\n",
    "| :::: | ::::: | ::: |\n",
    "| t1   | 60    | 0   |\n",
    "| t2   | 14    | 7   |\n",
    "| t3   | 22    | 2   |\n",
    "\n",
    "Table A is associated with Table B through a foreign key on the id column.\n",
    "\n",
    "If we join the two tables by comparing the id columns and selecting the nA, nB, and attr columns then we'll get \n",
    "\n",
    "| nA   | A.attr  | nB  | B.attr |\n",
    "| :::: | ::::::: | ::: | :::::: |\n",
    "| s1   | 23      | t1  | 60     |\n",
    "| s2   | 7       | t3  | 22     |\n",
    "\n",
    "\n",
    "The `SQLite` code to do this join would be \n",
    "\n",
    "```SQL\n",
    "SELECT nA, A.attr, nB, B.attr FROM A INNER JOIN B ON B.idB = A.idA\n",
    "```\n",
    "\n",
    "Notice that the second row in table B is gone because the id values are not the same.\n",
    "\n",
    "### Thoughts\n",
    "What is `SQL` doing with this operation?  It may help to visualize this with a Venn diagram.  Table A has rows with values corresponding to the `idA` attribute.  Column B has rows with values corresponding to the `idB` attribute.  The `INNER JOIN` will combine the two tables such that rows with common entries in the `id` attributes are included.  We essentially have the following Venn diagram.\n",
    "\n",
    "![](figs/inner_join.png)"
   ]
  },
  {
   "cell_type": "markdown",
   "metadata": {},
   "source": [
    "## Exercises\n",
    "1. Using an `INNER JOIN`, join the candidates and contributors tables by comparing the `candidate_id` and `candidates_id` columns.  Display your joined table with the columns `contributors.last_name`, `contributors.first_name`, and `candidates.last_name`.\n",
    "2. Do the same inner join as in the last part, but this time append a `WHERE` clause to select a specific candidate's last name."
   ]
  },
  {
   "cell_type": "markdown",
   "metadata": {},
   "source": [
    "#### 1."
   ]
  },
  {
   "cell_type": "code",
   "execution_count": 4,
   "metadata": {},
   "outputs": [
    {
     "data": {
      "text/html": [
       "<div>\n",
       "<style scoped>\n",
       "    .dataframe tbody tr th:only-of-type {\n",
       "        vertical-align: middle;\n",
       "    }\n",
       "\n",
       "    .dataframe tbody tr th {\n",
       "        vertical-align: top;\n",
       "    }\n",
       "\n",
       "    .dataframe thead th {\n",
       "        text-align: right;\n",
       "    }\n",
       "</style>\n",
       "<table border=\"1\" class=\"dataframe\">\n",
       "  <thead>\n",
       "    <tr style=\"text-align: right;\">\n",
       "      <th></th>\n",
       "      <th>candidates.last_name</th>\n",
       "      <th>contributors.first_name</th>\n",
       "      <th>contributors.last_name</th>\n",
       "    </tr>\n",
       "  </thead>\n",
       "  <tbody>\n",
       "    <tr>\n",
       "      <th>0</th>\n",
       "      <td>Huckabee</td>\n",
       "      <td>Steven</td>\n",
       "      <td>Agee</td>\n",
       "    </tr>\n",
       "    <tr>\n",
       "      <th>1</th>\n",
       "      <td>Huckabee</td>\n",
       "      <td>Don</td>\n",
       "      <td>Ahrens</td>\n",
       "    </tr>\n",
       "    <tr>\n",
       "      <th>2</th>\n",
       "      <td>Huckabee</td>\n",
       "      <td>Don</td>\n",
       "      <td>Ahrens</td>\n",
       "    </tr>\n",
       "    <tr>\n",
       "      <th>3</th>\n",
       "      <td>Huckabee</td>\n",
       "      <td>Don</td>\n",
       "      <td>Ahrens</td>\n",
       "    </tr>\n",
       "    <tr>\n",
       "      <th>4</th>\n",
       "      <td>Huckabee</td>\n",
       "      <td>Charles</td>\n",
       "      <td>Akin</td>\n",
       "    </tr>\n",
       "    <tr>\n",
       "      <th>5</th>\n",
       "      <td>Huckabee</td>\n",
       "      <td>Mike</td>\n",
       "      <td>Akin</td>\n",
       "    </tr>\n",
       "    <tr>\n",
       "      <th>6</th>\n",
       "      <td>Huckabee</td>\n",
       "      <td>Rebecca</td>\n",
       "      <td>Akin</td>\n",
       "    </tr>\n",
       "    <tr>\n",
       "      <th>7</th>\n",
       "      <td>Huckabee</td>\n",
       "      <td>Brittni</td>\n",
       "      <td>Aldridge</td>\n",
       "    </tr>\n",
       "    <tr>\n",
       "      <th>8</th>\n",
       "      <td>Huckabee</td>\n",
       "      <td>John D.</td>\n",
       "      <td>Allen</td>\n",
       "    </tr>\n",
       "    <tr>\n",
       "      <th>9</th>\n",
       "      <td>Huckabee</td>\n",
       "      <td>John D.</td>\n",
       "      <td>Allen</td>\n",
       "    </tr>\n",
       "    <tr>\n",
       "      <th>10</th>\n",
       "      <td>Huckabee</td>\n",
       "      <td>John W.</td>\n",
       "      <td>Allison</td>\n",
       "    </tr>\n",
       "    <tr>\n",
       "      <th>11</th>\n",
       "      <td>Huckabee</td>\n",
       "      <td>Rebecca</td>\n",
       "      <td>Allison</td>\n",
       "    </tr>\n",
       "    <tr>\n",
       "      <th>12</th>\n",
       "      <td>Huckabee</td>\n",
       "      <td>Rebecca</td>\n",
       "      <td>Allison</td>\n",
       "    </tr>\n",
       "    <tr>\n",
       "      <th>13</th>\n",
       "      <td>Huckabee</td>\n",
       "      <td>R.D.</td>\n",
       "      <td>Altes</td>\n",
       "    </tr>\n",
       "    <tr>\n",
       "      <th>14</th>\n",
       "      <td>Huckabee</td>\n",
       "      <td>Dale</td>\n",
       "      <td>Andres</td>\n",
       "    </tr>\n",
       "    <tr>\n",
       "      <th>15</th>\n",
       "      <td>Huckabee</td>\n",
       "      <td>John</td>\n",
       "      <td>Anthony</td>\n",
       "    </tr>\n",
       "    <tr>\n",
       "      <th>16</th>\n",
       "      <td>Huckabee</td>\n",
       "      <td>Robert</td>\n",
       "      <td>Arbogast</td>\n",
       "    </tr>\n",
       "    <tr>\n",
       "      <th>17</th>\n",
       "      <td>Huckabee</td>\n",
       "      <td>Robert</td>\n",
       "      <td>Arbogast</td>\n",
       "    </tr>\n",
       "    <tr>\n",
       "      <th>18</th>\n",
       "      <td>Huckabee</td>\n",
       "      <td>William</td>\n",
       "      <td>Ardle</td>\n",
       "    </tr>\n",
       "    <tr>\n",
       "      <th>19</th>\n",
       "      <td>Huckabee</td>\n",
       "      <td>Omar</td>\n",
       "      <td>Atiq</td>\n",
       "    </tr>\n",
       "    <tr>\n",
       "      <th>20</th>\n",
       "      <td>Huckabee</td>\n",
       "      <td>Omar</td>\n",
       "      <td>Atiq</td>\n",
       "    </tr>\n",
       "    <tr>\n",
       "      <th>21</th>\n",
       "      <td>Huckabee</td>\n",
       "      <td>David</td>\n",
       "      <td>Baker</td>\n",
       "    </tr>\n",
       "    <tr>\n",
       "      <th>22</th>\n",
       "      <td>Huckabee</td>\n",
       "      <td>David</td>\n",
       "      <td>Bancroft</td>\n",
       "    </tr>\n",
       "    <tr>\n",
       "      <th>23</th>\n",
       "      <td>Huckabee</td>\n",
       "      <td>Charles</td>\n",
       "      <td>Banks</td>\n",
       "    </tr>\n",
       "    <tr>\n",
       "      <th>24</th>\n",
       "      <td>Huckabee</td>\n",
       "      <td>John</td>\n",
       "      <td>Barbee</td>\n",
       "    </tr>\n",
       "    <tr>\n",
       "      <th>25</th>\n",
       "      <td>Obama</td>\n",
       "      <td>Steve</td>\n",
       "      <td>Buckler</td>\n",
       "    </tr>\n",
       "    <tr>\n",
       "      <th>26</th>\n",
       "      <td>Obama</td>\n",
       "      <td>Steve</td>\n",
       "      <td>Buckler</td>\n",
       "    </tr>\n",
       "    <tr>\n",
       "      <th>27</th>\n",
       "      <td>Obama</td>\n",
       "      <td>Bruce</td>\n",
       "      <td>Buckheit</td>\n",
       "    </tr>\n",
       "    <tr>\n",
       "      <th>28</th>\n",
       "      <td>Obama</td>\n",
       "      <td>Linda</td>\n",
       "      <td>Buckel</td>\n",
       "    </tr>\n",
       "    <tr>\n",
       "      <th>29</th>\n",
       "      <td>Obama</td>\n",
       "      <td>Linda</td>\n",
       "      <td>Buckel</td>\n",
       "    </tr>\n",
       "    <tr>\n",
       "      <th>...</th>\n",
       "      <td>...</td>\n",
       "      <td>...</td>\n",
       "      <td>...</td>\n",
       "    </tr>\n",
       "    <tr>\n",
       "      <th>145</th>\n",
       "      <td>Romney</td>\n",
       "      <td>THOMAS</td>\n",
       "      <td>ABDELLA</td>\n",
       "    </tr>\n",
       "    <tr>\n",
       "      <th>146</th>\n",
       "      <td>Romney</td>\n",
       "      <td>WELDON</td>\n",
       "      <td>ABBOTT</td>\n",
       "    </tr>\n",
       "    <tr>\n",
       "      <th>147</th>\n",
       "      <td>Romney</td>\n",
       "      <td>WELDON</td>\n",
       "      <td>ABBOTT</td>\n",
       "    </tr>\n",
       "    <tr>\n",
       "      <th>148</th>\n",
       "      <td>Romney</td>\n",
       "      <td>GERALD</td>\n",
       "      <td>ABBOTT</td>\n",
       "    </tr>\n",
       "    <tr>\n",
       "      <th>149</th>\n",
       "      <td>Romney</td>\n",
       "      <td>GERALD</td>\n",
       "      <td>ABBOTT</td>\n",
       "    </tr>\n",
       "    <tr>\n",
       "      <th>150</th>\n",
       "      <td>McCain</td>\n",
       "      <td>ZAINUL</td>\n",
       "      <td>ABEDIN</td>\n",
       "    </tr>\n",
       "    <tr>\n",
       "      <th>151</th>\n",
       "      <td>McCain</td>\n",
       "      <td>SYBIL</td>\n",
       "      <td>ABBOTT</td>\n",
       "    </tr>\n",
       "    <tr>\n",
       "      <th>152</th>\n",
       "      <td>McCain</td>\n",
       "      <td>SYBIL</td>\n",
       "      <td>ABBOTT</td>\n",
       "    </tr>\n",
       "    <tr>\n",
       "      <th>153</th>\n",
       "      <td>McCain</td>\n",
       "      <td>RONALD</td>\n",
       "      <td>ABBOTT</td>\n",
       "    </tr>\n",
       "    <tr>\n",
       "      <th>154</th>\n",
       "      <td>McCain</td>\n",
       "      <td>RONALD</td>\n",
       "      <td>ABBOTT</td>\n",
       "    </tr>\n",
       "    <tr>\n",
       "      <th>155</th>\n",
       "      <td>McCain</td>\n",
       "      <td>ROBERT</td>\n",
       "      <td>ABBOTT</td>\n",
       "    </tr>\n",
       "    <tr>\n",
       "      <th>156</th>\n",
       "      <td>McCain</td>\n",
       "      <td>MIKE</td>\n",
       "      <td>ABBOTT</td>\n",
       "    </tr>\n",
       "    <tr>\n",
       "      <th>157</th>\n",
       "      <td>McCain</td>\n",
       "      <td>DAVID</td>\n",
       "      <td>ABBOT</td>\n",
       "    </tr>\n",
       "    <tr>\n",
       "      <th>158</th>\n",
       "      <td>McCain</td>\n",
       "      <td>PAULINE</td>\n",
       "      <td>ABBO</td>\n",
       "    </tr>\n",
       "    <tr>\n",
       "      <th>159</th>\n",
       "      <td>McCain</td>\n",
       "      <td>MARIA</td>\n",
       "      <td>ABATE</td>\n",
       "    </tr>\n",
       "    <tr>\n",
       "      <th>160</th>\n",
       "      <td>McCain</td>\n",
       "      <td>PETER</td>\n",
       "      <td>ABAIR</td>\n",
       "    </tr>\n",
       "    <tr>\n",
       "      <th>161</th>\n",
       "      <td>McCain</td>\n",
       "      <td>SHIRLEY</td>\n",
       "      <td>ABACHERLI</td>\n",
       "    </tr>\n",
       "    <tr>\n",
       "      <th>162</th>\n",
       "      <td>McCain</td>\n",
       "      <td>CHARLES</td>\n",
       "      <td>AARONS</td>\n",
       "    </tr>\n",
       "    <tr>\n",
       "      <th>163</th>\n",
       "      <td>McCain</td>\n",
       "      <td>CHARLES</td>\n",
       "      <td>AARONS</td>\n",
       "    </tr>\n",
       "    <tr>\n",
       "      <th>164</th>\n",
       "      <td>McCain</td>\n",
       "      <td>CHARLES</td>\n",
       "      <td>AARONS</td>\n",
       "    </tr>\n",
       "    <tr>\n",
       "      <th>165</th>\n",
       "      <td>McCain</td>\n",
       "      <td>JOHN</td>\n",
       "      <td>ABEL</td>\n",
       "    </tr>\n",
       "    <tr>\n",
       "      <th>166</th>\n",
       "      <td>McCain</td>\n",
       "      <td>MARLING</td>\n",
       "      <td>ABEL</td>\n",
       "    </tr>\n",
       "    <tr>\n",
       "      <th>167</th>\n",
       "      <td>McCain</td>\n",
       "      <td>RUDOLPH</td>\n",
       "      <td>ABEL</td>\n",
       "    </tr>\n",
       "    <tr>\n",
       "      <th>168</th>\n",
       "      <td>McCain</td>\n",
       "      <td>RODNEY</td>\n",
       "      <td>ABELE</td>\n",
       "    </tr>\n",
       "    <tr>\n",
       "      <th>169</th>\n",
       "      <td>McCain</td>\n",
       "      <td>DENIS</td>\n",
       "      <td>ABERCROMBIE</td>\n",
       "    </tr>\n",
       "    <tr>\n",
       "      <th>170</th>\n",
       "      <td>McCain</td>\n",
       "      <td>MERRILL</td>\n",
       "      <td>ABESHAUS</td>\n",
       "    </tr>\n",
       "    <tr>\n",
       "      <th>171</th>\n",
       "      <td>McCain</td>\n",
       "      <td>GEORGE</td>\n",
       "      <td>ABRAHAM</td>\n",
       "    </tr>\n",
       "    <tr>\n",
       "      <th>172</th>\n",
       "      <td>McCain</td>\n",
       "      <td>PETER</td>\n",
       "      <td>ABRAHAMSON</td>\n",
       "    </tr>\n",
       "    <tr>\n",
       "      <th>173</th>\n",
       "      <td>McCain</td>\n",
       "      <td>SALEM</td>\n",
       "      <td>ABRAHAM</td>\n",
       "    </tr>\n",
       "    <tr>\n",
       "      <th>174</th>\n",
       "      <td>McCain</td>\n",
       "      <td>SALEM</td>\n",
       "      <td>ABRAHAM</td>\n",
       "    </tr>\n",
       "  </tbody>\n",
       "</table>\n",
       "<p>175 rows × 3 columns</p>\n",
       "</div>"
      ],
      "text/plain": [
       "    candidates.last_name contributors.first_name contributors.last_name\n",
       "0               Huckabee                  Steven                   Agee\n",
       "1               Huckabee                     Don                 Ahrens\n",
       "2               Huckabee                     Don                 Ahrens\n",
       "3               Huckabee                     Don                 Ahrens\n",
       "4               Huckabee                 Charles                   Akin\n",
       "5               Huckabee                    Mike                   Akin\n",
       "6               Huckabee                 Rebecca                   Akin\n",
       "7               Huckabee                 Brittni               Aldridge\n",
       "8               Huckabee                 John D.                  Allen\n",
       "9               Huckabee                 John D.                  Allen\n",
       "10              Huckabee                 John W.                Allison\n",
       "11              Huckabee                 Rebecca                Allison\n",
       "12              Huckabee                 Rebecca                Allison\n",
       "13              Huckabee                    R.D.                  Altes\n",
       "14              Huckabee                    Dale                 Andres\n",
       "15              Huckabee                    John                Anthony\n",
       "16              Huckabee                  Robert               Arbogast\n",
       "17              Huckabee                  Robert               Arbogast\n",
       "18              Huckabee                 William                  Ardle\n",
       "19              Huckabee                    Omar                   Atiq\n",
       "20              Huckabee                    Omar                   Atiq\n",
       "21              Huckabee                   David                  Baker\n",
       "22              Huckabee                   David               Bancroft\n",
       "23              Huckabee                 Charles                  Banks\n",
       "24              Huckabee                    John                 Barbee\n",
       "25                 Obama                   Steve                Buckler\n",
       "26                 Obama                   Steve                Buckler\n",
       "27                 Obama                   Bruce               Buckheit\n",
       "28                 Obama                   Linda                 Buckel\n",
       "29                 Obama                   Linda                 Buckel\n",
       "..                   ...                     ...                    ...\n",
       "145               Romney                  THOMAS                ABDELLA\n",
       "146               Romney                  WELDON                 ABBOTT\n",
       "147               Romney                  WELDON                 ABBOTT\n",
       "148               Romney                  GERALD                 ABBOTT\n",
       "149               Romney                  GERALD                 ABBOTT\n",
       "150               McCain                  ZAINUL                 ABEDIN\n",
       "151               McCain                   SYBIL                 ABBOTT\n",
       "152               McCain                   SYBIL                 ABBOTT\n",
       "153               McCain                  RONALD                 ABBOTT\n",
       "154               McCain                  RONALD                 ABBOTT\n",
       "155               McCain                  ROBERT                 ABBOTT\n",
       "156               McCain                    MIKE                 ABBOTT\n",
       "157               McCain                   DAVID                  ABBOT\n",
       "158               McCain                 PAULINE                   ABBO\n",
       "159               McCain                   MARIA                  ABATE\n",
       "160               McCain                   PETER                  ABAIR\n",
       "161               McCain                 SHIRLEY              ABACHERLI\n",
       "162               McCain                 CHARLES                 AARONS\n",
       "163               McCain                 CHARLES                 AARONS\n",
       "164               McCain                 CHARLES                 AARONS\n",
       "165               McCain                    JOHN                   ABEL\n",
       "166               McCain                 MARLING                   ABEL\n",
       "167               McCain                 RUDOLPH                   ABEL\n",
       "168               McCain                  RODNEY                  ABELE\n",
       "169               McCain                   DENIS            ABERCROMBIE\n",
       "170               McCain                 MERRILL               ABESHAUS\n",
       "171               McCain                  GEORGE                ABRAHAM\n",
       "172               McCain                   PETER             ABRAHAMSON\n",
       "173               McCain                   SALEM                ABRAHAM\n",
       "174               McCain                   SALEM                ABRAHAM\n",
       "\n",
       "[175 rows x 3 columns]"
      ]
     },
     "execution_count": 4,
     "metadata": {},
     "output_type": "execute_result"
    }
   ],
   "source": [
    "query = '''SELECT contributors.last_name, contributors.first_name, candidates.last_name \n",
    "           FROM contributors INNER JOIN candidates ON contributors.candidate_id = candidates.id'''\n",
    "viz_tables(['contributors.last_name', 'contributors.first_name', 'candidates.last_name'], query)"
   ]
  },
  {
   "cell_type": "markdown",
   "metadata": {},
   "source": [
    "#### 2."
   ]
  },
  {
   "cell_type": "code",
   "execution_count": 5,
   "metadata": {},
   "outputs": [
    {
     "data": {
      "text/html": [
       "<div>\n",
       "<style scoped>\n",
       "    .dataframe tbody tr th:only-of-type {\n",
       "        vertical-align: middle;\n",
       "    }\n",
       "\n",
       "    .dataframe tbody tr th {\n",
       "        vertical-align: top;\n",
       "    }\n",
       "\n",
       "    .dataframe thead th {\n",
       "        text-align: right;\n",
       "    }\n",
       "</style>\n",
       "<table border=\"1\" class=\"dataframe\">\n",
       "  <thead>\n",
       "    <tr style=\"text-align: right;\">\n",
       "      <th></th>\n",
       "      <th>candidates.last_name</th>\n",
       "      <th>contributors.first_name</th>\n",
       "      <th>contributors.last_name</th>\n",
       "    </tr>\n",
       "  </thead>\n",
       "  <tbody>\n",
       "    <tr>\n",
       "      <th>0</th>\n",
       "      <td>McCain</td>\n",
       "      <td>ZAINUL</td>\n",
       "      <td>ABEDIN</td>\n",
       "    </tr>\n",
       "    <tr>\n",
       "      <th>1</th>\n",
       "      <td>McCain</td>\n",
       "      <td>SYBIL</td>\n",
       "      <td>ABBOTT</td>\n",
       "    </tr>\n",
       "    <tr>\n",
       "      <th>2</th>\n",
       "      <td>McCain</td>\n",
       "      <td>SYBIL</td>\n",
       "      <td>ABBOTT</td>\n",
       "    </tr>\n",
       "    <tr>\n",
       "      <th>3</th>\n",
       "      <td>McCain</td>\n",
       "      <td>RONALD</td>\n",
       "      <td>ABBOTT</td>\n",
       "    </tr>\n",
       "    <tr>\n",
       "      <th>4</th>\n",
       "      <td>McCain</td>\n",
       "      <td>RONALD</td>\n",
       "      <td>ABBOTT</td>\n",
       "    </tr>\n",
       "    <tr>\n",
       "      <th>5</th>\n",
       "      <td>McCain</td>\n",
       "      <td>ROBERT</td>\n",
       "      <td>ABBOTT</td>\n",
       "    </tr>\n",
       "    <tr>\n",
       "      <th>6</th>\n",
       "      <td>McCain</td>\n",
       "      <td>MIKE</td>\n",
       "      <td>ABBOTT</td>\n",
       "    </tr>\n",
       "    <tr>\n",
       "      <th>7</th>\n",
       "      <td>McCain</td>\n",
       "      <td>DAVID</td>\n",
       "      <td>ABBOT</td>\n",
       "    </tr>\n",
       "    <tr>\n",
       "      <th>8</th>\n",
       "      <td>McCain</td>\n",
       "      <td>PAULINE</td>\n",
       "      <td>ABBO</td>\n",
       "    </tr>\n",
       "    <tr>\n",
       "      <th>9</th>\n",
       "      <td>McCain</td>\n",
       "      <td>MARIA</td>\n",
       "      <td>ABATE</td>\n",
       "    </tr>\n",
       "    <tr>\n",
       "      <th>10</th>\n",
       "      <td>McCain</td>\n",
       "      <td>PETER</td>\n",
       "      <td>ABAIR</td>\n",
       "    </tr>\n",
       "    <tr>\n",
       "      <th>11</th>\n",
       "      <td>McCain</td>\n",
       "      <td>SHIRLEY</td>\n",
       "      <td>ABACHERLI</td>\n",
       "    </tr>\n",
       "    <tr>\n",
       "      <th>12</th>\n",
       "      <td>McCain</td>\n",
       "      <td>CHARLES</td>\n",
       "      <td>AARONS</td>\n",
       "    </tr>\n",
       "    <tr>\n",
       "      <th>13</th>\n",
       "      <td>McCain</td>\n",
       "      <td>CHARLES</td>\n",
       "      <td>AARONS</td>\n",
       "    </tr>\n",
       "    <tr>\n",
       "      <th>14</th>\n",
       "      <td>McCain</td>\n",
       "      <td>CHARLES</td>\n",
       "      <td>AARONS</td>\n",
       "    </tr>\n",
       "    <tr>\n",
       "      <th>15</th>\n",
       "      <td>McCain</td>\n",
       "      <td>JOHN</td>\n",
       "      <td>ABEL</td>\n",
       "    </tr>\n",
       "    <tr>\n",
       "      <th>16</th>\n",
       "      <td>McCain</td>\n",
       "      <td>MARLING</td>\n",
       "      <td>ABEL</td>\n",
       "    </tr>\n",
       "    <tr>\n",
       "      <th>17</th>\n",
       "      <td>McCain</td>\n",
       "      <td>RUDOLPH</td>\n",
       "      <td>ABEL</td>\n",
       "    </tr>\n",
       "    <tr>\n",
       "      <th>18</th>\n",
       "      <td>McCain</td>\n",
       "      <td>RODNEY</td>\n",
       "      <td>ABELE</td>\n",
       "    </tr>\n",
       "    <tr>\n",
       "      <th>19</th>\n",
       "      <td>McCain</td>\n",
       "      <td>DENIS</td>\n",
       "      <td>ABERCROMBIE</td>\n",
       "    </tr>\n",
       "    <tr>\n",
       "      <th>20</th>\n",
       "      <td>McCain</td>\n",
       "      <td>MERRILL</td>\n",
       "      <td>ABESHAUS</td>\n",
       "    </tr>\n",
       "    <tr>\n",
       "      <th>21</th>\n",
       "      <td>McCain</td>\n",
       "      <td>GEORGE</td>\n",
       "      <td>ABRAHAM</td>\n",
       "    </tr>\n",
       "    <tr>\n",
       "      <th>22</th>\n",
       "      <td>McCain</td>\n",
       "      <td>PETER</td>\n",
       "      <td>ABRAHAMSON</td>\n",
       "    </tr>\n",
       "    <tr>\n",
       "      <th>23</th>\n",
       "      <td>McCain</td>\n",
       "      <td>SALEM</td>\n",
       "      <td>ABRAHAM</td>\n",
       "    </tr>\n",
       "    <tr>\n",
       "      <th>24</th>\n",
       "      <td>McCain</td>\n",
       "      <td>SALEM</td>\n",
       "      <td>ABRAHAM</td>\n",
       "    </tr>\n",
       "  </tbody>\n",
       "</table>\n",
       "</div>"
      ],
      "text/plain": [
       "   candidates.last_name contributors.first_name contributors.last_name\n",
       "0                McCain                  ZAINUL                 ABEDIN\n",
       "1                McCain                   SYBIL                 ABBOTT\n",
       "2                McCain                   SYBIL                 ABBOTT\n",
       "3                McCain                  RONALD                 ABBOTT\n",
       "4                McCain                  RONALD                 ABBOTT\n",
       "5                McCain                  ROBERT                 ABBOTT\n",
       "6                McCain                    MIKE                 ABBOTT\n",
       "7                McCain                   DAVID                  ABBOT\n",
       "8                McCain                 PAULINE                   ABBO\n",
       "9                McCain                   MARIA                  ABATE\n",
       "10               McCain                   PETER                  ABAIR\n",
       "11               McCain                 SHIRLEY              ABACHERLI\n",
       "12               McCain                 CHARLES                 AARONS\n",
       "13               McCain                 CHARLES                 AARONS\n",
       "14               McCain                 CHARLES                 AARONS\n",
       "15               McCain                    JOHN                   ABEL\n",
       "16               McCain                 MARLING                   ABEL\n",
       "17               McCain                 RUDOLPH                   ABEL\n",
       "18               McCain                  RODNEY                  ABELE\n",
       "19               McCain                   DENIS            ABERCROMBIE\n",
       "20               McCain                 MERRILL               ABESHAUS\n",
       "21               McCain                  GEORGE                ABRAHAM\n",
       "22               McCain                   PETER             ABRAHAMSON\n",
       "23               McCain                   SALEM                ABRAHAM\n",
       "24               McCain                   SALEM                ABRAHAM"
      ]
     },
     "execution_count": 5,
     "metadata": {},
     "output_type": "execute_result"
    }
   ],
   "source": [
    "query = '''SELECT contributors.last_name, contributors.first_name, candidates.last_name \n",
    "           FROM contributors INNER JOIN candidates ON contributors.candidate_id = candidates.id WHERE candidates.last_name = \"McCain\"'''\n",
    "viz_tables(['contributors.last_name', 'contributors.first_name', 'candidates.last_name'], query)"
   ]
  },
  {
   "cell_type": "markdown",
   "metadata": {},
   "source": [
    "## `LEFT JOIN` or `LEFT OUTER JOIN`\n",
    "There are many ways to combine two tables.  We just explored one possibility in which we combined the tables based upon the intersection of the two tables (the `INNER JOIN`).\n",
    "\n",
    "Now we'll talk about the `LEFT JOIN` or `LEFT OUTER JOIN`.\n",
    "\n",
    "In words, the `LEFT JOIN` is combining the tables based upon what is in the intersection of the two tables *and* what is in the \"reference\" table.\n",
    "\n",
    "We can consider our toy example in two guises:\n",
    "\n",
    "#### Example A\n",
    "Let's do a `LEFT JOIN` of table B from table A.  That is, we'd like to make a new table by putting table B into table A.  In this case, we'll consider table A our \"reference\" table.  We're comparing by the `id` column again.  We know that these two tables share ids 0 and 2 and table A doesn't have anything else in it.  The resulting table is:\n",
    "\n",
    "| nA   | A.attr  | nB  | B.attr |\n",
    "| :::: | ::::::: | ::: | :::::: |\n",
    "| s1   | 23      | t1  | 60     |\n",
    "| s2   | 7       | t3  | 22     |\n",
    "\n",
    "That's not very exciting.  It's the same result as from the `INNER JOIN`.  We can do another example that may be more enlightening.\n",
    "\n",
    "#### Example B\n",
    "Let's do a `LEFT JOIN` of table A from table B.  That is, we'd like to make a new table by putting table A into table B.  In this case, we'll consider table B our \"reference\" table.  Again, we use the `id` column from comparison.  We know that these two tables share ids 0 and 2.  This time, table B also contains the id 7, which is not shared by table A.  The resulting table is:\n",
    "\n",
    "| nA   | A.attr  | nB  | B.attr |\n",
    "| :::: | ::::::: | ::: | :::::: |\n",
    "| s1   | 23      | t1  | 60     |\n",
    "| None | NaN     | t2  | 14     |\n",
    "| s2   | 7       | t3  | 22     |\n",
    "\n",
    "Notice that `SQLite` filed in the missing entries for us.  This is necessary for completion of the requested join.\n",
    "\n",
    "The `SQLite` commands to accomplish all of this are:\n",
    "\n",
    "```SQL\n",
    "SELECT nA, A.attr, nB, B.attr FROM A LEFT JOIN B ON B.idB = A.idA\n",
    "```\n",
    "\n",
    "and\n",
    "\n",
    "```SQL\n",
    "SELECT nA, A.attr, nB, B.attr FROM B LEFT JOIN A ON A.idA = B.idB\n",
    "```\n",
    "\n",
    "Here is a visualization using Venn diagrams of the `LEFT JOIN`.\n",
    "\n",
    "![](figs/left_join.png)"
   ]
  },
  {
   "cell_type": "markdown",
   "metadata": {},
   "source": [
    "## Exercises\n",
    "Use the following two tables to do the first two exercises in this section. Table A has the form:\n",
    "\n",
    "| nA   | attr  | idA |\n",
    "| :::: | ::::: | ::: |\n",
    "| s1   | 23    | 0   |\n",
    "| s2   | 7     | 2   |\n",
    "| s3   | 15    | 2   |\n",
    "| s4   | 31    | 0   |\n",
    "\n",
    "and table B has the form:\n",
    "\n",
    "| nB   | attr  | idB |\n",
    "| :::: | ::::: | ::: |\n",
    "| t1   | 60    | 0   |\n",
    "| t2   | 14    | 7   |\n",
    "| t3   | 22    | 2   |\n",
    "\n",
    "1. Draw the table that would result from a `LEFT JOIN` using table A as the reference and the `id` columns for comparison.\n",
    "2. Draw the table that would result from a `LEFT JOIN` using table B as the reference and the `id` columns for comparison.\n",
    "3. Create a new table with the following form:\n",
    "\n",
    "| average contribution | number of contributors | candidate last name |\n",
    "| :::::::::::::::::::: | :::::::::::::::::::::: | ::::::::::::::::::: |\n",
    "|    ...               |   ...                  |    ...              |\n",
    "\n",
    "   The table should be created using the `LEFT JOIN` clause on the contributors table by joining the candidates table by the `id` column.  The `average contribution` column and `number of contributors` column should be obtained using the `AVG` and `COUNT` `SQL` functions.  Finally, you should use the `GROUP BY` clause on the candidates last name."
   ]
  },
  {
   "cell_type": "markdown",
   "metadata": {},
   "source": [
    "#### 1."
   ]
  },
  {
   "cell_type": "code",
   "execution_count": 9,
   "metadata": {},
   "outputs": [],
   "source": [
    "cursor = db.cursor()\n",
    "cursor.execute(\"DROP TABLE IF EXISTS A\")\n",
    "cursor.execute(\"DROP TABLE IF EXISTS B\")\n",
    "cursor.execute(\"PRAGMA foreign_keys=1\")\n",
    "\n",
    "cursor.execute('''CREATE TABLE A (\n",
    "               nA TEXT, \n",
    "               attr INTEGER,\n",
    "               idA INTEGER NOT NULL)''')\n",
    "\n",
    "db.commit() # Commit changes to the database\n",
    "\n",
    "cursor.execute('''CREATE TABLE B (\n",
    "               idB INTEGER NOT NULL, \n",
    "               nB TEXT, \n",
    "               attr INTEGER)''')\n",
    "\n",
    "db.commit() # Commit changes to the database\n",
    "\n",
    "cursor.execute('''INSERT INTO A \n",
    "          (nA, attr, idA)\n",
    "          VALUES (?, ?, ?)''', ('s1', 23, 0))\n",
    "cursor.execute('''INSERT INTO A \n",
    "          (nA, attr, idA)\n",
    "          VALUES (?, ?, ?)''', ('s2', 7, 2))\n",
    "cursor.execute('''INSERT INTO A \n",
    "          (nA, attr, idA)\n",
    "          VALUES (?, ?, ?)''', ('s3', 15, 2))\n",
    "cursor.execute('''INSERT INTO A \n",
    "          (nA, attr, idA)\n",
    "          VALUES (?, ?, ?)''', ('s4', 31, 0))\n",
    "\n",
    "cursor.execute('''INSERT INTO B \n",
    "          (nB, attr, idB)\n",
    "          VALUES (?, ?, ?)''', ('t1', 60, 0))\n",
    "cursor.execute('''INSERT INTO B \n",
    "          (nB, attr, idB)\n",
    "          VALUES (?, ?, ?)''', ('t2', 14, 7))\n",
    "cursor.execute('''INSERT INTO B \n",
    "          (nB, attr, idB)\n",
    "          VALUES (?, ?, ?)''', ('t3', 22, 2))\n",
    "db.commit() # Commit changes to the database"
   ]
  },
  {
   "cell_type": "code",
   "execution_count": 10,
   "metadata": {},
   "outputs": [
    {
     "data": {
      "text/html": [
       "<div>\n",
       "<style scoped>\n",
       "    .dataframe tbody tr th:only-of-type {\n",
       "        vertical-align: middle;\n",
       "    }\n",
       "\n",
       "    .dataframe tbody tr th {\n",
       "        vertical-align: top;\n",
       "    }\n",
       "\n",
       "    .dataframe thead th {\n",
       "        text-align: right;\n",
       "    }\n",
       "</style>\n",
       "<table border=\"1\" class=\"dataframe\">\n",
       "  <thead>\n",
       "    <tr style=\"text-align: right;\">\n",
       "      <th></th>\n",
       "      <th>A.attr</th>\n",
       "      <th>B.attr</th>\n",
       "      <th>nA</th>\n",
       "      <th>nB</th>\n",
       "    </tr>\n",
       "  </thead>\n",
       "  <tbody>\n",
       "    <tr>\n",
       "      <th>0</th>\n",
       "      <td>23</td>\n",
       "      <td>60</td>\n",
       "      <td>s1</td>\n",
       "      <td>t1</td>\n",
       "    </tr>\n",
       "    <tr>\n",
       "      <th>1</th>\n",
       "      <td>7</td>\n",
       "      <td>22</td>\n",
       "      <td>s2</td>\n",
       "      <td>t3</td>\n",
       "    </tr>\n",
       "    <tr>\n",
       "      <th>2</th>\n",
       "      <td>15</td>\n",
       "      <td>22</td>\n",
       "      <td>s3</td>\n",
       "      <td>t3</td>\n",
       "    </tr>\n",
       "    <tr>\n",
       "      <th>3</th>\n",
       "      <td>31</td>\n",
       "      <td>60</td>\n",
       "      <td>s4</td>\n",
       "      <td>t1</td>\n",
       "    </tr>\n",
       "  </tbody>\n",
       "</table>\n",
       "</div>"
      ],
      "text/plain": [
       "   A.attr  B.attr  nA  nB\n",
       "0      23      60  s1  t1\n",
       "1       7      22  s2  t3\n",
       "2      15      22  s3  t3\n",
       "3      31      60  s4  t1"
      ]
     },
     "execution_count": 10,
     "metadata": {},
     "output_type": "execute_result"
    }
   ],
   "source": [
    "query = '''SELECT nA, A.attr, nB, B.attr FROM A LEFT JOIN B ON B.idB = A.idA'''\n",
    "viz_tables(['nA', 'A.attr', 'nB', 'B.attr'], query)"
   ]
  },
  {
   "cell_type": "markdown",
   "metadata": {},
   "source": [
    "#### 2."
   ]
  },
  {
   "cell_type": "code",
   "execution_count": 11,
   "metadata": {
    "scrolled": true
   },
   "outputs": [
    {
     "data": {
      "text/html": [
       "<div>\n",
       "<style scoped>\n",
       "    .dataframe tbody tr th:only-of-type {\n",
       "        vertical-align: middle;\n",
       "    }\n",
       "\n",
       "    .dataframe tbody tr th {\n",
       "        vertical-align: top;\n",
       "    }\n",
       "\n",
       "    .dataframe thead th {\n",
       "        text-align: right;\n",
       "    }\n",
       "</style>\n",
       "<table border=\"1\" class=\"dataframe\">\n",
       "  <thead>\n",
       "    <tr style=\"text-align: right;\">\n",
       "      <th></th>\n",
       "      <th>A.attr</th>\n",
       "      <th>B.attr</th>\n",
       "      <th>nA</th>\n",
       "      <th>nB</th>\n",
       "    </tr>\n",
       "  </thead>\n",
       "  <tbody>\n",
       "    <tr>\n",
       "      <th>0</th>\n",
       "      <td>23.0</td>\n",
       "      <td>60</td>\n",
       "      <td>s1</td>\n",
       "      <td>t1</td>\n",
       "    </tr>\n",
       "    <tr>\n",
       "      <th>1</th>\n",
       "      <td>31.0</td>\n",
       "      <td>60</td>\n",
       "      <td>s4</td>\n",
       "      <td>t1</td>\n",
       "    </tr>\n",
       "    <tr>\n",
       "      <th>2</th>\n",
       "      <td>NaN</td>\n",
       "      <td>14</td>\n",
       "      <td>None</td>\n",
       "      <td>t2</td>\n",
       "    </tr>\n",
       "    <tr>\n",
       "      <th>3</th>\n",
       "      <td>7.0</td>\n",
       "      <td>22</td>\n",
       "      <td>s2</td>\n",
       "      <td>t3</td>\n",
       "    </tr>\n",
       "    <tr>\n",
       "      <th>4</th>\n",
       "      <td>15.0</td>\n",
       "      <td>22</td>\n",
       "      <td>s3</td>\n",
       "      <td>t3</td>\n",
       "    </tr>\n",
       "  </tbody>\n",
       "</table>\n",
       "</div>"
      ],
      "text/plain": [
       "   A.attr  B.attr    nA  nB\n",
       "0    23.0      60    s1  t1\n",
       "1    31.0      60    s4  t1\n",
       "2     NaN      14  None  t2\n",
       "3     7.0      22    s2  t3\n",
       "4    15.0      22    s3  t3"
      ]
     },
     "execution_count": 11,
     "metadata": {},
     "output_type": "execute_result"
    }
   ],
   "source": [
    "query = '''SELECT nA, A.attr, nB, B.attr FROM B LEFT JOIN A ON B.idB = A.idA'''\n",
    "viz_tables(['nA', 'A.attr', 'nB', 'B.attr'], query)"
   ]
  },
  {
   "cell_type": "markdown",
   "metadata": {},
   "source": [
    "#### 3."
   ]
  },
  {
   "cell_type": "code",
   "execution_count": 12,
   "metadata": {},
   "outputs": [
    {
     "data": {
      "text/html": [
       "<div>\n",
       "<style scoped>\n",
       "    .dataframe tbody tr th:only-of-type {\n",
       "        vertical-align: middle;\n",
       "    }\n",
       "\n",
       "    .dataframe tbody tr th {\n",
       "        vertical-align: top;\n",
       "    }\n",
       "\n",
       "    .dataframe thead th {\n",
       "        text-align: right;\n",
       "    }\n",
       "</style>\n",
       "<table border=\"1\" class=\"dataframe\">\n",
       "  <thead>\n",
       "    <tr style=\"text-align: right;\">\n",
       "      <th></th>\n",
       "      <th>average contribution</th>\n",
       "      <th>candidate last name</th>\n",
       "      <th>number of contributors</th>\n",
       "    </tr>\n",
       "  </thead>\n",
       "  <tbody>\n",
       "    <tr>\n",
       "      <th>0</th>\n",
       "      <td>50.6000</td>\n",
       "      <td>Clinton</td>\n",
       "      <td>25</td>\n",
       "    </tr>\n",
       "    <tr>\n",
       "      <th>1</th>\n",
       "      <td>-1360.0000</td>\n",
       "      <td>Giuliani</td>\n",
       "      <td>25</td>\n",
       "    </tr>\n",
       "    <tr>\n",
       "      <th>2</th>\n",
       "      <td>772.0000</td>\n",
       "      <td>Huckabee</td>\n",
       "      <td>25</td>\n",
       "    </tr>\n",
       "    <tr>\n",
       "      <th>3</th>\n",
       "      <td>452.6000</td>\n",
       "      <td>McCain</td>\n",
       "      <td>25</td>\n",
       "    </tr>\n",
       "    <tr>\n",
       "      <th>4</th>\n",
       "      <td>472.4356</td>\n",
       "      <td>Obama</td>\n",
       "      <td>25</td>\n",
       "    </tr>\n",
       "    <tr>\n",
       "      <th>5</th>\n",
       "      <td>-519.7088</td>\n",
       "      <td>Paul</td>\n",
       "      <td>25</td>\n",
       "    </tr>\n",
       "    <tr>\n",
       "      <th>6</th>\n",
       "      <td>156.0000</td>\n",
       "      <td>Romney</td>\n",
       "      <td>25</td>\n",
       "    </tr>\n",
       "  </tbody>\n",
       "</table>\n",
       "</div>"
      ],
      "text/plain": [
       "   average contribution candidate last name  number of contributors\n",
       "0               50.6000             Clinton                      25\n",
       "1            -1360.0000            Giuliani                      25\n",
       "2              772.0000            Huckabee                      25\n",
       "3              452.6000              McCain                      25\n",
       "4              472.4356               Obama                      25\n",
       "5             -519.7088                Paul                      25\n",
       "6              156.0000              Romney                      25"
      ]
     },
     "execution_count": 12,
     "metadata": {},
     "output_type": "execute_result"
    }
   ],
   "source": [
    "query = '''SELECT AVG(contributors.amount), COUNT(contributors.id), candidates.last_name\n",
    "           FROM contributors LEFT JOIN candidates ON contributors.candidate_id = candidates.id \n",
    "           GROUP BY candidates.last_name'''\n",
    "viz_tables(['average contribution', 'number of contributors', 'candidate last name'], query)"
   ]
  },
  {
   "cell_type": "markdown",
   "metadata": {},
   "source": [
    "---"
   ]
  },
  {
   "cell_type": "markdown",
   "metadata": {},
   "source": [
    "# `pandas`"
   ]
  },
  {
   "cell_type": "markdown",
   "metadata": {},
   "source": [
    "We've been working with databases for the last few lectures and learning `SQLite` commands to work with and manipulate the databases.  There is a `Python` package called `pandas` that provides broad support for data structures.  It can be used to interact with relationsional databases through its own methods and even through `SQL` commands.\n",
    "\n",
    "In the last part of this lecture, you will get to redo a bunch of the database exercises using `pandas`.\n",
    "\n",
    "We won't be able to cover `pandas` from the ground up, but it's a well-documented library and is fairly easy to get up and running.  Here's the website:  [`pandas`](http://pandas.pydata.org/)."
   ]
  },
  {
   "cell_type": "markdown",
   "metadata": {},
   "source": [
    "## Reading a datafile into `pandas`"
   ]
  },
  {
   "cell_type": "code",
   "execution_count": null,
   "metadata": {
    "collapsed": true
   },
   "outputs": [],
   "source": [
    "# Using pandas naming convention\n",
    "dfcand = pd.read_csv(\"candidates.txt\", sep=\"|\")\n",
    "dfcand"
   ]
  },
  {
   "cell_type": "code",
   "execution_count": null,
   "metadata": {
    "collapsed": true
   },
   "outputs": [],
   "source": [
    "dfcontr = pd.read_csv(\"contributors.txt\", sep=\"|\")\n",
    "dfcontr"
   ]
  },
  {
   "cell_type": "markdown",
   "metadata": {},
   "source": [
    "Reading things in is quite easy with `pandas`.\n",
    "\n",
    "Notice that `pandas` populates empty fields with `NaN` values.\n",
    "\n",
    "The `id` column in the contributors dataset is superfluous.  Let's delete it."
   ]
  },
  {
   "cell_type": "code",
   "execution_count": null,
   "metadata": {
    "collapsed": true
   },
   "outputs": [],
   "source": [
    "del dfcontr['id']\n",
    "dfcontr.head()"
   ]
  },
  {
   "cell_type": "markdown",
   "metadata": {},
   "source": [
    "Very nice!  And we used the `head` method to print out the first five rows."
   ]
  },
  {
   "cell_type": "markdown",
   "metadata": {},
   "source": [
    "## Creating a Table with `pandas`\n",
    "We can use `pandas` to create tables in a database.\n",
    "\n",
    "First, let's create a new database since we've already done a lot on our test database."
   ]
  },
  {
   "cell_type": "code",
   "execution_count": null,
   "metadata": {
    "collapsed": true
   },
   "outputs": [],
   "source": [
    "dbp = sqlite3.connect('L21_pandas_DB.sqlite')\n",
    "csr = dbp.cursor()\n",
    "csr.execute(\"DROP TABLE IF EXISTS candidates\")\n",
    "csr.execute(\"DROP TABLE IF EXISTS contributors\")\n",
    "csr.execute(\"PRAGMA foreign_keys=1\")\n",
    "\n",
    "csr.execute('''CREATE TABLE candidates (\n",
    "               id INTEGER PRIMARY KEY NOT NULL, \n",
    "               first_name TEXT, \n",
    "               last_name TEXT, \n",
    "               middle_name TEXT, \n",
    "               party TEXT NOT NULL)''')\n",
    "\n",
    "dbp.commit() # Commit changes to the database\n",
    "\n",
    "csr.execute('''CREATE TABLE contributors (\n",
    "          id INTEGER PRIMARY KEY AUTOINCREMENT NOT NULL, \n",
    "          last_name TEXT, \n",
    "          first_name TEXT, \n",
    "          middle_name TEXT, \n",
    "          street_1 TEXT, \n",
    "          street_2 TEXT, \n",
    "          city TEXT, \n",
    "          state TEXT, \n",
    "          zip TEXT, \n",
    "          amount REAL, \n",
    "          date DATETIME, \n",
    "          candidate_id INTEGER NOT NULL, \n",
    "          FOREIGN KEY(candidate_id) REFERENCES candidates(id))''')\n",
    "\n",
    "dbp.commit()"
   ]
  },
  {
   "cell_type": "markdown",
   "metadata": {},
   "source": [
    "Last time, we opened the data files with `Python` and then manually used `SQLite` commands to populate the individual tables.  We can use `pandas` instead like so."
   ]
  },
  {
   "cell_type": "code",
   "execution_count": null,
   "metadata": {
    "collapsed": true
   },
   "outputs": [],
   "source": [
    "dfcand.to_sql(\"candidates\", dbp, if_exists=\"append\", index=False)"
   ]
  },
  {
   "cell_type": "markdown",
   "metadata": {},
   "source": [
    "How big is our table?"
   ]
  },
  {
   "cell_type": "code",
   "execution_count": null,
   "metadata": {
    "collapsed": true
   },
   "outputs": [],
   "source": [
    "dfcand.shape"
   ]
  },
  {
   "cell_type": "markdown",
   "metadata": {},
   "source": [
    "We can visualize the data in our `pandas`-populated table.  No surprises here except that `pandas` did everything for us."
   ]
  },
  {
   "cell_type": "code",
   "execution_count": null,
   "metadata": {
    "collapsed": true,
    "scrolled": true
   },
   "outputs": [],
   "source": [
    "query = '''SELECT * FROM candidates'''\n",
    "csr.execute(query).fetchall()"
   ]
  },
  {
   "cell_type": "markdown",
   "metadata": {},
   "source": [
    "## Querying a table with `pandas`"
   ]
  },
  {
   "cell_type": "markdown",
   "metadata": {},
   "source": [
    "### One Way"
   ]
  },
  {
   "cell_type": "code",
   "execution_count": null,
   "metadata": {
    "collapsed": true
   },
   "outputs": [],
   "source": [
    "dfcand.query(\"first_name=='Mike' & party=='D'\")"
   ]
  },
  {
   "cell_type": "markdown",
   "metadata": {},
   "source": [
    "### Another Way"
   ]
  },
  {
   "cell_type": "code",
   "execution_count": null,
   "metadata": {
    "collapsed": true
   },
   "outputs": [],
   "source": [
    "dfcand[(dfcand.first_name==\"Mike\") & (dfcand.party==\"D\")]"
   ]
  },
  {
   "cell_type": "markdown",
   "metadata": {},
   "source": [
    "### More Queries"
   ]
  },
  {
   "cell_type": "code",
   "execution_count": null,
   "metadata": {
    "collapsed": true
   },
   "outputs": [],
   "source": [
    "dfcand[dfcand.middle_name.notnull()]"
   ]
  },
  {
   "cell_type": "code",
   "execution_count": null,
   "metadata": {
    "collapsed": true
   },
   "outputs": [],
   "source": [
    "dfcand[dfcand.first_name.isin(['Mike', 'Hillary'])]"
   ]
  },
  {
   "cell_type": "markdown",
   "metadata": {},
   "source": [
    "## Exercises\n",
    "1. Use `pandas` to populate the contributors table.\n",
    "2. Query the contributors tables with the following:\n",
    "  1. List entries where the state is \"VA\" and the amount is less than $\\$400.00$.\n",
    "  2. List entries where the state is \"NULL\".\n",
    "  3. List entries for the states of Texas and Pennsylvania.\n",
    "  4. List entries where the amount contributed is between $\\$10.00$ and $\\$50.00$."
   ]
  },
  {
   "cell_type": "markdown",
   "metadata": {},
   "source": [
    "## Sorting"
   ]
  },
  {
   "cell_type": "code",
   "execution_count": null,
   "metadata": {
    "collapsed": true
   },
   "outputs": [],
   "source": [
    "dfcand.sort_values(by='party')"
   ]
  },
  {
   "cell_type": "code",
   "execution_count": null,
   "metadata": {
    "collapsed": true
   },
   "outputs": [],
   "source": [
    "dfcand.sort_values(by='party', ascending=False)"
   ]
  },
  {
   "cell_type": "markdown",
   "metadata": {},
   "source": [
    "## Selecting Columns"
   ]
  },
  {
   "cell_type": "code",
   "execution_count": null,
   "metadata": {
    "collapsed": true,
    "scrolled": true
   },
   "outputs": [],
   "source": [
    "dfcand[['last_name', 'party']]"
   ]
  },
  {
   "cell_type": "code",
   "execution_count": null,
   "metadata": {
    "collapsed": true
   },
   "outputs": [],
   "source": [
    "dfcand[['last_name', 'party']].count()"
   ]
  },
  {
   "cell_type": "code",
   "execution_count": null,
   "metadata": {
    "collapsed": true
   },
   "outputs": [],
   "source": [
    "dfcand[['first_name']].drop_duplicates()"
   ]
  },
  {
   "cell_type": "code",
   "execution_count": null,
   "metadata": {
    "collapsed": true
   },
   "outputs": [],
   "source": [
    "dfcand[['first_name']].drop_duplicates().count()"
   ]
  },
  {
   "cell_type": "markdown",
   "metadata": {},
   "source": [
    "## Exercises\n",
    "1. Sort the contributors table by `amount` and order in *descending* order.\n",
    "2. Select the `first_name` and `amount` columns.\n",
    "3. Select the `last_name` and `first_name` columns and drop duplicates.\n",
    "4. Count how many there are after the duplicates have been dropped."
   ]
  },
  {
   "cell_type": "markdown",
   "metadata": {},
   "source": [
    "## Altering Tables"
   ]
  },
  {
   "cell_type": "markdown",
   "metadata": {},
   "source": [
    "Creating a new column is quite easy with `pandas`."
   ]
  },
  {
   "cell_type": "code",
   "execution_count": null,
   "metadata": {
    "collapsed": true
   },
   "outputs": [],
   "source": [
    "dfcand['name'] = dfcand['last_name'] + \", \" + dfcand['first_name']\n",
    "dfcand"
   ]
  },
  {
   "cell_type": "markdown",
   "metadata": {},
   "source": [
    "We can change an existing field as well."
   ]
  },
  {
   "cell_type": "code",
   "execution_count": null,
   "metadata": {
    "collapsed": true
   },
   "outputs": [],
   "source": [
    "dfcand.loc[dfcand.first_name == \"Mike\", \"name\"]"
   ]
  },
  {
   "cell_type": "code",
   "execution_count": null,
   "metadata": {
    "collapsed": true
   },
   "outputs": [],
   "source": [
    "dfcand.loc[dfcand.first_name == \"Mike\", \"name\"] = \"Mikey\""
   ]
  },
  {
   "cell_type": "code",
   "execution_count": null,
   "metadata": {
    "collapsed": true
   },
   "outputs": [],
   "source": [
    "dfcand.query(\"first_name == 'Mike'\")"
   ]
  },
  {
   "cell_type": "markdown",
   "metadata": {},
   "source": [
    "You may recall that `SQLite` doesn't have the functionality to drop a column.  It's a one-liner with `pandas`."
   ]
  },
  {
   "cell_type": "code",
   "execution_count": null,
   "metadata": {
    "collapsed": true
   },
   "outputs": [],
   "source": [
    "del dfcand['name']\n",
    "dfcand"
   ]
  },
  {
   "cell_type": "markdown",
   "metadata": {},
   "source": [
    "## Exercises\n",
    "1. Create a name column for the contributors table with field entries of the form \"last name, first name\"\n",
    "2. For contributors from the state of \"PA\", change the name to \"X\".\n",
    "3. Delete the newly created name column."
   ]
  },
  {
   "cell_type": "markdown",
   "metadata": {},
   "source": [
    "## Aggregation\n",
    "We'd like to get information about the tables such as the maximum amount contributed to the candidates.  Here are a bunch of ways to describe the tables."
   ]
  },
  {
   "cell_type": "code",
   "execution_count": null,
   "metadata": {
    "collapsed": true
   },
   "outputs": [],
   "source": [
    "dfcand.describe()"
   ]
  },
  {
   "cell_type": "markdown",
   "metadata": {},
   "source": [
    "It's not very interesting with the candidates table because the candidates table only has one numeric column."
   ]
  },
  {
   "cell_type": "markdown",
   "metadata": {},
   "source": [
    "## Exercise\n",
    "Use the `describe()` method on the `contributors` table."
   ]
  },
  {
   "cell_type": "markdown",
   "metadata": {},
   "source": [
    "I'll use the contributors table to do some demos now."
   ]
  },
  {
   "cell_type": "code",
   "execution_count": null,
   "metadata": {
    "collapsed": true
   },
   "outputs": [],
   "source": [
    "dfcontr.amount.max()"
   ]
  },
  {
   "cell_type": "code",
   "execution_count": null,
   "metadata": {
    "collapsed": true
   },
   "outputs": [],
   "source": [
    "dfcontr[dfcontr.amount==dfcontr.amount.max()]"
   ]
  },
  {
   "cell_type": "code",
   "execution_count": null,
   "metadata": {
    "collapsed": true
   },
   "outputs": [],
   "source": [
    "dfcontr.groupby(\"state\").sum()"
   ]
  },
  {
   "cell_type": "code",
   "execution_count": null,
   "metadata": {
    "collapsed": true
   },
   "outputs": [],
   "source": [
    "dfcontr.groupby(\"state\")[\"amount\"].sum()"
   ]
  },
  {
   "cell_type": "code",
   "execution_count": null,
   "metadata": {
    "collapsed": true
   },
   "outputs": [],
   "source": [
    "dfcontr.state.unique()"
   ]
  },
  {
   "cell_type": "markdown",
   "metadata": {},
   "source": [
    "There is also a version of the `LIMIT` clause.  It's very intuitive with `pandas`."
   ]
  },
  {
   "cell_type": "code",
   "execution_count": null,
   "metadata": {
    "collapsed": true
   },
   "outputs": [],
   "source": [
    "dfcand[0:3]"
   ]
  },
  {
   "cell_type": "markdown",
   "metadata": {},
   "source": [
    "The usual `Python` slicing works just fine!"
   ]
  },
  {
   "cell_type": "markdown",
   "metadata": {},
   "source": [
    "## Joins with `pandas`"
   ]
  },
  {
   "cell_type": "markdown",
   "metadata": {},
   "source": [
    "`pandas` has some some documentation on `joins`:  [Merge, join, and concatenate](http://pandas.pydata.org/pandas-docs/stable/merging.html).  If you want some more reinforcement on the concepts from earlier regarding `JOIN`, then the `pandas` documentation may be a good place to get it.\n",
    "\n",
    "You may also be interested in [a comparison with `SQL`](http://pandas.pydata.org/pandas-docs/stable/comparison_with_sql.html#compare-with-sql-join).\n",
    "\n",
    "To do joins with `pandas`, we use the `merge` command."
   ]
  },
  {
   "cell_type": "markdown",
   "metadata": {},
   "source": [
    "Here's an example of an explicit inner join:"
   ]
  },
  {
   "cell_type": "code",
   "execution_count": null,
   "metadata": {
    "collapsed": true
   },
   "outputs": [],
   "source": [
    "cols_wanted = ['last_name_x', 'first_name_x', 'candidate_id', 'id', 'last_name_y']\n",
    "dfcontr.merge(dfcand, left_on=\"candidate_id\", right_on=\"id\")[cols_wanted]"
   ]
  },
  {
   "cell_type": "markdown",
   "metadata": {},
   "source": [
    "#### Somewhat organized example"
   ]
  },
  {
   "cell_type": "code",
   "execution_count": null,
   "metadata": {
    "collapsed": true
   },
   "outputs": [],
   "source": [
    "dfcontr.merge(dfcand, left_on=\"candidate_id\", right_on=\"id\")[cols_wanted].groupby('last_name_y').describe()"
   ]
  },
  {
   "cell_type": "markdown",
   "metadata": {},
   "source": [
    "### Other Joins with `pandas`\n",
    "We didn't cover all possible joins because `SQLite` can only handle the few that we did discuss.  As mentioned, there are workarounds for some things in `SQLite`, but not evertyhing.  Fortunately, `pandas` can handle pretty much everything.  Here are a few joins that `pandas` can handle:\n",
    "* `LEFT OUTER` (already discussed)\n",
    "* `RIGHT OUTER` - Think of the \"opposite\" of a `LEFT OUTER` join (shade the intersection and *right* set in the Venn diagram).\n",
    "* `FULL OUTER` - Combine everything from both tables (shade the entire Venn diagram)"
   ]
  },
  {
   "cell_type": "markdown",
   "metadata": {},
   "source": [
    "#### Left Outer Join with `pandas`"
   ]
  },
  {
   "cell_type": "code",
   "execution_count": null,
   "metadata": {
    "collapsed": true
   },
   "outputs": [],
   "source": [
    "dfcontr.merge(dfcand, left_on=\"candidate_id\", right_on=\"id\", how=\"left\")[cols_wanted]"
   ]
  },
  {
   "cell_type": "markdown",
   "metadata": {},
   "source": [
    "#### Right Outer Join with `pandas`"
   ]
  },
  {
   "cell_type": "code",
   "execution_count": null,
   "metadata": {
    "collapsed": true
   },
   "outputs": [],
   "source": [
    "dfcontr.merge(dfcand, left_on=\"candidate_id\", right_on=\"id\", how=\"right\")[cols_wanted]"
   ]
  },
  {
   "cell_type": "markdown",
   "metadata": {},
   "source": [
    "#### Full Outer Join with `pandas`"
   ]
  },
  {
   "cell_type": "code",
   "execution_count": null,
   "metadata": {
    "collapsed": true
   },
   "outputs": [],
   "source": [
    "dfcontr.merge(dfcand, left_on=\"candidate_id\", right_on=\"id\", how=\"outer\")[cols_wanted]"
   ]
  }
 ],
 "metadata": {
  "kernelspec": {
   "display_name": "Python 3",
   "language": "python",
   "name": "python3"
  },
  "language_info": {
   "codemirror_mode": {
    "name": "ipython",
    "version": 3
   },
   "file_extension": ".py",
   "mimetype": "text/x-python",
   "name": "python",
   "nbconvert_exporter": "python",
   "pygments_lexer": "ipython3",
   "version": "3.6.1"
  }
 },
 "nbformat": 4,
 "nbformat_minor": 2
}
