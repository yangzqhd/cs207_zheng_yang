{
 "cells": [
  {
   "cell_type": "markdown",
   "metadata": {},
   "source": [
    "# Exercise:  Documentation and Testing\n",
    "The following little program needs some documentation and some tests.  Since you didn't write it, I'll tell you what it's supposed to do.  You'll need to document it.  Feel free to test for additional exceptions if you have time but start with it as it is.\n",
    "\n",
    "The point of the program is to compute the $L_{2}$ norm of a vector $v$.  A second argument, if provided, will be interpreted as a vector of weights.  The second argument must have the same length as the input vector.\n",
    "\n",
    "**NOTE:** The input type of the vectors for this program should be a list of numbers.\n",
    "\n",
    "As a reminder, the weighted $L_2$ norm of a vector $v$ is given by \n",
    "\\begin{align*}\n",
    "  \\|v\\|_{W} = \\sqrt{\\sum_{i=1}^{N}{\\left(w_{i}v_{i}\\right)^2}}\n",
    "\\end{align*}\n",
    "where $N$ is the length of the vector $v$, $v_{i}$ is the i-th component of the vector $v$ and $w_{i}$ is the i-th component of the weight vector.\n",
    "\n",
    "#### Requirements\n",
    "* You must write the documentation and a decent test suite.  Try to include some doctests as well!\n",
    "* Use the `pytest` module to run the doctests and unit tests and to assess the code coverage.\n",
    "\n",
    "If you don't already have `pytest`, you can install it using `pip install pytest`.  If you have trouble installing, here's the website: [`pytest` installation](https://docs.pytest.org/en/latest/getting-started.html)."
   ]
  },
  {
   "cell_type": "code",
   "execution_count": 35,
   "metadata": {
    "collapsed": true
   },
   "outputs": [],
   "source": [
    "import numpy as np\n",
    "def L2(v, *args):\n",
    "    \"\"\"Returns the weighted L2 norm of a vector\n",
    "    \n",
    "    INPUTS\n",
    "    =======\n",
    "    v: vector to be calculated\n",
    "    *arg: list, same length as the input vector\n",
    "    \n",
    "    RETURNS\n",
    "    ========\n",
    "    weighted L2 norm: float\n",
    "\n",
    "    NOTES\n",
    "    =====\n",
    "    PRE: \n",
    "         - v, *args are arrays\n",
    "    POST:\n",
    "         - v and *arg are not changed by this function\n",
    "         - treat vector of weights as ones, if not given that argument\n",
    "         - raises a ValueError exception if lengths of the vector and the vector of weights(*args) are not same\n",
    "         - returns the weighted L2 norm of the input vector\n",
    "\n",
    "    EXAMPLES\n",
    "    =========\n",
    "    >>> L2([3, 4], [2, 2])\n",
    "    10.0\n",
    "    \"\"\"\n",
    "    s = 0.0 # Initialize sum\n",
    "    if len(args) == 0: # No weight vector\n",
    "        for vi in v:\n",
    "            s += vi * vi\n",
    "    else: # Weight vector present\n",
    "        w = args[0] # Get the weight vector\n",
    "        if (len(w) != len(v)): # Check lengths of lists\n",
    "            raise ValueError(\"Length of list of weights must match length of target list.\")\n",
    "        for i, vi in enumerate(v):\n",
    "            s += w[i] * w[i] * vi * vi\n",
    "    return np.sqrt(s)"
   ]
  },
  {
   "cell_type": "code",
   "execution_count": 36,
   "metadata": {
    "collapsed": true
   },
   "outputs": [],
   "source": [
    "import pytest"
   ]
  },
  {
   "cell_type": "code",
   "execution_count": 37,
   "metadata": {},
   "outputs": [
    {
     "data": {
      "text/plain": [
       "['Returns the weighted L2 norm of a vector',\n",
       " '    ',\n",
       " '    INPUTS',\n",
       " '    =======',\n",
       " '    v: vector to be calculated',\n",
       " '    *arg: dictionary, same length as the input vector',\n",
       " '    ',\n",
       " '    RETURNS',\n",
       " '    ========',\n",
       " '    weighted L2 norm: float',\n",
       " '',\n",
       " '    NOTES',\n",
       " '    =====',\n",
       " '    PRE: ',\n",
       " '         - v, *args are arrays',\n",
       " '    POST:',\n",
       " '         - v and *arg are not changed by this function',\n",
       " '         - treat vector of weights as ones, if not given that argument',\n",
       " '         - raises a ValueError exception if lengths of the vector and the vector of weights(*args) are not same',\n",
       " '         - returns the weighted L2 norm of the input vector',\n",
       " '',\n",
       " '    EXAMPLES',\n",
       " '    =========',\n",
       " '    >>> L2([3, 4], [2, 2])',\n",
       " '    10.0',\n",
       " '    ']"
      ]
     },
     "execution_count": 37,
     "metadata": {},
     "output_type": "execute_result"
    }
   ],
   "source": [
    "L2.__doc__.splitlines()"
   ]
  },
  {
   "cell_type": "code",
   "execution_count": 38,
   "metadata": {},
   "outputs": [
    {
     "name": "stdout",
     "output_type": "stream",
     "text": [
      "Trying:\n",
      "    L2([3, 4], [2, 2])\n",
      "Expecting:\n",
      "    10.0\n",
      "ok\n",
      "Trying:\n",
      "    L2([3, 4], [2, 2])\n",
      "Expecting:\n",
      "    10.0\n",
      "ok\n",
      "2 items passed all tests:\n",
      "   1 tests in __main__\n",
      "   1 tests in __main__.L2\n",
      "2 tests in 2 items.\n",
      "2 passed and 0 failed.\n",
      "Test passed.\n"
     ]
    },
    {
     "data": {
      "text/plain": [
       "TestResults(failed=0, attempted=2)"
      ]
     },
     "execution_count": 38,
     "metadata": {},
     "output_type": "execute_result"
    }
   ],
   "source": [
    "import doctest\n",
    "doctest.testmod(verbose=True)"
   ]
  },
  {
   "cell_type": "code",
   "execution_count": 39,
   "metadata": {},
   "outputs": [
    {
     "name": "stdout",
     "output_type": "stream",
     "text": [
      "Writing L2.py\n"
     ]
    }
   ],
   "source": [
    "%%file L2.py\n",
    "import numpy as np\n",
    "def L2(v, *args):\n",
    "    \"\"\"Returns the weighted L2 norm of a vector\n",
    "    \n",
    "    INPUTS\n",
    "    =======\n",
    "    v: list, vector to be calculated\n",
    "    *arg: list, a vector of weights, same length as the input vector\n",
    "    \n",
    "    RETURNS\n",
    "    ========\n",
    "    weighted L2 norm: float\n",
    "\n",
    "    NOTES\n",
    "    =====\n",
    "    PRE: \n",
    "         - v, *args are arrays\n",
    "    POST:\n",
    "         - v and *arg are not changed by this function\n",
    "         - treat vector of weights as ones, if not given that argument\n",
    "         - raises a ValueError exception if lengths of the vector and the vector of weights(*args) are not same\n",
    "         - returns the weighted L2 norm of the input vector\n",
    "\n",
    "    EXAMPLES\n",
    "    =========\n",
    "    >>> L2([3, 4], [2, 2])\n",
    "    10.0\n",
    "    \"\"\"\n",
    "    s = 0.0 # Initialize sum\n",
    "    if len(args) == 0: # No weight vector\n",
    "        for vi in v:\n",
    "            s += vi * vi\n",
    "    else: # Weight vector present\n",
    "        w = args[0] # Get the weight vector\n",
    "        if (len(w) != len(v)): # Check lengths of lists\n",
    "            raise ValueError(\"Length of list of weights must match length of target list.\")\n",
    "        for i, vi in enumerate(v):\n",
    "            s += w[i] * w[i] * vi * vi\n",
    "    return np.sqrt(s)"
   ]
  },
  {
   "cell_type": "code",
   "execution_count": 46,
   "metadata": {},
   "outputs": [
    {
     "name": "stdout",
     "output_type": "stream",
     "text": [
      "Overwriting test_L2.py\n"
     ]
    }
   ],
   "source": [
    "%%file test_L2.py\n",
    "import pytest\n",
    "import L2\n",
    "\n",
    "def test_L2_result():\n",
    "    assert L2.L2([3, 4], [2, 2]) == 10.0\n",
    "\n",
    "\n",
    "def test_L2_lengtherror():\n",
    "    with pytest.raises(ValueError):\n",
    "        L2.L2([1, 2, 3], [1, 2])"
   ]
  },
  {
   "cell_type": "code",
   "execution_count": 47,
   "metadata": {},
   "outputs": [
    {
     "name": "stdout",
     "output_type": "stream",
     "text": [
      "\u001b[1m============================= test session starts ==============================\u001b[0m\n",
      "platform darwin -- Python 3.6.1, pytest-3.8.2, py-1.6.0, pluggy-0.7.1\n",
      "rootdir: /Users/zhengyang/Documents/CS207/cs207_zheng_yang/lectures/L11, inifile:\n",
      "collected 2 items                                                              \u001b[0m\u001b[1m\n",
      "\n",
      "test_L2.py ..\u001b[36m                                                            [100%]\u001b[0m\n",
      "\n",
      "\u001b[32m\u001b[1m=========================== 2 passed in 0.09 seconds ===========================\u001b[0m\n"
     ]
    }
   ],
   "source": [
    "!pytest"
   ]
  },
  {
   "cell_type": "code",
   "execution_count": null,
   "metadata": {
    "collapsed": true
   },
   "outputs": [],
   "source": []
  }
 ],
 "metadata": {
  "kernelspec": {
   "display_name": "Python 3",
   "language": "python",
   "name": "python3"
  },
  "language_info": {
   "codemirror_mode": {
    "name": "ipython",
    "version": 3
   },
   "file_extension": ".py",
   "mimetype": "text/x-python",
   "name": "python",
   "nbconvert_exporter": "python",
   "pygments_lexer": "ipython3",
   "version": "3.6.1"
  }
 },
 "nbformat": 4,
 "nbformat_minor": 2
}
