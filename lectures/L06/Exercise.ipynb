{
 "cells": [
  {
   "cell_type": "markdown",
   "metadata": {},
   "source": [
    "# Exercise 1\n",
    "Last lecture, you wrote a class to create circles from two points:  the circle center and another point on the circle.  Of course, someone might want to create a circle simply by providing the radius and no coordinate information.  They should still be able to do all the same calculations as before (area and circumference.\n",
    "\n",
    "You will provide this functionality by writing a subclass called `Rcircle` of the superclass `Circle`.\n",
    "\n",
    "####  Requirements\n",
    "* Must inherit from `Circle`\n",
    "* Must have it's own constructor.  The constructor accepts the circle radius supplied by the user as its argument.  That is `__init__(self, r)`.\n",
    "* The circle radius must be set in the constructor\n",
    "* The `Rcircle` subclass must reimplement the `radius` function.  It does not make sense for `Rcircle` to inherit the `radius` method from `Circle` since an instance of `Rcircle` doesn't know anything about the coordinates of the circle.\n",
    "* Include the `__eq__` special method to compare two circles.\n",
    "\n",
    "Demo your class.\n",
    "\n",
    "#### Bonus\n",
    "Feel free to play with some of the other *dunder* methods.  For example, it might be fun to add two circles (you get to define what that means!).  Be careful with `__add__`; you'll need to look into using `__radd__` as well.  \n",
    "\n",
    "What other dunder methods would make sense?"
   ]
  },
  {
   "cell_type": "markdown",
   "metadata": {},
   "source": [
    "Your `Circle` class from last time should have looked something like this:"
   ]
  },
  {
   "cell_type": "code",
   "execution_count": 1,
   "metadata": {
    "collapsed": true
   },
   "outputs": [],
   "source": [
    "class Circle:\n",
    "    '''A class for circles\n",
    "      Constructor is initialized with two tuples, one for the center of the circle\n",
    "      and the other for a point on the circle.\n",
    "      \n",
    "      Methods include radius, area, and circum.  None of these methods accept any arguments.\n",
    "      \n",
    "      The user is not required to pre-compute the radius of the circle.  Exception testing is \n",
    "      done in area and circum to check for a circle radius.  If it doesn't exist, a radius is \n",
    "      computed.\n",
    "    '''\n",
    "    \n",
    "    def __init__(self, center, point):\n",
    "        self.xc = center[0]\n",
    "        self.yc = center[1]\n",
    "        self.x = point[0]\n",
    "        self.y = point[1]\n",
    "    \n",
    "    def radius(self):\n",
    "        x = self.x - self.xc\n",
    "        y = self.y - self.yc\n",
    "        self.R = np.sqrt(x * x + y * y)\n",
    "    \n",
    "    def area(self):\n",
    "        try:\n",
    "            self.A = np.pi * self.R* self.R\n",
    "        except AttributeError:\n",
    "            x = self.x - self.xc\n",
    "            y = self.y - self.yc\n",
    "            r = np.sqrt(x * x + y * y)\n",
    "            self.R = r\n",
    "            self.A = np.pi * r * r\n",
    "    \n",
    "    def circum(self):\n",
    "        try:\n",
    "            self.C =  2.0 * np.pi * self.R\n",
    "        except AttributeError:\n",
    "            x = self.x - self.xc\n",
    "            y = self.y - self.yc\n",
    "            r = np.sqrt(x * x + y * y)\n",
    "            self.R = r\n",
    "            self.C = 2.0 * np.pi * r"
   ]
  },
  {
   "cell_type": "markdown",
   "metadata": {},
   "source": [
    "# Solution"
   ]
  },
  {
   "cell_type": "markdown",
   "metadata": {},
   "source": [
    "### Requirements"
   ]
  },
  {
   "cell_type": "code",
   "execution_count": 4,
   "metadata": {
    "collapsed": true
   },
   "outputs": [],
   "source": [
    "# your code here\n",
    "class Rcircle(Circle):\n",
    "    \n",
    "    def __init__(self, r):\n",
    "        self.R = r\n",
    "    \n",
    "    def radius(self):\n",
    "        return self.R\n",
    "    \n",
    "    def __eq__(self, other):\n",
    "        return self.R == other.R"
   ]
  },
  {
   "cell_type": "code",
   "execution_count": 8,
   "metadata": {
    "collapsed": true
   },
   "outputs": [],
   "source": [
    "import numpy as np"
   ]
  },
  {
   "cell_type": "code",
   "execution_count": 14,
   "metadata": {
    "collapsed": true
   },
   "outputs": [],
   "source": [
    "my_circle = Rcircle(6)"
   ]
  },
  {
   "cell_type": "code",
   "execution_count": 6,
   "metadata": {},
   "outputs": [
    {
     "data": {
      "text/plain": [
       "6"
      ]
     },
     "execution_count": 6,
     "metadata": {},
     "output_type": "execute_result"
    }
   ],
   "source": [
    "my_circle.radius()"
   ]
  },
  {
   "cell_type": "code",
   "execution_count": 10,
   "metadata": {},
   "outputs": [
    {
     "data": {
      "text/plain": [
       "113.09733552923255"
      ]
     },
     "execution_count": 10,
     "metadata": {},
     "output_type": "execute_result"
    }
   ],
   "source": [
    "my_circle.area()\n",
    "my_circle.A"
   ]
  },
  {
   "cell_type": "code",
   "execution_count": 11,
   "metadata": {},
   "outputs": [
    {
     "data": {
      "text/plain": [
       "37.69911184307752"
      ]
     },
     "execution_count": 11,
     "metadata": {},
     "output_type": "execute_result"
    }
   ],
   "source": [
    "my_circle.circum()\n",
    "my_circle.C"
   ]
  },
  {
   "cell_type": "code",
   "execution_count": 12,
   "metadata": {
    "collapsed": true
   },
   "outputs": [],
   "source": [
    "my_circle1 = Rcircle(6)\n",
    "my_circle2 = Rcircle(3)"
   ]
  },
  {
   "cell_type": "code",
   "execution_count": 15,
   "metadata": {},
   "outputs": [
    {
     "data": {
      "text/plain": [
       "True"
      ]
     },
     "execution_count": 15,
     "metadata": {},
     "output_type": "execute_result"
    }
   ],
   "source": [
    "my_circle == my_circle1"
   ]
  },
  {
   "cell_type": "code",
   "execution_count": 16,
   "metadata": {},
   "outputs": [
    {
     "data": {
      "text/plain": [
       "False"
      ]
     },
     "execution_count": 16,
     "metadata": {},
     "output_type": "execute_result"
    }
   ],
   "source": [
    "my_circle == my_circle2"
   ]
  },
  {
   "cell_type": "markdown",
   "metadata": {},
   "source": [
    "### Bonus"
   ]
  },
  {
   "cell_type": "code",
   "execution_count": 28,
   "metadata": {},
   "outputs": [],
   "source": [
    "class Rcircle(Circle):\n",
    "    \n",
    "    def __init__(self, r):\n",
    "        self.R = r\n",
    "    \n",
    "    def radius(self):\n",
    "        return self.R\n",
    "    \n",
    "    def __eq__(self, other):\n",
    "        return self.R == other.R\n",
    "    \n",
    "    def __repr__(self):\n",
    "        class_name = type(self).__name__\n",
    "        return \"{0!s}: radius is {1.R!r}\".format(class_name, self)\n",
    "    \n",
    "    def __radd__(self, other):\n",
    "        newR = self.R + other.R\n",
    "        return newR\n",
    "    \n",
    "    __add__ = __radd__"
   ]
  },
  {
   "cell_type": "code",
   "execution_count": 22,
   "metadata": {
    "collapsed": true
   },
   "outputs": [],
   "source": [
    "my_circle3 = Rcircle(6)"
   ]
  },
  {
   "cell_type": "code",
   "execution_count": 23,
   "metadata": {},
   "outputs": [
    {
     "name": "stdout",
     "output_type": "stream",
     "text": [
      "Rcircle: radius is 6\n"
     ]
    }
   ],
   "source": [
    "print(my_circle3)"
   ]
  },
  {
   "cell_type": "code",
   "execution_count": 24,
   "metadata": {},
   "outputs": [
    {
     "data": {
      "text/plain": [
       "'Rcircle: radius is 6'"
      ]
     },
     "execution_count": 24,
     "metadata": {},
     "output_type": "execute_result"
    }
   ],
   "source": [
    "repr(my_circle3)"
   ]
  },
  {
   "cell_type": "code",
   "execution_count": 29,
   "metadata": {
    "collapsed": true
   },
   "outputs": [],
   "source": [
    "my_circle4 = Rcircle(4)"
   ]
  },
  {
   "cell_type": "code",
   "execution_count": 31,
   "metadata": {},
   "outputs": [
    {
     "name": "stdout",
     "output_type": "stream",
     "text": [
      "The new radius after adding is: 10\n"
     ]
    }
   ],
   "source": [
    "print(\"The new radius after adding is:\", my_circle3 + my_circle4)"
   ]
  }
 ],
 "metadata": {
  "kernelspec": {
   "display_name": "Python 3",
   "language": "python",
   "name": "python3"
  },
  "language_info": {
   "codemirror_mode": {
    "name": "ipython",
    "version": 3
   },
   "file_extension": ".py",
   "mimetype": "text/x-python",
   "name": "python",
   "nbconvert_exporter": "python",
   "pygments_lexer": "ipython3",
   "version": "3.6.1"
  }
 },
 "nbformat": 4,
 "nbformat_minor": 2
}
