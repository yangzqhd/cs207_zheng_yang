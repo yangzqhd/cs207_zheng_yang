{
 "cells": [
  {
   "cell_type": "markdown",
   "metadata": {},
   "source": [
    "# Exercise: Lecture 14\n",
    "## Writing an Input File\n",
    "### October 18th, 2018"
   ]
  },
  {
   "cell_type": "markdown",
   "metadata": {},
   "source": [
    "Write an input file for any coding project of yours that would benefit from one.\n",
    "\n",
    "#### Example\n",
    "We've been discussing Newton's method a little bit in this course.  You know that Newton's method requires a convergence tolerance, an initial guess, and a maximum iteration threshold.  These parameters could all be specified by the user through an input file.  We could design our software to read in the algorithmic parameters via an input file.\n",
    "\n",
    "#### Requirements\n",
    "* You must create a non-trivial input file\n",
    "  - It can't simply have a one-line input\n",
    "* The input file can be in any of the formats discussed in class: `JSON`, `XML`, `YAML`\n",
    "* You must demo reading from the input file"
   ]
  },
  {
   "cell_type": "code",
   "execution_count": 1,
   "metadata": {
    "collapsed": true
   },
   "outputs": [],
   "source": [
    "import json\n",
    "with open (\"sheltercats.json\", \"r\") as sheltercats_file:\n",
    "    sheltercats = json.load(sheltercats_file)"
   ]
  },
  {
   "cell_type": "code",
   "execution_count": 2,
   "metadata": {},
   "outputs": [
    {
     "name": "stdout",
     "output_type": "stream",
     "text": [
      "[{'name': 'C1', 'age': 3, 'breed': 'A', 'attendPlaygroup': 'Yes'}, {'name': 'C2', 'age': 7, 'breed': 'B', 'attendPlaygroup': 'Yes'}]\n"
     ]
    }
   ],
   "source": [
    "print(sheltercats[\"cats\"])"
   ]
  },
  {
   "cell_type": "code",
   "execution_count": 3,
   "metadata": {},
   "outputs": [
    {
     "name": "stdout",
     "output_type": "stream",
     "text": [
      "<class 'dict'>\n"
     ]
    }
   ],
   "source": [
    "print(type(sheltercats))"
   ]
  },
  {
   "cell_type": "code",
   "execution_count": null,
   "metadata": {
    "collapsed": true
   },
   "outputs": [],
   "source": []
  }
 ],
 "metadata": {
  "kernelspec": {
   "display_name": "Python 3",
   "language": "python",
   "name": "python3"
  },
  "language_info": {
   "codemirror_mode": {
    "name": "ipython",
    "version": 3
   },
   "file_extension": ".py",
   "mimetype": "text/x-python",
   "name": "python",
   "nbconvert_exporter": "python",
   "pygments_lexer": "ipython3",
   "version": "3.6.1"
  }
 },
 "nbformat": 4,
 "nbformat_minor": 2
}
