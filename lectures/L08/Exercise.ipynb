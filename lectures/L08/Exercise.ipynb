{
 "cells": [
  {
   "cell_type": "markdown",
   "metadata": {},
   "source": [
    "# Exercise: \"Private\" Methods and Names in Python\n",
    "\n",
    "## Background\n",
    "We will consider two extensions to the real numbers:  complex numbers and dual numbers.  A complex number is defined as $$z = a + ib$$ where $i^{2} = -1$.  $a$ is the real part and $b$ is the imaginary part.  The polar form of a complex number is $$z = \\left|z\\right|e^{i\\theta}$$ where $\\left|z\\right|^{2} = zz^{*} = a^{2} + b^{2}$ and $z^{*} = a - ib$ is the complex conjugate of $z$.  The angle between $a$ and $b$ is given by $$\\theta = \\tan^{-1}\\left(\\frac{b}{a}\\right).$$\n",
    "\n",
    "The dual numbers look similar.  We have $d = a + \\epsilon b$ where $\\epsilon$ is a number (not zero!) such that $\\epsilon^{2} = 0$.  Once again $a$ is the real part, but here $b$ is the dual part.  The polar form of this number is \n",
    "$$d = \\displaystyle a\\left(1 + \\epsilon \\frac{b}{a}\\right).$$  Note that the magnitude of the dual number $\\left|d\\right| = a$ since $dd^{*} = \\left(a + \\epsilon b\\right)\\left(a - \\epsilon b\\right) = a$ where $d^{*} = a - \\epsilon b$ is the conjugate of $d$.\n",
    "\n",
    "Dual numbers are a route to automatic differentiation.  We'll mention them again next week in the AD lectures.\n",
    "\n",
    "## Problem Description\n",
    "\n",
    "### Part 1\n",
    "For today, your task is to write a module called `mynumbers.py`.  The module should contain, at a minimum the following:\n",
    "* A base class called `RealExtensions` with a constructor that accepts $a$ and $b$.\n",
    "* A subclass called `Complex` (inherits from `RealExtensions`) that has the following methods:\n",
    "  * Compute the magnitude of the complex number\n",
    "    * **Note:** This method should be preceeded by a single underscore to indicate that it should not be accessed by a user.\n",
    "  * Compute the \"angle\" of the complex number\n",
    "    * **Note:** This method should be preceeded by a single underscore to indicate that it should not be accessed by a user.\n",
    "  * Compute the polar form of the complex number using `_magnitude()` and `_angle()`\n",
    "* A subclass called `Dual` (inherits from `RealExtensions`) that has methods for compute the magnitude and \"angle\" of the dual number.\n",
    "  * Compute the magnitude of the dual number\n",
    "    * **Note:** This method should be preceeded by a single underscore to indicate that it should not be accessed by a user.\n",
    "  * Compute the \"angle\" of the dual number\n",
    "    * **Note:** This method should be preceeded by a single underscore to indicate that it should not be accessed by a user.\n",
    "  * Compute the polar form of the dual number using `_magnitude()` and `_angle()`\n",
    "\n",
    "The choice of \"hiding\" the `magnitude()` and `angle()` methods may not be a good one.  The goal is to show that this is not really privacy; it's more of a contract between people using the code.  Note that a user can still access `_magnitude()` and `_angle()`.\n",
    "\n",
    "#### Import your module using `import mynumbers` and play around with creating complex and dual numbers.\n",
    "\n",
    "### Part 2\n",
    "Once you're happy with your module, make the following change:\n",
    "* Rename the `Complex` subclass as `_Complex`\n",
    "* Now import your module using `from mynumbers import *`\n",
    "* Try to create a complex number.  What happens?\n",
    "  * **Note:** You can use `dir()` to see what's in your namespace.\n",
    "\n",
    "### Part 3\n",
    "This part is open-ended.  Can you think of a situation in which you may want to use name-mangling for this problem?  Think about a case where a subclass might redefine a method or name from the superclass, but the superclass should still have access to the name."
   ]
  },
  {
   "cell_type": "markdown",
   "metadata": {},
   "source": [
    "### Part 1"
   ]
  },
  {
   "cell_type": "code",
   "execution_count": 3,
   "metadata": {},
   "outputs": [],
   "source": [
    "import mymodule.mynumbers as mynum         "
   ]
  },
  {
   "cell_type": "code",
   "execution_count": 29,
   "metadata": {},
   "outputs": [
    {
     "data": {
      "text/plain": [
       "['Complex',\n",
       " 'Dual',\n",
       " 'RealExtensions',\n",
       " '__builtins__',\n",
       " '__cached__',\n",
       " '__doc__',\n",
       " '__file__',\n",
       " '__loader__',\n",
       " '__name__',\n",
       " '__package__',\n",
       " '__spec__',\n",
       " 'math']"
      ]
     },
     "execution_count": 29,
     "metadata": {},
     "output_type": "execute_result"
    }
   ],
   "source": [
    "dir(mynum)"
   ]
  },
  {
   "cell_type": "code",
   "execution_count": 30,
   "metadata": {
    "collapsed": true
   },
   "outputs": [],
   "source": [
    "comp1 = mynum.Complex(1, 1)"
   ]
  },
  {
   "cell_type": "code",
   "execution_count": 31,
   "metadata": {},
   "outputs": [
    {
     "data": {
      "text/plain": [
       "1.4142135623730951"
      ]
     },
     "execution_count": 31,
     "metadata": {},
     "output_type": "execute_result"
    }
   ],
   "source": [
    "comp1._magnitude()"
   ]
  },
  {
   "cell_type": "markdown",
   "metadata": {},
   "source": [
    "angle is in radians"
   ]
  },
  {
   "cell_type": "code",
   "execution_count": 32,
   "metadata": {},
   "outputs": [
    {
     "data": {
      "text/plain": [
       "0.7853981633974483"
      ]
     },
     "execution_count": 32,
     "metadata": {},
     "output_type": "execute_result"
    }
   ],
   "source": [
    "comp1._angle()"
   ]
  },
  {
   "cell_type": "code",
   "execution_count": 33,
   "metadata": {
    "collapsed": true
   },
   "outputs": [],
   "source": [
    "dual1 = mynumbers.Dual(1, 2)"
   ]
  },
  {
   "cell_type": "code",
   "execution_count": 34,
   "metadata": {},
   "outputs": [
    {
     "data": {
      "text/plain": [
       "1"
      ]
     },
     "execution_count": 34,
     "metadata": {},
     "output_type": "execute_result"
    }
   ],
   "source": [
    "dual1._magnitude()"
   ]
  },
  {
   "cell_type": "code",
   "execution_count": 35,
   "metadata": {},
   "outputs": [
    {
     "data": {
      "text/plain": [
       "1.1071487177940906"
      ]
     },
     "execution_count": 35,
     "metadata": {},
     "output_type": "execute_result"
    }
   ],
   "source": [
    "dual1._angle()"
   ]
  },
  {
   "cell_type": "markdown",
   "metadata": {},
   "source": [
    "### Part 2"
   ]
  },
  {
   "cell_type": "code",
   "execution_count": 40,
   "metadata": {
    "collapsed": true
   },
   "outputs": [],
   "source": [
    "from mymodule.mynumbers import *"
   ]
  },
  {
   "cell_type": "code",
   "execution_count": 41,
   "metadata": {},
   "outputs": [
    {
     "ename": "AttributeError",
     "evalue": "module 'mynumbers' has no attribute '_Complex'",
     "output_type": "error",
     "traceback": [
      "\u001b[0;31m---------------------------------------------------------------------------\u001b[0m",
      "\u001b[0;31mAttributeError\u001b[0m                            Traceback (most recent call last)",
      "\u001b[0;32m<ipython-input-41-9a584d207c84>\u001b[0m in \u001b[0;36m<module>\u001b[0;34m()\u001b[0m\n\u001b[0;32m----> 1\u001b[0;31m \u001b[0mcomp2\u001b[0m \u001b[0;34m=\u001b[0m \u001b[0mmynumbers\u001b[0m\u001b[0;34m.\u001b[0m\u001b[0m_Complex\u001b[0m\u001b[0;34m(\u001b[0m\u001b[0;36m1\u001b[0m\u001b[0;34m,\u001b[0m \u001b[0;36m1\u001b[0m\u001b[0;34m)\u001b[0m\u001b[0;34m\u001b[0m\u001b[0m\n\u001b[0m",
      "\u001b[0;31mAttributeError\u001b[0m: module 'mynumbers' has no attribute '_Complex'"
     ]
    }
   ],
   "source": [
    "comp2 = mynumbers._Complex(1, 1)"
   ]
  },
  {
   "cell_type": "code",
   "execution_count": 42,
   "metadata": {},
   "outputs": [
    {
     "data": {
      "text/plain": [
       "['Complex',\n",
       " 'Dual',\n",
       " 'RealExtensions',\n",
       " '__builtins__',\n",
       " '__cached__',\n",
       " '__doc__',\n",
       " '__file__',\n",
       " '__loader__',\n",
       " '__name__',\n",
       " '__package__',\n",
       " '__spec__',\n",
       " 'math']"
      ]
     },
     "execution_count": 42,
     "metadata": {},
     "output_type": "execute_result"
    }
   ],
   "source": [
    "dir(mynumbers)"
   ]
  },
  {
   "cell_type": "markdown",
   "metadata": {},
   "source": [
    "We cannot create a complex number by _Complex()"
   ]
  },
  {
   "cell_type": "markdown",
   "metadata": {},
   "source": [
    "### Part 3"
   ]
  },
  {
   "cell_type": "markdown",
   "metadata": {},
   "source": [
    "When we want to use a variable to store the real part and the imaginary part of a complex number, we would create a variable called 'storage', and if we do not want user to change these numbers, we would add double underscore in front of the variable's name i.e. __storage. Therefore, we keep it 'private' in python. "
   ]
  }
 ],
 "metadata": {
  "kernelspec": {
   "display_name": "Python 3",
   "language": "python",
   "name": "python3"
  },
  "language_info": {
   "codemirror_mode": {
    "name": "ipython",
    "version": 3
   },
   "file_extension": ".py",
   "mimetype": "text/x-python",
   "name": "python",
   "nbconvert_exporter": "python",
   "pygments_lexer": "ipython3",
   "version": "3.6.1"
  }
 },
 "nbformat": 4,
 "nbformat_minor": 2
}
